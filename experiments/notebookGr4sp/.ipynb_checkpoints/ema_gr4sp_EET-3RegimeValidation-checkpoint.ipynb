{
 "cells": [
  {
   "cell_type": "markdown",
   "metadata": {},
   "source": [
    "## Initial setup\n",
    "This notebook has the analysis validation of the third regime using changes on base prices from different technologies.\n"
   ]
  },
  {
   "cell_type": "code",
   "execution_count": 21,
   "metadata": {
    "ExecuteTime": {
     "end_time": "2021-03-22T01:16:25.274885Z",
     "start_time": "2021-03-22T01:16:25.257929Z"
    },
    "pycharm": {
     "name": "#%%\n"
    },
    "scrolled": true
   },
   "outputs": [],
   "source": [
    "\n",
    "'''\n",
    "By Angela M. Rojas A. <angelara@student.unimelb.edu.au>\n",
    "\n",
    "Created on 2 March 2021\n",
    "\n",
    "'''\n",
    "import sys\n",
    "import os\n",
    "\n",
    "sys.path.append(r'C:\\Users\\angel\\Documents\\GitHub\\gr4sp\\experiments\\EMAworkbench')\n",
    "\n",
    "sys.path.append(r'C:\\Users\\angel\\Documents\\GitHub\\gr4sp\\experiments')\n",
    "\n",
    "#from ema_workbench.analysis.plotting_util import BOXPLOT, KDE, VIOLIN\n",
    "from ema_workbench.analysis.plotting import envelopes\n",
    "import matplotlib.pyplot as plt\n",
    "import numpy as np\n",
    "import pandas as pd\n",
    "import matplotlib.cm as cm\n",
    "import seaborn as sns\n",
    "from ema_workbench.analysis import prim\n",
    "#import pareto\n",
    "import os\n",
    "import glob\n",
    "import numpy as np\n",
    "import pandas as pd\n",
    "import os\n",
    "import glob\n",
    "from matplotlib.pyplot import figure\n",
    "from matplotlib.legend_handler import HandlerLine2D\n",
    "import statistics\n",
    "import matplotlib.patches as mpatches\n",
    "\n",
    "includePlots = True"
   ]
  },
  {
   "cell_type": "markdown",
   "metadata": {},
   "source": [
    "## Load Historical data for vaildation \n",
    "The following files include historic data on GHGE, tariffs and wholesale prices for validation.\n",
    "\n"
   ]
  },
  {
   "cell_type": "markdown",
   "metadata": {},
   "source": [
    "### GHGE Historic\n",
    "\n",
    "The key role of decarbonising the electricity sector in Victoria: The electricity sector in Victoria accounted for more than half of emissions in 2016. After the retirement of Hazelwood, this contribution still sited at 42% of the state's emissions. At the validation date (2020), historic emissions data for the electricity sector in Victoria is only available until 2017. 2018 number has been assumed to be 2017 (56.1) value minus a net reduction of 11.8 MtCO2-e given the retirement of Hazelwood in 2017.\n",
    "Sources of data:\n",
    "- https://engage.vic.gov.au/climate-change-reducing-victorias-greenhouse-gas-emissions\n",
    "- https://www.climatechange.vic.gov.au/information-and-resources/greenhouse-gas-emissions-in-victoria\n",
    "- https://www.climatechange.vic.gov.au/__data/assets/pdf_file/0033/395079/Victorian-Greenhouse-Gas-Emissions-Report-2018.pdf\n",
    "- https://www.climatechange.vic.gov.au/__data/assets/pdf_file/0016/443014/Victorian-Greenhouse-Gas-Emissions-Report-2019.pdf"
   ]
  },
  {
   "cell_type": "code",
   "execution_count": 22,
   "metadata": {
    "ExecuteTime": {
     "end_time": "2021-03-22T01:16:26.161094Z",
     "start_time": "2021-03-22T01:16:26.132171Z"
    }
   },
   "outputs": [
    {
     "data": {
      "text/html": [
       "<div>\n",
       "<style scoped>\n",
       "    .dataframe tbody tr th:only-of-type {\n",
       "        vertical-align: middle;\n",
       "    }\n",
       "\n",
       "    .dataframe tbody tr th {\n",
       "        vertical-align: top;\n",
       "    }\n",
       "\n",
       "    .dataframe thead th {\n",
       "        text-align: right;\n",
       "    }\n",
       "</style>\n",
       "<table border=\"1\" class=\"dataframe\">\n",
       "  <thead>\n",
       "    <tr style=\"text-align: right;\">\n",
       "      <th></th>\n",
       "      <th>Hist_GHGE_MtCO2e</th>\n",
       "    </tr>\n",
       "    <tr>\n",
       "      <th>Time (Year)</th>\n",
       "      <th></th>\n",
       "    </tr>\n",
       "  </thead>\n",
       "  <tbody>\n",
       "    <tr>\n",
       "      <th>1990</th>\n",
       "      <td>44.2</td>\n",
       "    </tr>\n",
       "    <tr>\n",
       "      <th>1991</th>\n",
       "      <td>46.3</td>\n",
       "    </tr>\n",
       "    <tr>\n",
       "      <th>1992</th>\n",
       "      <td>47.5</td>\n",
       "    </tr>\n",
       "    <tr>\n",
       "      <th>1993</th>\n",
       "      <td>45.3</td>\n",
       "    </tr>\n",
       "    <tr>\n",
       "      <th>1994</th>\n",
       "      <td>45.5</td>\n",
       "    </tr>\n",
       "    <tr>\n",
       "      <th>1995</th>\n",
       "      <td>47.8</td>\n",
       "    </tr>\n",
       "    <tr>\n",
       "      <th>1996</th>\n",
       "      <td>49.9</td>\n",
       "    </tr>\n",
       "    <tr>\n",
       "      <th>1997</th>\n",
       "      <td>52.6</td>\n",
       "    </tr>\n",
       "    <tr>\n",
       "      <th>1998</th>\n",
       "      <td>59.2</td>\n",
       "    </tr>\n",
       "    <tr>\n",
       "      <th>1999</th>\n",
       "      <td>61.8</td>\n",
       "    </tr>\n",
       "  </tbody>\n",
       "</table>\n",
       "</div>"
      ],
      "text/plain": [
       "             Hist_GHGE_MtCO2e\n",
       "Time (Year)                  \n",
       "1990                     44.2\n",
       "1991                     46.3\n",
       "1992                     47.5\n",
       "1993                     45.3\n",
       "1994                     45.5\n",
       "1995                     47.8\n",
       "1996                     49.9\n",
       "1997                     52.6\n",
       "1998                     59.2\n",
       "1999                     61.8"
      ]
     },
     "execution_count": 22,
     "metadata": {},
     "output_type": "execute_result"
    }
   ],
   "source": [
    "# CSV is built based on the information available in the previous sources \n",
    "historic_emissions_df = pd.read_csv(r'C:/Users/angel/Documents/GitHub/gr4sp/experiments/simulationData/19902018_historic_emissions_Vic.csv', index_col='Time (Year)')\n",
    "historic_emissions_df.head(10)"
   ]
  },
  {
   "cell_type": "markdown",
   "metadata": {},
   "source": [
    "### Wholesale historic\n",
    "Wholesale data can be found since 2005 in a monthly basis. Therefore, the monthly summary report is used for this validation. \n",
    "Sources of data:\n",
    "- https://opennem.org.au/energy/vic1/"
   ]
  },
  {
   "cell_type": "code",
   "execution_count": 23,
   "metadata": {
    "ExecuteTime": {
     "end_time": "2021-03-22T01:16:27.073445Z",
     "start_time": "2021-03-22T01:16:27.030195Z"
    }
   },
   "outputs": [
    {
     "data": {
      "text/html": [
       "<div>\n",
       "<style scoped>\n",
       "    .dataframe tbody tr th:only-of-type {\n",
       "        vertical-align: middle;\n",
       "    }\n",
       "\n",
       "    .dataframe tbody tr th {\n",
       "        vertical-align: top;\n",
       "    }\n",
       "\n",
       "    .dataframe thead th {\n",
       "        text-align: right;\n",
       "    }\n",
       "</style>\n",
       "<table border=\"1\" class=\"dataframe\">\n",
       "  <thead>\n",
       "    <tr style=\"text-align: right;\">\n",
       "      <th></th>\n",
       "      <th>Temperature - C</th>\n",
       "      <th>Solar (Rooftop) Market Value - $</th>\n",
       "      <th>Solar (Rooftop) - GWh</th>\n",
       "      <th>Solar (Utility) Market Value - $</th>\n",
       "      <th>Solar (Utility) - GWh</th>\n",
       "      <th>Wind Market Value - $</th>\n",
       "      <th>Wind - GWh</th>\n",
       "      <th>Hydro Market Value - $</th>\n",
       "      <th>Hydro - GWh</th>\n",
       "      <th>Battery (Discharging) Market Value - $</th>\n",
       "      <th>...</th>\n",
       "      <th>Wind Market Value - $/MWh</th>\n",
       "      <th>Hydro Market Value - $/MWh</th>\n",
       "      <th>Battery (Discharging) Market Value - $/MWh</th>\n",
       "      <th>Gas (OCGT) Market Value - $/MWh</th>\n",
       "      <th>Gas (Steam) Market Value - $/MWh</th>\n",
       "      <th>Brown Coal Market Value - $/MWh</th>\n",
       "      <th>Imports Market Value - $/MWh</th>\n",
       "      <th>Exports Market Value - $/MWh</th>\n",
       "      <th>Volume Weighted Price (Historic) - $/MWh</th>\n",
       "      <th>Imports % from wholesale price</th>\n",
       "    </tr>\n",
       "    <tr>\n",
       "      <th>Time (Month)</th>\n",
       "      <th></th>\n",
       "      <th></th>\n",
       "      <th></th>\n",
       "      <th></th>\n",
       "      <th></th>\n",
       "      <th></th>\n",
       "      <th></th>\n",
       "      <th></th>\n",
       "      <th></th>\n",
       "      <th></th>\n",
       "      <th></th>\n",
       "      <th></th>\n",
       "      <th></th>\n",
       "      <th></th>\n",
       "      <th></th>\n",
       "      <th></th>\n",
       "      <th></th>\n",
       "      <th></th>\n",
       "      <th></th>\n",
       "      <th></th>\n",
       "      <th></th>\n",
       "    </tr>\n",
       "  </thead>\n",
       "  <tbody>\n",
       "    <tr>\n",
       "      <th>2005-04-01</th>\n",
       "      <td>NaN</td>\n",
       "      <td>0.0</td>\n",
       "      <td>0.0</td>\n",
       "      <td>0.0</td>\n",
       "      <td>0.0</td>\n",
       "      <td>0.0</td>\n",
       "      <td>0.0</td>\n",
       "      <td>11848263.30</td>\n",
       "      <td>304.50</td>\n",
       "      <td>0.0</td>\n",
       "      <td>...</td>\n",
       "      <td>0.0</td>\n",
       "      <td>38.910553</td>\n",
       "      <td>0.0</td>\n",
       "      <td>44.023585</td>\n",
       "      <td>39.220646</td>\n",
       "      <td>30.605720</td>\n",
       "      <td>38.289921</td>\n",
       "      <td>-19.009200</td>\n",
       "      <td>31.809904</td>\n",
       "      <td>20%</td>\n",
       "    </tr>\n",
       "    <tr>\n",
       "      <th>2005-05-01</th>\n",
       "      <td>NaN</td>\n",
       "      <td>0.0</td>\n",
       "      <td>0.0</td>\n",
       "      <td>0.0</td>\n",
       "      <td>0.0</td>\n",
       "      <td>0.0</td>\n",
       "      <td>0.0</td>\n",
       "      <td>8161908.91</td>\n",
       "      <td>260.01</td>\n",
       "      <td>0.0</td>\n",
       "      <td>...</td>\n",
       "      <td>0.0</td>\n",
       "      <td>31.390750</td>\n",
       "      <td>0.0</td>\n",
       "      <td>35.260919</td>\n",
       "      <td>35.709309</td>\n",
       "      <td>24.667570</td>\n",
       "      <td>31.791585</td>\n",
       "      <td>-18.044240</td>\n",
       "      <td>25.330109</td>\n",
       "      <td>26%</td>\n",
       "    </tr>\n",
       "    <tr>\n",
       "      <th>2005-06-01</th>\n",
       "      <td>NaN</td>\n",
       "      <td>0.0</td>\n",
       "      <td>0.0</td>\n",
       "      <td>0.0</td>\n",
       "      <td>0.0</td>\n",
       "      <td>0.0</td>\n",
       "      <td>0.0</td>\n",
       "      <td>6597447.23</td>\n",
       "      <td>200.71</td>\n",
       "      <td>0.0</td>\n",
       "      <td>...</td>\n",
       "      <td>0.0</td>\n",
       "      <td>32.870546</td>\n",
       "      <td>0.0</td>\n",
       "      <td>50.142422</td>\n",
       "      <td>37.533559</td>\n",
       "      <td>23.616642</td>\n",
       "      <td>30.781600</td>\n",
       "      <td>-17.572286</td>\n",
       "      <td>24.249596</td>\n",
       "      <td>27%</td>\n",
       "    </tr>\n",
       "    <tr>\n",
       "      <th>2005-07-01</th>\n",
       "      <td>NaN</td>\n",
       "      <td>0.0</td>\n",
       "      <td>0.0</td>\n",
       "      <td>0.0</td>\n",
       "      <td>0.0</td>\n",
       "      <td>0.0</td>\n",
       "      <td>0.0</td>\n",
       "      <td>7421383.61</td>\n",
       "      <td>182.63</td>\n",
       "      <td>0.0</td>\n",
       "      <td>...</td>\n",
       "      <td>0.0</td>\n",
       "      <td>40.636169</td>\n",
       "      <td>0.0</td>\n",
       "      <td>56.781103</td>\n",
       "      <td>39.030981</td>\n",
       "      <td>26.668752</td>\n",
       "      <td>32.787615</td>\n",
       "      <td>-17.823924</td>\n",
       "      <td>27.651352</td>\n",
       "      <td>19%</td>\n",
       "    </tr>\n",
       "    <tr>\n",
       "      <th>2005-08-01</th>\n",
       "      <td>NaN</td>\n",
       "      <td>0.0</td>\n",
       "      <td>0.0</td>\n",
       "      <td>0.0</td>\n",
       "      <td>0.0</td>\n",
       "      <td>0.0</td>\n",
       "      <td>0.0</td>\n",
       "      <td>10855283.83</td>\n",
       "      <td>207.39</td>\n",
       "      <td>0.0</td>\n",
       "      <td>...</td>\n",
       "      <td>0.0</td>\n",
       "      <td>52.342369</td>\n",
       "      <td>0.0</td>\n",
       "      <td>98.739498</td>\n",
       "      <td>60.657385</td>\n",
       "      <td>30.161182</td>\n",
       "      <td>39.640099</td>\n",
       "      <td>-16.523324</td>\n",
       "      <td>32.022126</td>\n",
       "      <td>24%</td>\n",
       "    </tr>\n",
       "  </tbody>\n",
       "</table>\n",
       "<p>5 rows × 34 columns</p>\n",
       "</div>"
      ],
      "text/plain": [
       "              Temperature - C  Solar (Rooftop) Market Value - $  \\\n",
       "Time (Month)                                                      \n",
       "2005-04-01                NaN                               0.0   \n",
       "2005-05-01                NaN                               0.0   \n",
       "2005-06-01                NaN                               0.0   \n",
       "2005-07-01                NaN                               0.0   \n",
       "2005-08-01                NaN                               0.0   \n",
       "\n",
       "              Solar (Rooftop) - GWh  Solar (Utility) Market Value - $  \\\n",
       "Time (Month)                                                            \n",
       "2005-04-01                      0.0                               0.0   \n",
       "2005-05-01                      0.0                               0.0   \n",
       "2005-06-01                      0.0                               0.0   \n",
       "2005-07-01                      0.0                               0.0   \n",
       "2005-08-01                      0.0                               0.0   \n",
       "\n",
       "              Solar (Utility) - GWh  Wind Market Value - $  Wind - GWh  \\\n",
       "Time (Month)                                                             \n",
       "2005-04-01                      0.0                    0.0         0.0   \n",
       "2005-05-01                      0.0                    0.0         0.0   \n",
       "2005-06-01                      0.0                    0.0         0.0   \n",
       "2005-07-01                      0.0                    0.0         0.0   \n",
       "2005-08-01                      0.0                    0.0         0.0   \n",
       "\n",
       "              Hydro Market Value - $  Hydro - GWh  \\\n",
       "Time (Month)                                        \n",
       "2005-04-01               11848263.30       304.50   \n",
       "2005-05-01                8161908.91       260.01   \n",
       "2005-06-01                6597447.23       200.71   \n",
       "2005-07-01                7421383.61       182.63   \n",
       "2005-08-01               10855283.83       207.39   \n",
       "\n",
       "              Battery (Discharging) Market Value - $  ...  \\\n",
       "Time (Month)                                          ...   \n",
       "2005-04-01                                       0.0  ...   \n",
       "2005-05-01                                       0.0  ...   \n",
       "2005-06-01                                       0.0  ...   \n",
       "2005-07-01                                       0.0  ...   \n",
       "2005-08-01                                       0.0  ...   \n",
       "\n",
       "              Wind Market Value - $/MWh  Hydro Market Value - $/MWh  \\\n",
       "Time (Month)                                                          \n",
       "2005-04-01                          0.0                   38.910553   \n",
       "2005-05-01                          0.0                   31.390750   \n",
       "2005-06-01                          0.0                   32.870546   \n",
       "2005-07-01                          0.0                   40.636169   \n",
       "2005-08-01                          0.0                   52.342369   \n",
       "\n",
       "              Battery (Discharging) Market Value - $/MWh  \\\n",
       "Time (Month)                                               \n",
       "2005-04-01                                           0.0   \n",
       "2005-05-01                                           0.0   \n",
       "2005-06-01                                           0.0   \n",
       "2005-07-01                                           0.0   \n",
       "2005-08-01                                           0.0   \n",
       "\n",
       "              Gas (OCGT) Market Value - $/MWh  \\\n",
       "Time (Month)                                    \n",
       "2005-04-01                          44.023585   \n",
       "2005-05-01                          35.260919   \n",
       "2005-06-01                          50.142422   \n",
       "2005-07-01                          56.781103   \n",
       "2005-08-01                          98.739498   \n",
       "\n",
       "              Gas (Steam) Market Value - $/MWh  \\\n",
       "Time (Month)                                     \n",
       "2005-04-01                           39.220646   \n",
       "2005-05-01                           35.709309   \n",
       "2005-06-01                           37.533559   \n",
       "2005-07-01                           39.030981   \n",
       "2005-08-01                           60.657385   \n",
       "\n",
       "              Brown Coal Market Value - $/MWh  Imports Market Value - $/MWh  \\\n",
       "Time (Month)                                                                  \n",
       "2005-04-01                          30.605720                     38.289921   \n",
       "2005-05-01                          24.667570                     31.791585   \n",
       "2005-06-01                          23.616642                     30.781600   \n",
       "2005-07-01                          26.668752                     32.787615   \n",
       "2005-08-01                          30.161182                     39.640099   \n",
       "\n",
       "              Exports Market Value - $/MWh  \\\n",
       "Time (Month)                                 \n",
       "2005-04-01                      -19.009200   \n",
       "2005-05-01                      -18.044240   \n",
       "2005-06-01                      -17.572286   \n",
       "2005-07-01                      -17.823924   \n",
       "2005-08-01                      -16.523324   \n",
       "\n",
       "              Volume Weighted Price (Historic) - $/MWh  \\\n",
       "Time (Month)                                             \n",
       "2005-04-01                                   31.809904   \n",
       "2005-05-01                                   25.330109   \n",
       "2005-06-01                                   24.249596   \n",
       "2005-07-01                                   27.651352   \n",
       "2005-08-01                                   32.022126   \n",
       "\n",
       "              Imports % from wholesale price  \n",
       "Time (Month)                                  \n",
       "2005-04-01                               20%  \n",
       "2005-05-01                               26%  \n",
       "2005-06-01                               27%  \n",
       "2005-07-01                               19%  \n",
       "2005-08-01                               24%  \n",
       "\n",
       "[5 rows x 34 columns]"
      ]
     },
     "execution_count": 23,
     "metadata": {},
     "output_type": "execute_result"
    }
   ],
   "source": [
    "historic_wholesale_df = pd.read_csv(r'C:/Users/angel/Documents/GitHub/gr4sp/experiments/simulationData/2005_2020_OpenNemDataV1.csv', index_col='Time (Month)')\n",
    "historic_wholesale_df.index = pd.to_datetime(historic_wholesale_df.index)\n",
    "\n",
    "historic_wholesale_df.head(5)"
   ]
  },
  {
   "cell_type": "markdown",
   "metadata": {},
   "source": [
    "### Tariffs historic\n",
    "\n",
    "Different sources where used to construct a historic dataset of average electricity tariffs.\n",
    "- Historic data found in the [ACCC report](https://www.accc.gov.au/system/files/Victorian%20Electricity%20Distribution%20Networks.pdf) from 2017. This data is from a household in VIC that use 4000 KWh/year, has gas water heating. The report has data for the years 1995, 2001, 2002, and from 2007 to 2017. But data is used from 2001. Since the data is given as total bill per year in /$, the price per KWh is computed as (AnnualBill/4000KWh)*100, to get the value in c/kWh.\n",
    "- [St. Vinnies historic data](https://www.vinnies.org.au/page/Our_Impact/Incomes_Support_Cost_of_Living/Energy/VIC/) on tariffs per retailer and distribution area. This data has been collected since 2010, every quarter of the year. I used the ‘first block’ charges to calculate the average charge of usage in c/KWh. \n",
    "\n",
    "Prices from the reports and data sources are adjusted to 2019 values as simulatied tariffs are presented in real terms for the base year of 2019.\n"
   ]
  },
  {
   "cell_type": "code",
   "execution_count": 24,
   "metadata": {
    "ExecuteTime": {
     "end_time": "2021-03-22T01:16:27.996537Z",
     "start_time": "2021-03-22T01:16:27.967612Z"
    }
   },
   "outputs": [
    {
     "data": {
      "text/html": [
       "<div>\n",
       "<style scoped>\n",
       "    .dataframe tbody tr th:only-of-type {\n",
       "        vertical-align: middle;\n",
       "    }\n",
       "\n",
       "    .dataframe tbody tr th {\n",
       "        vertical-align: top;\n",
       "    }\n",
       "\n",
       "    .dataframe thead th {\n",
       "        text-align: right;\n",
       "    }\n",
       "</style>\n",
       "<table border=\"1\" class=\"dataframe\">\n",
       "  <thead>\n",
       "    <tr style=\"text-align: right;\">\n",
       "      <th></th>\n",
       "      <th>St Vinnies Historic c/kWh (2019)</th>\n",
       "      <th>Historic price from review c/KWh (2019)</th>\n",
       "    </tr>\n",
       "    <tr>\n",
       "      <th>Time (Year)</th>\n",
       "      <th></th>\n",
       "      <th></th>\n",
       "    </tr>\n",
       "  </thead>\n",
       "  <tbody>\n",
       "    <tr>\n",
       "      <th>2001</th>\n",
       "      <td>NaN</td>\n",
       "      <td>27.32</td>\n",
       "    </tr>\n",
       "    <tr>\n",
       "      <th>2002</th>\n",
       "      <td>NaN</td>\n",
       "      <td>27.03</td>\n",
       "    </tr>\n",
       "    <tr>\n",
       "      <th>2003</th>\n",
       "      <td>NaN</td>\n",
       "      <td>NaN</td>\n",
       "    </tr>\n",
       "    <tr>\n",
       "      <th>2004</th>\n",
       "      <td>NaN</td>\n",
       "      <td>NaN</td>\n",
       "    </tr>\n",
       "    <tr>\n",
       "      <th>2005</th>\n",
       "      <td>NaN</td>\n",
       "      <td>NaN</td>\n",
       "    </tr>\n",
       "    <tr>\n",
       "      <th>2006</th>\n",
       "      <td>NaN</td>\n",
       "      <td>NaN</td>\n",
       "    </tr>\n",
       "    <tr>\n",
       "      <th>2007</th>\n",
       "      <td>NaN</td>\n",
       "      <td>23.38</td>\n",
       "    </tr>\n",
       "    <tr>\n",
       "      <th>2008</th>\n",
       "      <td>NaN</td>\n",
       "      <td>25.55</td>\n",
       "    </tr>\n",
       "    <tr>\n",
       "      <th>2009</th>\n",
       "      <td>NaN</td>\n",
       "      <td>27.74</td>\n",
       "    </tr>\n",
       "    <tr>\n",
       "      <th>2010</th>\n",
       "      <td>19.15</td>\n",
       "      <td>30.77</td>\n",
       "    </tr>\n",
       "  </tbody>\n",
       "</table>\n",
       "</div>"
      ],
      "text/plain": [
       "             St Vinnies Historic c/kWh (2019)   \\\n",
       "Time (Year)                                      \n",
       "2001                                       NaN   \n",
       "2002                                       NaN   \n",
       "2003                                       NaN   \n",
       "2004                                       NaN   \n",
       "2005                                       NaN   \n",
       "2006                                       NaN   \n",
       "2007                                       NaN   \n",
       "2008                                       NaN   \n",
       "2009                                       NaN   \n",
       "2010                                     19.15   \n",
       "\n",
       "             Historic price from review c/KWh (2019)  \n",
       "Time (Year)                                           \n",
       "2001                                           27.32  \n",
       "2002                                           27.03  \n",
       "2003                                             NaN  \n",
       "2004                                             NaN  \n",
       "2005                                             NaN  \n",
       "2006                                             NaN  \n",
       "2007                                           23.38  \n",
       "2008                                           25.55  \n",
       "2009                                           27.74  \n",
       "2010                                           30.77  "
      ]
     },
     "execution_count": 24,
     "metadata": {},
     "output_type": "execute_result"
    }
   ],
   "source": [
    "# historic average tariffs in c/kWh (real 2019) filtered from reports\n",
    "yearly_historic_tariffs = pd.read_csv(r'C:/Users/angel/Documents/GitHub/gr4sp/experiments/simulationData/2001to2019_historicTariffs.csv', index_col='Time (Year)')\n",
    "yearly_historic_tariffs.head(10)"
   ]
  },
  {
   "cell_type": "markdown",
   "metadata": {},
   "source": [
    "## Load the results\n",
    "These results are a tuple of one data frame with the changes on each input variable, and a dictionary with the outputs. "
   ]
  },
  {
   "cell_type": "code",
   "execution_count": 25,
   "metadata": {
    "ExecuteTime": {
     "end_time": "2021-03-22T01:18:22.312376Z",
     "start_time": "2021-03-22T01:16:28.887237Z"
    },
    "pycharm": {
     "name": "#%%\n"
    }
   },
   "outputs": [],
   "source": [
    "from ema_workbench import load_results\n",
    "\n",
    "#results = load_results(r'C:/Users/angel/Documents/GitHub/gr4sp/experiments/simulationData/gr4sp_EET3Regime2021-Mar-01.tar.gz')\n",
    "#results = load_results(r'C:/Users/angel/Documents/GitHub/gr4sp/experiments/simulationData/gr4sp_SOBOL-HypoPast-2021-Jan-20.tar.gz')\n",
    "results = load_results(r'C:/Users/angel/Documents/GitHub/gr4sp/experiments/simulationData/gr4sp_SOBOLhypopast2021-Mar-03_includ_wholesale_month.tar.gz')\n"
   ]
  },
  {
   "cell_type": "code",
   "execution_count": 26,
   "metadata": {
    "ExecuteTime": {
     "end_time": "2021-03-22T01:18:23.365929Z",
     "start_time": "2021-03-22T01:18:23.220125Z"
    }
   },
   "outputs": [],
   "source": [
    "experiments, outcomes = results\n",
    "\n",
    "# Create a temporary copy of dictionary, with Outcomes Year\n",
    "outcomesYear = dict(outcomes)\n",
    "\n",
    "keysToRemove = [] \n",
    "# Iterate over the temporary dictionary and delete corresponding key from original dictionary\n",
    "for (key, value) in outcomesYear.items() :\n",
    "    if 'Month' in key:\n",
    "        keysToRemove.append(key)\n",
    "        \n",
    "for k in keysToRemove:        \n",
    "    del outcomesYear[k]   \n",
    "    \n",
    "        "
   ]
  },
  {
   "cell_type": "markdown",
   "metadata": {},
   "source": [
    "Code to remove a Nan experiment if existent\n",
    "\n",
    "Run this code to find the experiment that needs to be removed:\n",
    "\n",
    "```python\n",
    "\toutcome_df = dict()\n",
    "\tfor k in outcomes.keys():\n",
    "\t     outcome_df[k] = pd.DataFrame.from_dict(outcomes[k])\n",
    "\t    \n",
    "\t\n",
    "\tfor k in outcomes.keys():\n",
    "\t    print(outcome_df[k][outcome_df[k].isna().any(axis=1)])\n",
    "\n",
    "```\n",
    "\n",
    "and then use the ``id`` of the experiment and remove it with the code below"
   ]
  },
  {
   "cell_type": "code",
   "execution_count": 27,
   "metadata": {
    "ExecuteTime": {
     "end_time": "2021-03-22T01:18:25.076337Z",
     "start_time": "2021-03-22T01:18:24.195792Z"
    }
   },
   "outputs": [],
   "source": [
    "outcomes_wo_nan = {}\n",
    "for k in outcomes.keys():\n",
    "    l1 = outcomes[k][0:41357]\n",
    "    l2 = outcomes[k][41357+1:41379]\n",
    "    l3 = outcomes[k][41379+1:]\n",
    "    outcomes_wo_nan[k] = np.concatenate((l1,l2,l3))\n",
    "outcomes = outcomes_wo_nan\n"
   ]
  },
  {
   "cell_type": "code",
   "execution_count": 28,
   "metadata": {
    "ExecuteTime": {
     "end_time": "2021-03-22T01:18:26.107158Z",
     "start_time": "2021-03-22T01:18:25.930738Z"
    }
   },
   "outputs": [
    {
     "data": {
      "text/html": [
       "<div>\n",
       "<style scoped>\n",
       "    .dataframe tbody tr th:only-of-type {\n",
       "        vertical-align: middle;\n",
       "    }\n",
       "\n",
       "    .dataframe tbody tr th {\n",
       "        vertical-align: top;\n",
       "    }\n",
       "\n",
       "    .dataframe thead th {\n",
       "        text-align: right;\n",
       "    }\n",
       "</style>\n",
       "<table border=\"1\" class=\"dataframe\">\n",
       "  <thead>\n",
       "    <tr style=\"text-align: right;\">\n",
       "      <th></th>\n",
       "      <th>consumption</th>\n",
       "      <th>domesticConsumptionPercentage</th>\n",
       "      <th>generationRolloutPeriod</th>\n",
       "      <th>importPriceFactor</th>\n",
       "      <th>includePublicallyAnnouncedGen</th>\n",
       "      <th>learningCurve</th>\n",
       "      <th>nameplateCapacityChangeBattery</th>\n",
       "      <th>nameplateCapacityChangeBrownCoal</th>\n",
       "      <th>nameplateCapacityChangeOcgt</th>\n",
       "      <th>nameplateCapacityChangeSolar</th>\n",
       "      <th>...</th>\n",
       "      <th>priceChangePercentageBattery</th>\n",
       "      <th>priceChangePercentageBrownCoal</th>\n",
       "      <th>priceChangePercentageOcgt</th>\n",
       "      <th>priceChangePercentageWater</th>\n",
       "      <th>priceChangePercentageWind</th>\n",
       "      <th>semiScheduleGenSpotMarket</th>\n",
       "      <th>semiScheduleMinCapMarketGen</th>\n",
       "      <th>solarUptake</th>\n",
       "      <th>technologicalImprovement</th>\n",
       "      <th>wholesaleTariffContribution</th>\n",
       "    </tr>\n",
       "  </thead>\n",
       "  <tbody>\n",
       "    <tr>\n",
       "      <th>count</th>\n",
       "      <td>105000.000000</td>\n",
       "      <td>105000.000000</td>\n",
       "      <td>105000.000000</td>\n",
       "      <td>105000.000000</td>\n",
       "      <td>105000.000000</td>\n",
       "      <td>105000.000000</td>\n",
       "      <td>105000.000000</td>\n",
       "      <td>105000.000000</td>\n",
       "      <td>105000.000000</td>\n",
       "      <td>105000.000000</td>\n",
       "      <td>...</td>\n",
       "      <td>105000.000000</td>\n",
       "      <td>105000.000000</td>\n",
       "      <td>105000.000000</td>\n",
       "      <td>105000.000000</td>\n",
       "      <td>105000.000000</td>\n",
       "      <td>105000.0000</td>\n",
       "      <td>105000.000000</td>\n",
       "      <td>105000.000000</td>\n",
       "      <td>105000.000000</td>\n",
       "      <td>105000.000000</td>\n",
       "    </tr>\n",
       "    <tr>\n",
       "      <th>mean</th>\n",
       "      <td>2.000952</td>\n",
       "      <td>34.977381</td>\n",
       "      <td>5.495714</td>\n",
       "      <td>0.005952</td>\n",
       "      <td>0.500000</td>\n",
       "      <td>7.498095</td>\n",
       "      <td>0.003095</td>\n",
       "      <td>-0.013810</td>\n",
       "      <td>-0.022857</td>\n",
       "      <td>0.030238</td>\n",
       "      <td>...</td>\n",
       "      <td>-0.026429</td>\n",
       "      <td>0.005714</td>\n",
       "      <td>-0.019048</td>\n",
       "      <td>-0.018810</td>\n",
       "      <td>0.028810</td>\n",
       "      <td>9.0000</td>\n",
       "      <td>150.633333</td>\n",
       "      <td>2.000714</td>\n",
       "      <td>7.500000</td>\n",
       "      <td>27.493333</td>\n",
       "    </tr>\n",
       "    <tr>\n",
       "      <th>std</th>\n",
       "      <td>1.415062</td>\n",
       "      <td>8.947333</td>\n",
       "      <td>2.872209</td>\n",
       "      <td>29.151635</td>\n",
       "      <td>0.500002</td>\n",
       "      <td>4.609794</td>\n",
       "      <td>29.153775</td>\n",
       "      <td>29.154413</td>\n",
       "      <td>29.154383</td>\n",
       "      <td>29.152714</td>\n",
       "      <td>...</td>\n",
       "      <td>29.152857</td>\n",
       "      <td>29.153967</td>\n",
       "      <td>29.154059</td>\n",
       "      <td>29.155541</td>\n",
       "      <td>29.155884</td>\n",
       "      <td>0.8165</td>\n",
       "      <td>86.602028</td>\n",
       "      <td>1.414978</td>\n",
       "      <td>4.609794</td>\n",
       "      <td>10.387013</td>\n",
       "    </tr>\n",
       "    <tr>\n",
       "      <th>min</th>\n",
       "      <td>0.000000</td>\n",
       "      <td>20.000000</td>\n",
       "      <td>1.000000</td>\n",
       "      <td>-50.000000</td>\n",
       "      <td>0.000000</td>\n",
       "      <td>0.000000</td>\n",
       "      <td>-50.000000</td>\n",
       "      <td>-50.000000</td>\n",
       "      <td>-50.000000</td>\n",
       "      <td>-50.000000</td>\n",
       "      <td>...</td>\n",
       "      <td>-50.000000</td>\n",
       "      <td>-50.000000</td>\n",
       "      <td>-50.000000</td>\n",
       "      <td>-50.000000</td>\n",
       "      <td>-50.000000</td>\n",
       "      <td>8.0000</td>\n",
       "      <td>1.000000</td>\n",
       "      <td>0.000000</td>\n",
       "      <td>0.000000</td>\n",
       "      <td>10.000000</td>\n",
       "    </tr>\n",
       "    <tr>\n",
       "      <th>25%</th>\n",
       "      <td>1.000000</td>\n",
       "      <td>27.000000</td>\n",
       "      <td>3.000000</td>\n",
       "      <td>-25.000000</td>\n",
       "      <td>0.000000</td>\n",
       "      <td>3.750000</td>\n",
       "      <td>-25.000000</td>\n",
       "      <td>-25.000000</td>\n",
       "      <td>-25.000000</td>\n",
       "      <td>-25.000000</td>\n",
       "      <td>...</td>\n",
       "      <td>-25.000000</td>\n",
       "      <td>-25.000000</td>\n",
       "      <td>-25.000000</td>\n",
       "      <td>-25.000000</td>\n",
       "      <td>-25.000000</td>\n",
       "      <td>8.0000</td>\n",
       "      <td>75.750000</td>\n",
       "      <td>1.000000</td>\n",
       "      <td>3.750000</td>\n",
       "      <td>18.750000</td>\n",
       "    </tr>\n",
       "    <tr>\n",
       "      <th>50%</th>\n",
       "      <td>2.000000</td>\n",
       "      <td>35.000000</td>\n",
       "      <td>5.500000</td>\n",
       "      <td>0.000000</td>\n",
       "      <td>0.500000</td>\n",
       "      <td>7.500000</td>\n",
       "      <td>0.000000</td>\n",
       "      <td>0.000000</td>\n",
       "      <td>0.000000</td>\n",
       "      <td>0.000000</td>\n",
       "      <td>...</td>\n",
       "      <td>0.000000</td>\n",
       "      <td>0.000000</td>\n",
       "      <td>0.000000</td>\n",
       "      <td>0.000000</td>\n",
       "      <td>0.000000</td>\n",
       "      <td>9.0000</td>\n",
       "      <td>150.500000</td>\n",
       "      <td>2.000000</td>\n",
       "      <td>7.500000</td>\n",
       "      <td>27.500000</td>\n",
       "    </tr>\n",
       "    <tr>\n",
       "      <th>75%</th>\n",
       "      <td>3.000000</td>\n",
       "      <td>43.000000</td>\n",
       "      <td>8.000000</td>\n",
       "      <td>25.000000</td>\n",
       "      <td>1.000000</td>\n",
       "      <td>11.250000</td>\n",
       "      <td>25.000000</td>\n",
       "      <td>25.000000</td>\n",
       "      <td>25.000000</td>\n",
       "      <td>25.000000</td>\n",
       "      <td>...</td>\n",
       "      <td>25.000000</td>\n",
       "      <td>25.000000</td>\n",
       "      <td>25.000000</td>\n",
       "      <td>25.000000</td>\n",
       "      <td>25.000000</td>\n",
       "      <td>10.0000</td>\n",
       "      <td>225.250000</td>\n",
       "      <td>3.000000</td>\n",
       "      <td>11.250000</td>\n",
       "      <td>36.250000</td>\n",
       "    </tr>\n",
       "    <tr>\n",
       "      <th>max</th>\n",
       "      <td>4.000000</td>\n",
       "      <td>50.000000</td>\n",
       "      <td>10.000000</td>\n",
       "      <td>50.000000</td>\n",
       "      <td>1.000000</td>\n",
       "      <td>15.000000</td>\n",
       "      <td>50.000000</td>\n",
       "      <td>50.000000</td>\n",
       "      <td>50.000000</td>\n",
       "      <td>50.000000</td>\n",
       "      <td>...</td>\n",
       "      <td>50.000000</td>\n",
       "      <td>50.000000</td>\n",
       "      <td>50.000000</td>\n",
       "      <td>50.000000</td>\n",
       "      <td>50.000000</td>\n",
       "      <td>10.0000</td>\n",
       "      <td>300.000000</td>\n",
       "      <td>4.000000</td>\n",
       "      <td>15.000000</td>\n",
       "      <td>45.000000</td>\n",
       "    </tr>\n",
       "  </tbody>\n",
       "</table>\n",
       "<p>8 rows × 24 columns</p>\n",
       "</div>"
      ],
      "text/plain": [
       "         consumption  domesticConsumptionPercentage  generationRolloutPeriod  \\\n",
       "count  105000.000000                  105000.000000            105000.000000   \n",
       "mean        2.000952                      34.977381                 5.495714   \n",
       "std         1.415062                       8.947333                 2.872209   \n",
       "min         0.000000                      20.000000                 1.000000   \n",
       "25%         1.000000                      27.000000                 3.000000   \n",
       "50%         2.000000                      35.000000                 5.500000   \n",
       "75%         3.000000                      43.000000                 8.000000   \n",
       "max         4.000000                      50.000000                10.000000   \n",
       "\n",
       "       importPriceFactor  includePublicallyAnnouncedGen  learningCurve  \\\n",
       "count      105000.000000                  105000.000000  105000.000000   \n",
       "mean            0.005952                       0.500000       7.498095   \n",
       "std            29.151635                       0.500002       4.609794   \n",
       "min           -50.000000                       0.000000       0.000000   \n",
       "25%           -25.000000                       0.000000       3.750000   \n",
       "50%             0.000000                       0.500000       7.500000   \n",
       "75%            25.000000                       1.000000      11.250000   \n",
       "max            50.000000                       1.000000      15.000000   \n",
       "\n",
       "       nameplateCapacityChangeBattery  nameplateCapacityChangeBrownCoal  \\\n",
       "count                   105000.000000                     105000.000000   \n",
       "mean                         0.003095                         -0.013810   \n",
       "std                         29.153775                         29.154413   \n",
       "min                        -50.000000                        -50.000000   \n",
       "25%                        -25.000000                        -25.000000   \n",
       "50%                          0.000000                          0.000000   \n",
       "75%                         25.000000                         25.000000   \n",
       "max                         50.000000                         50.000000   \n",
       "\n",
       "       nameplateCapacityChangeOcgt  nameplateCapacityChangeSolar  ...  \\\n",
       "count                105000.000000                 105000.000000  ...   \n",
       "mean                     -0.022857                      0.030238  ...   \n",
       "std                      29.154383                     29.152714  ...   \n",
       "min                     -50.000000                    -50.000000  ...   \n",
       "25%                     -25.000000                    -25.000000  ...   \n",
       "50%                       0.000000                      0.000000  ...   \n",
       "75%                      25.000000                     25.000000  ...   \n",
       "max                      50.000000                     50.000000  ...   \n",
       "\n",
       "       priceChangePercentageBattery  priceChangePercentageBrownCoal  \\\n",
       "count                 105000.000000                   105000.000000   \n",
       "mean                      -0.026429                        0.005714   \n",
       "std                       29.152857                       29.153967   \n",
       "min                      -50.000000                      -50.000000   \n",
       "25%                      -25.000000                      -25.000000   \n",
       "50%                        0.000000                        0.000000   \n",
       "75%                       25.000000                       25.000000   \n",
       "max                       50.000000                       50.000000   \n",
       "\n",
       "       priceChangePercentageOcgt  priceChangePercentageWater  \\\n",
       "count              105000.000000               105000.000000   \n",
       "mean                   -0.019048                   -0.018810   \n",
       "std                    29.154059                   29.155541   \n",
       "min                   -50.000000                  -50.000000   \n",
       "25%                   -25.000000                  -25.000000   \n",
       "50%                     0.000000                    0.000000   \n",
       "75%                    25.000000                   25.000000   \n",
       "max                    50.000000                   50.000000   \n",
       "\n",
       "       priceChangePercentageWind  semiScheduleGenSpotMarket  \\\n",
       "count              105000.000000                105000.0000   \n",
       "mean                    0.028810                     9.0000   \n",
       "std                    29.155884                     0.8165   \n",
       "min                   -50.000000                     8.0000   \n",
       "25%                   -25.000000                     8.0000   \n",
       "50%                     0.000000                     9.0000   \n",
       "75%                    25.000000                    10.0000   \n",
       "max                    50.000000                    10.0000   \n",
       "\n",
       "       semiScheduleMinCapMarketGen    solarUptake  technologicalImprovement  \\\n",
       "count                105000.000000  105000.000000             105000.000000   \n",
       "mean                    150.633333       2.000714                  7.500000   \n",
       "std                      86.602028       1.414978                  4.609794   \n",
       "min                       1.000000       0.000000                  0.000000   \n",
       "25%                      75.750000       1.000000                  3.750000   \n",
       "50%                     150.500000       2.000000                  7.500000   \n",
       "75%                     225.250000       3.000000                 11.250000   \n",
       "max                     300.000000       4.000000                 15.000000   \n",
       "\n",
       "       wholesaleTariffContribution  \n",
       "count                105000.000000  \n",
       "mean                     27.493333  \n",
       "std                      10.387013  \n",
       "min                      10.000000  \n",
       "25%                      18.750000  \n",
       "50%                      27.500000  \n",
       "75%                      36.250000  \n",
       "max                      45.000000  \n",
       "\n",
       "[8 rows x 24 columns]"
      ]
     },
     "execution_count": 28,
     "metadata": {},
     "output_type": "execute_result"
    }
   ],
   "source": [
    "experiments.describe()"
   ]
  },
  {
   "cell_type": "code",
   "execution_count": 29,
   "metadata": {
    "ExecuteTime": {
     "end_time": "2021-03-22T01:18:27.128420Z",
     "start_time": "2021-03-22T01:18:26.990276Z"
    }
   },
   "outputs": [],
   "source": [
    "bau_scenario_id = max(experiments['scenario']) + 1\n",
    "\n",
    "new_row = pd.DataFrame({'annualCpi': 0.0233, 'annualInflation': 0.033, 'nameplateCapacityChangeBrownCoal': 0,\n",
    "       'nameplateCapacityChangeWater': 0,'nameplateCapacityChangeOcgt': 0, 'consumption': 0, 'energyEfficiency': 0,\n",
    "       'generationRolloutPeriod':1, 'generatorRetirement':0,\n",
    "       'includePublicallyAnnouncedGen':0, 'learningCurve':0.05,\n",
    "       'nonScheduleGenSpotMarket': 10, 'nonScheduleMinCapMarketGen':0.1,\n",
    "       'priceChangePercentageBrownCoal':0, 'priceChangePercentageOcgt':0,\n",
    "       'priceChangePercentageWater':0, 'priceChangePercentageWind':0, 'rooftopPV':7,\n",
    "       'domesticConsumptionPercentage':0,\n",
    "       'scheduleMinCapMarketGen':30, 'semiScheduleGenSpotMarket':8,\n",
    "       'semiScheduleMinCapMarketGen':30, 'solarUptake':0,\n",
    "       'technologicalImprovement':0.01, 'wholesaleTariffContribution':28.37, 'scenario': bau_scenario_id,\n",
    "       'policy': \"None\", 'model': 'Gr4sp'}, index =[0]) \n",
    "# simply concatenate both dataframes \n",
    "experiments = pd.concat([experiments,new_row],sort=True).reset_index(drop = True) \n",
    "\n",
    "# rename none in policy column into constant value 0. PRIM fails otherwise.\n",
    "if \"None\" in experiments[\"policy\"].unique():\n",
    "    experiments[\"policy\"] = experiments[\"policy\"].replace(\"None\",int(0))"
   ]
  },
  {
   "cell_type": "code",
   "execution_count": 30,
   "metadata": {
    "ExecuteTime": {
     "end_time": "2021-03-22T01:18:28.175698Z",
     "start_time": "2021-03-22T01:18:28.066966Z"
    }
   },
   "outputs": [],
   "source": [
    "#Results for BAU were generated with the 'light' setting in the model.\n",
    "bau_results_df = pd.read_csv(r'C:/Users/angel/Documents/GitHub/gr4sp/experiments/simulationData/VICSimDataYearSummary_160221-BAU-1998-2051.csv', index_col='Time (Year)')\n",
    "bau_results_df.head()\n",
    "\n",
    "monthly_bau_results_df = pd.read_csv(r'C:/Users/angel/Documents/GitHub/gr4sp/experiments/simulationData/VICSimDataMonthlySummary_160221-BAU-1998-2051.csv', index_col='Time (Month)')"
   ]
  },
  {
   "cell_type": "code",
   "execution_count": 31,
   "metadata": {
    "ExecuteTime": {
     "end_time": "2021-03-22T01:18:30.167984Z",
     "start_time": "2021-03-22T01:18:29.080054Z"
    }
   },
   "outputs": [],
   "source": [
    "seed_bau = bau_scenario_id + 1\n",
    "#outcomes['primaryWholesalePriceYear'] = outcomes['wholesalePriceYear']\n",
    "#outcomes['primaryWholesalePriceMonth'] = outcomes['wholesalePriceMonth']\n",
    "\n",
    "\n",
    "outcomes['TIMEMonth'] = np.append(outcomes['TIMEMonth'],\n",
    "                                          [monthly_bau_results_df.index], axis=0)\n",
    "outcomes['primaryWholesalePriceMonth'] = np.append(outcomes['primaryWholesalePriceMonth'],\n",
    "                                                   [monthly_bau_results_df['Primary Wholesale ($/MWh)'].values], axis=0)\n",
    "\n",
    "outcomes['TIMEYear'] = np.append(outcomes['TIMEYear'],\n",
    "                                          [bau_results_df.index], axis=0)\n",
    "outcomes['consumptionYear'] = np.append(outcomes['consumptionYear'],\n",
    "                                                 [bau_results_df['Consumption (KWh) per household'].values], axis=0)\n",
    "outcomes['tariffsYear'] = np.append(outcomes['tariffsYear'],\n",
    "                                                 [bau_results_df['Avg Tariff (c/KWh) per household'].values], axis=0)\n",
    "outcomes['primaryWholesalePriceYear'] = np.append(outcomes['primaryWholesalePriceYear'],\n",
    "                                                 [bau_results_df['Primary Wholesale ($/MWh)'].values], axis=0)\n",
    "outcomes['GHGYear'] = np.append(outcomes['GHGYear'],\n",
    "                                                 [bau_results_df['GHG Emissions (tCO2-e) per household'].values], axis=0)\n",
    "outcomes['numConsumersYear'] = np.append(outcomes['numConsumersYear'],\n",
    "                                                 [bau_results_df['Number of Domestic Consumers (households)'].values], axis=0)\n",
    "outcomes['primarySpotProductionYear'] = np.append(outcomes['primarySpotProductionYear'],\n",
    "                                                 [bau_results_df['System Production Primary Spot'].values], axis=0)\n",
    "outcomes['secondarySpotProductionYear'] = np.append(outcomes['secondarySpotProductionYear'],\n",
    "                                                 [bau_results_df['System Production Secondary Spot'].values], axis=0)\n",
    "outcomes['offSpotProductionYear'] = np.append(outcomes['offSpotProductionYear'],\n",
    "                                                 [bau_results_df['System Production Off Spot'].values], axis=0)\n",
    "outcomes['renewableContributionYear'] = np.append(outcomes['renewableContributionYear'],\n",
    "                                                 [bau_results_df['Percentage Renewable Production'].values], axis=0)\n",
    "outcomes['rooftopPVProductionYear'] = np.append(outcomes['rooftopPVProductionYear'],\n",
    "                                                 [bau_results_df['System Production Rooftop PV'].values], axis=0)\n",
    "outcomes['coalProductionYear'] = np.append(outcomes['coalProductionYear'],\n",
    "                                                 [bau_results_df['System Production Coal'].values], axis=0)\n",
    "outcomes['windProductionYear'] = np.append(outcomes['windProductionYear'],\n",
    "                                                 [bau_results_df['System Production Wind'].values], axis=0)\n",
    "outcomes['gasProductionYear'] = np.append(outcomes['gasProductionYear'],\n",
    "                                                 [bau_results_df['System Production Gas'].values], axis=0)\n",
    "outcomes['solarProductionYear'] = np.append(outcomes['solarProductionYear'],\n",
    "                                                 [bau_results_df['System Production Solar'].values], axis=0)   \n",
    "outcomes['waterProductionYear'] = np.append(outcomes['waterProductionYear'],\n",
    "                                                 [bau_results_df['System Production Water'].values], axis=0)\n",
    "outcomes['BatteryProductionYear'] = np.append(outcomes['BatteryProductionYear'],\n",
    "                                                 [bau_results_df['System Production Battery'].values], axis=0)\n",
    "outcomes['numActorsYear'] = np.append(outcomes['numActorsYear'],\n",
    "                                                 [bau_results_df['Number of Active Actors'].values], axis=0)\n",
    "outcomes['primaryUnmetDemandMwh'] = np.append(outcomes['primaryUnmetDemandMwh'],\n",
    "                                                 [bau_results_df['Primary Total Unmet Demand (MWh)'].values], axis=0)\n",
    "outcomes['primaryUnmetDemandHours'] = np.append(outcomes['primaryUnmetDemandHours'],\n",
    "                                                 [bau_results_df['Primary Total Unmet Demand (Hours)'].values], axis=0)\n",
    "outcomes['primaryUnmetDemandDays'] = np.append(outcomes['primaryUnmetDemandDays'],\n",
    "                                                 [bau_results_df['Primary Total Unmet Demand (Days)'].values], axis=0)\n",
    "outcomes['primaryMaxUnmetDemandMwhPerHour'] = np.append(outcomes['primaryMaxUnmetDemandMwhPerHour'],\n",
    "                                                 [bau_results_df['Primary Max Unmet Demand Per Hour (MWh)'].values], axis=0)\n",
    "outcomes['secondaryUnmetDemandMwh'] = np.append(outcomes['secondaryUnmetDemandMwh'],\n",
    "                                                 [bau_results_df['Secondary Total Unmet Demand (MWh)'].values], axis=0)\n",
    "outcomes['secondaryUnmetDemandHours'] = np.append(outcomes['secondaryUnmetDemandHours'],\n",
    "                                                 [bau_results_df['Secondary Total Unmet Demand (Hours)'].values], axis=0)\n",
    "outcomes['secondaryUnmetDemandDays'] = np.append(outcomes['secondaryUnmetDemandDays'],\n",
    "                                                 [bau_results_df['Secondary Total Unmet Demand (Days)'].values], axis=0)\n",
    "outcomes['secondaryMaxUnmetDemandMwhPerHour'] = np.append(outcomes['secondaryMaxUnmetDemandMwhPerHour'],\n",
    "                                                 [bau_results_df['Secondary Max Unmet Demand Per Hour (MWh)'].values], axis=0)\n",
    "\n",
    "outcomes['seedExperimentCsv'] = np.append(outcomes['seedExperimentCsv'], [seed_bau], axis=0)\n"
   ]
  },
  {
   "cell_type": "code",
   "execution_count": 32,
   "metadata": {
    "ExecuteTime": {
     "end_time": "2021-03-22T01:18:31.444611Z",
     "start_time": "2021-03-22T01:18:31.018212Z"
    }
   },
   "outputs": [],
   "source": [
    "outcomes_to_show = ['consumptionYear', 'tariffsYear', 'primaryWholesalePriceYear','primaryWholesalePriceMonth', 'GHGYear', \n",
    "                    'numConsumersYear', 'primarySpotProductionYear', 'secondarySpotProductionYear', \n",
    "                    'offSpotProductionYear', 'renewableContributionYear', 'rooftopPVProductionYear', \n",
    "                    'coalProductionYear', 'waterProductionYear', 'windProductionYear', 'gasProductionYear', \n",
    "                    'solarProductionYear', 'BatteryProductionYear', 'numActorsYear', 'primaryUnmetDemandMwh', \n",
    "                    'primaryUnmetDemandHours', 'primaryUnmetDemandDays', 'primaryMaxUnmetDemandMwhPerHour', \n",
    "                    'secondaryUnmetDemandMwh', 'secondaryUnmetDemandHours', 'secondaryUnmetDemandDays', \n",
    "                    'secondaryMaxUnmetDemandMwhPerHour']\n",
    "\n",
    "# 23 levers/uncertainties selected after EET (last test July 2020)\n",
    "# 25 uncertainties selected aftet EET including change on domestic demand and unmet demand output (August 2020)\n",
    "uncertainties = experiments.columns[:-3]\n",
    "\n",
    "#from startYear\n",
    "startYear = 1998\n",
    "startYearShift = (startYear - 1998)\n",
    "\n",
    "#time = outcomes['TIMEYear'][0, startYearShift:]\n",
    "time = outcomes['TIMEYear'][0, startYearShift:-32]\n",
    "\n",
    "#points_of_interest = [*range(2020,2051,10)] \n",
    "#points_of_interest = [ x - startYear for x in points_of_interest]\n",
    "\n",
    "points_of_interest = [0,5,10,15,20]\n",
    "\n",
    "\n",
    "# Filter outcomes taking into account the startYear, and removing Seed Experiment info. \n",
    "# Seed it is useful if I want to retrieve more info from the csv files, or redo the experiments with the\n",
    "# simulation parameters\n",
    "outcomes_filtered = {k:v[:, startYearShift:-32] for k,v in outcomes.items() if k != 'seedExperimentCsv'}"
   ]
  },
  {
   "cell_type": "code",
   "execution_count": 33,
   "metadata": {
    "ExecuteTime": {
     "end_time": "2021-03-22T01:18:32.304091Z",
     "start_time": "2021-03-22T01:18:32.260931Z"
    }
   },
   "outputs": [],
   "source": [
    "## Aggregate household data\n",
    "ooi = 'GHGYear'\n",
    "data_GHG_household = outcomes_filtered[ooi]\n",
    "\n",
    "\"\"\" Converts household data in tCO2e into total residential data in MtCO2e\"\"\"\n",
    "data_GHG_residential = (data_GHG_household * outcomes_filtered['numConsumersYear']) / 1000000.0\n",
    "data_GHG_residential_bau = (bau_results_df['GHG Emissions (tCO2-e) per household'] * bau_results_df['Number of Domestic Consumers (households)']) / 1000000.0\n",
    "\n",
    "\"\"\" Applies scaling factor used in simulation, so that data represents total emissions, not only residential (30%)\"\"\"\n",
    "data_GHG_total = data_GHG_residential / 0.3\n",
    "data_GHG_total_bau = data_GHG_residential_bau / 0.3\n",
    "\n",
    "\n",
    "\"\"\"Overwrite GHG with the data of interest\"\"\"\n",
    "outcomes_filtered[ooi] = data_GHG_total\n",
    "bau_results_df[ooi] = data_GHG_total_bau"
   ]
  },
  {
   "cell_type": "code",
   "execution_count": 34,
   "metadata": {
    "ExecuteTime": {
     "end_time": "2021-03-22T01:18:33.939940Z",
     "start_time": "2021-03-22T01:18:33.219044Z"
    }
   },
   "outputs": [],
   "source": [
    "#Subset of levers/uncertainties\n",
    "#selected_levers = list(['rooftopPV', 'annualCpi','capacityFactorChangeBrownCoal','capacityFactorChangeWater','semiScheduleMinCapMarketGen'])    \n",
    "selected_uncertainties = uncertainties\n",
    "\n",
    "ooi = 'GHGYear'\n",
    "\n",
    "data = outcomes_filtered[ooi]\n",
    "\n",
    "\n",
    "num_exp = len(data)\n",
    "out_avg_ooi = np.zeros(num_exp)\n",
    "\n",
    "for i in range(num_exp):\n",
    "    out_avg_ooi[i] = data[i].mean()\n",
    "\n",
    "exp = pd.DataFrame(experiments)\n",
    "\n",
    "exp = exp.loc[ :, selected_uncertainties] "
   ]
  },
  {
   "cell_type": "markdown",
   "metadata": {},
   "source": [
    "## Envelopes"
   ]
  },
  {
   "cell_type": "markdown",
   "metadata": {},
   "source": [
    "### GHGE"
   ]
  },
  {
   "cell_type": "markdown",
   "metadata": {},
   "source": [
    "#### Best seeds according to MAD, RMSE, Euclidian metrics"
   ]
  },
  {
   "cell_type": "code",
   "execution_count": 38,
   "metadata": {
    "ExecuteTime": {
     "end_time": "2021-03-22T04:49:31.599544Z",
     "start_time": "2021-03-22T04:49:31.517254Z"
    }
   },
   "outputs": [
    {
     "name": "stdout",
     "output_type": "stream",
     "text": [
      "Best possible MAD for GHGYear is 1.21, experiment index 63738 vs. the MAD of Nominal 2.04\n",
      "Best possible RMS for GHGYear is 2.58, experiment index 25713 vs. the RMS of Nominal 3.44\n",
      "Best possible Euclidean Distance for GHGYear is 11.81, experiment index 25713 vs. the Euclidean Distance of Nominal 15.76\n"
     ]
    }
   ],
   "source": [
    "b = 1.4826\n",
    "\n",
    "abs_difference_list = list()\n",
    "historic_emissions = historic_emissions_df[historic_emissions_df.index > 1997]['Hist_GHGE_MtCO2e']\n",
    "bau_results_df_GHGE = bau_results_df['GHGYear'].iloc[:-32]\n",
    "\n",
    "abs_difference_list_hist_all = abs(historic_emissions.values - outcomes_filtered['GHGYear'])\n",
    "abs_difference_list_hist_bau = abs(historic_emissions.values - bau_results_df_GHGE)\n",
    "\n",
    "\n",
    "mad_best = np.median(abs_difference_list_hist_all,axis=1)\n",
    "print(f'Best possible MAD for {ooi} is {np.min(mad_best):.2f}, experiment index {np.argmin(mad_best)} vs. the MAD of Nominal {mad_best[-1]:.2f}')\n",
    "\n",
    "\n",
    "#Root-mean square error\n",
    "rms = np.sqrt(np.mean(np.square(historic_emissions.values - outcomes_filtered['GHGYear']),axis=1))\n",
    "print(f'Best possible RMS for {ooi} is {np.min(rms):.2f}, experiment index {np.argmin(rms)} vs. the RMS of Nominal {rms[-1]:.2f}')\n",
    "\n",
    "#Euclidian distance\n",
    "eucl = dist = np.linalg.norm(historic_emissions.values - outcomes_filtered['GHGYear'],axis=1)\n",
    "eucl_similar = 1/1+eucl[-1]\n",
    "print(f'Best possible Euclidean Distance for {ooi} is {np.min(eucl):.2f}, experiment index {np.argmin(eucl)} vs. the Euclidean Distance of Nominal {eucl[-1]:.2f}')\n",
    "\n",
    "#eucl_similar\n",
    "\n",
    "# print(f'RMS for {ooi} of best experiment for Wholesale Price (74035) {rms[74035]:.2f}')\n",
    "\n"
   ]
  },
  {
   "cell_type": "markdown",
   "metadata": {
    "ExecuteTime": {
     "end_time": "2021-03-02T10:48:40.054088Z",
     "start_time": "2021-03-02T10:48:40.050099Z"
    }
   },
   "source": [
    "#### Plots"
   ]
  },
  {
   "cell_type": "code",
   "execution_count": 47,
   "metadata": {
    "ExecuteTime": {
     "end_time": "2021-03-22T05:28:51.362026Z",
     "start_time": "2021-03-22T05:28:51.122673Z"
    }
   },
   "outputs": [
    {
     "data": {
      "image/png": "[encoded data removed]",
      "text/plain": [
       "<Figure size 800x640 with 1 Axes>"
      ]
     },
     "metadata": {},
     "output_type": "display_data"
    }
   ],
   "source": [
    "#change fig size\n",
    "figure(num=None, figsize=(10, 8), dpi=80, facecolor='w', edgecolor='k')\n",
    "\n",
    "#compute STD and MEAN\n",
    "ghgeSTD = np.std(outcomes_filtered['GHGYear'],axis=0)\n",
    "ghge2STD = 2*np.std(outcomes_filtered['GHGYear'],axis=0)\n",
    "\n",
    "ghgeMean = np.mean(outcomes_filtered['GHGYear'],axis=0)\n",
    "ghgeNominal = outcomes_filtered[ooi][-1]\n",
    "ghgeHistoric = historic_emissions_df[historic_emissions_df.index > 1997]['Hist_GHGE_MtCO2e'].values\n",
    "\n",
    "#PLOT MEAN\n",
    "#lineMean, = plt.plot(time,ghgeMean, 'b-', label = 'Mean')\n",
    "\n",
    "#PLOT STD and 2STD\n",
    "plt.fill_between(x=time,y1=ghgeNominal - ghgeSTD, y2=ghgeNominal + ghgeSTD,\n",
    "                 color='gray', alpha=0.2)\n",
    "plt.fill_between(x=time,y1=ghgeNominal - ghge2STD, y2=ghgeNominal + ghge2STD,\n",
    "                 color='darkgray', alpha=0.2)\n",
    "\n",
    "#PLOT Historic\n",
    "lineHist, = plt.plot(time,ghgeHistoric, 'g--', label = 'Historic')\n",
    "\n",
    "#PLOT Nominal\n",
    "lineNominal, = plt.plot(time,ghgeNominal, 'r-', label = 'Nominal')\n",
    "\n",
    "lightgrey_patch = mpatches.Patch(color='lightgray', label='2\\u03C3')\n",
    "darkgrey_patch = mpatches.Patch(color='darkgray', label='1\\u03C3')\n",
    "\n",
    "\n",
    "#PLOT legend, and title\n",
    "\n",
    "plt.legend(handles=[lineHist,lineNominal,darkgrey_patch,lightgrey_patch])\n",
    "axes = plt.gca()\n",
    "axes.set_ylim([0,120])\n",
    "ylabel = axes.set_ylabel('$MtCO_2e$')\n",
    "#plt.suptitle(\"{}\".format(ooi), fontsize=15)"
   ]
  },
  {
   "cell_type": "code",
   "execution_count": 48,
   "metadata": {
    "ExecuteTime": {
     "end_time": "2021-03-22T05:29:20.142769Z",
     "start_time": "2021-03-22T05:29:20.123820Z"
    }
   },
   "outputs": [
    {
     "name": "stdout",
     "output_type": "stream",
     "text": [
      "21 cases within the STD range out of 21, which makes 100.0% of total cases\n",
      "21 cases within the 2STD range out of 21, which makes 100.0% of total cases\n"
     ]
    }
   ],
   "source": [
    "withinSTD = ((ghgeHistoric < ghgeNominal + ghgeSTD) & (ghgeHistoric > ghgeNominal - ghgeSTD)).sum()\n",
    "numCases = len(ghgeHistoric)\n",
    "withinSTDpercentage = (withinSTD/numCases) * 100.0\n",
    "print(f'{withinSTD} cases within the STD range out of {numCases}, which makes {withinSTDpercentage}% of total cases')\n",
    "\n",
    "withinSTD = ((ghgeHistoric < ghgeNominal + 2*ghgeSTD) & (ghgeHistoric > ghgeNominal - 2*ghgeSTD)).sum()\n",
    "numCases = len(ghgeHistoric)\n",
    "withinSTDpercentage = (withinSTD/numCases) * 100.0\n",
    "print(f'{withinSTD} cases within the 2STD range out of {numCases}, which makes {withinSTDpercentage}% of total cases')"
   ]
  },
  {
   "cell_type": "code",
   "execution_count": 49,
   "metadata": {
    "ExecuteTime": {
     "end_time": "2021-03-22T05:29:24.448343Z",
     "start_time": "2021-03-22T05:29:22.340351Z"
    },
    "scrolled": true
   },
   "outputs": [
    {
     "name": "stdout",
     "output_type": "stream",
     "text": [
      "Densities (PDF): {'30.6 to 38.2': '0.013', '38.2 to 45.9': '0.021', '45.9 to 53.5': '0.017', '53.5 to 61.2': '0.021', '61.2 to 68.8': '0.017', '68.8 to 76.4': '0.021', '76.4 to 84.1': '0.021'}\n",
      "% in Bin: {'0.0 to 7.6': '0.0%', '7.6 to 15.3': '0.0%', '15.3 to 22.9': '0.0%', '22.9 to 30.6': '0.0%', '30.6 to 38.2': '9.8%', '38.2 to 45.9': '16.1%', '45.9 to 53.5': '12.9%', '53.5 to 61.2': '16.1%', '61.2 to 68.8': '12.9%', '68.8 to 76.4': '16.1%', '76.4 to 84.1': '16.1%'}\n",
      "\n",
      "Densities (PDF): {'29.9 to 39.6': '0.005', '39.6 to 49.3': '0.016', '49.3 to 59.0': '0.016', '59.0 to 68.7': '0.017', '68.7 to 78.4': '0.017', '78.4 to 88.1': '0.015', '88.1 to 97.7': '0.011', '97.7 to 107.4': '0.007'}\n",
      "% in Bin: {'0.8 to 10.5': '0.0%', '10.5 to 20.2': '0.0%', '20.2 to 29.9': '0.0%', '29.9 to 39.6': '4.5%', '39.6 to 49.3': '15.8%', '49.3 to 59.0': '15.9%', '59.0 to 68.7': '16.4%', '68.7 to 78.4': '16.2%', '78.4 to 88.1': '14.5%', '88.1 to 97.7': '10.3%', '97.7 to 107.4': '6.3%'}\n",
      "\n",
      "Densities (PDF): {'34.3 to 45.1': '0.006', '45.1 to 56.0': '0.015', '56.0 to 66.8': '0.015', '66.8 to 77.7': '0.015', '77.7 to 88.5': '0.015', '88.5 to 99.4': '0.013', '99.4 to 110.2': '0.009', '110.2 to 121.1': '0.004'}\n",
      "% in Bin: {'1.7 to 12.6': '0.0%', '12.6 to 23.4': '0.0%', '23.4 to 34.3': '0.0%', '34.3 to 45.1': '6.0%', '45.1 to 56.0': '16.3%', '56.0 to 66.8': '16.5%', '66.8 to 77.7': '16.3%', '77.7 to 88.5': '16.6%', '88.5 to 99.4': '14.0%', '99.4 to 110.2': '9.6%', '110.2 to 121.1': '4.7%'}\n",
      "\n",
      "Densities (PDF): {'32.9 to 43.2': '0.010', '43.2 to 53.5': '0.017', '53.5 to 63.8': '0.017', '63.8 to 74.1': '0.017', '74.1 to 84.4': '0.015', '84.4 to 94.7': '0.011', '94.7 to 104.9': '0.007', '104.9 to 115.2': '0.002'}\n",
      "% in Bin: {'2.0 to 12.3': '0.0%', '12.3 to 22.6': '0.0%', '22.6 to 32.9': '0.7%', '32.9 to 43.2': '10.0%', '43.2 to 53.5': '17.3%', '53.5 to 63.8': '17.8%', '63.8 to 74.1': '17.4%', '74.1 to 84.4': '15.6%', '84.4 to 94.7': '11.7%', '94.7 to 104.9': '7.5%', '104.9 to 115.2': '2.1%'}\n",
      "\n",
      "Densities (PDF): {'19.2 to 28.1': '0.004', '28.1 to 37.0': '0.018', '37.0 to 45.9': '0.022', '45.9 to 54.8': '0.022', '54.8 to 63.7': '0.020', '63.7 to 72.6': '0.014', '72.6 to 81.5': '0.008', '81.5 to 90.4': '0.003'}\n",
      "% in Bin: {'1.5 to 10.4': '0.0%', '10.4 to 19.2': '0.0%', '19.2 to 28.1': '4.0%', '28.1 to 37.0': '15.7%', '37.0 to 45.9': '19.8%', '45.9 to 54.8': '19.2%', '54.8 to 63.7': '17.4%', '63.7 to 72.6': '12.7%', '72.6 to 81.5': '7.5%', '81.5 to 90.4': '3.1%', '90.4 to 99.3': '0.6%'}\n",
      "\n"
     ]
    },
    {
     "data": {
      "image/png": "[encoded data removed]",
      "text/plain": [
       "<Figure size 1332x756 with 6 Axes>"
      ]
     },
     "metadata": {
      "needs_background": "light"
     },
     "output_type": "display_data"
    }
   ],
   "source": [
    "from EMAworkbench.ema_workbench.analysis.plotting import multiple_densities, PlotType\n",
    "from EMAworkbench.ema_workbench.analysis.plotting_util import Density \n",
    "\n",
    "fig, ax_env = multiple_densities(experiments, outcomes_filtered, outcomes_to_show = ooi,\n",
    "                                 points_in_time=[0,5,10,15,20], density = Density.HIST, grouping_specifiers=None,\n",
    "                                 titles={ooi}, ylabels={ooi: \"MtCO2e\"}, legend=True,\n",
    "                                 fill=True, plot_type=PlotType.ENVELOPE)\n",
    "\n",
    "#Change x labels to years\n",
    "ax_env[ooi]['main plot'].set_xticklabels([startYear + x / 10.0 for x in range(0,len(time)*10,25)])\n",
    "\n",
    "#Add BAU in the plot with a red line\n",
    "ax_env[ooi]['main plot'].plot(outcomes_filtered[ooi][-1], 'r-')\n",
    "\n",
    "ax_env[ooi]['main plot'].plot(outcomes_filtered[ooi][63738], 'y-')\n",
    "ax_env[ooi]['main plot'].plot(outcomes_filtered[ooi][27332], 'k-')\n",
    "ax_env[ooi]['main plot'].plot(outcomes_filtered[ooi][25713], 'm-')\n",
    "\n",
    " \n",
    "ax_env[ooi]['main plot'].plot(historic_emissions_df[historic_emissions_df.index > 1997]['Hist_GHGE_MtCO2e'].values, 'g--')\n",
    "\n",
    "\n",
    "\n",
    "## Add historic figures\n",
    "ax_env\n",
    "\n",
    "## Show labels\n",
    "# labels = ax_env['F']['main plot'].get_xticklabels()\n",
    "# for l in labels:\n",
    "#     print (l.get_text)\n",
    "\n",
    "fig[0].suptitle(\"{}\".format(ooi), fontsize=15)\n",
    "fig[0].set_size_inches(18.5, 10.5)\n",
    "#plt.legend()\n",
    "\n",
    "plt.savefig('{}/fig{}.png'.format(r'C:\\\\Users\\\\angel\\\\Documents\\\\GitHub\\\\gr4sp\\\\experiments\\\\notebookGr4sp\\\\outputs\\\\figs', '_3Regime_envelope_density_%s'%(ooi)),\n",
    "                dpi=300, bbox_inches='tight')\n"
   ]
  },
  {
   "cell_type": "markdown",
   "metadata": {},
   "source": [
    "### Wholesale prices (primary market)"
   ]
  },
  {
   "cell_type": "code",
   "execution_count": 50,
   "metadata": {
    "ExecuteTime": {
     "end_time": "2021-03-22T05:29:25.083405Z",
     "start_time": "2021-03-22T05:29:25.068223Z"
    }
   },
   "outputs": [],
   "source": [
    "#from startYear\n",
    "startYear_wholesale = 2005\n",
    "startYearShift_wholesale = (startYear_wholesale - 1998)\n",
    "\n",
    "#time = outcomes['TIMEYear'][0, startYearShift:]\n",
    "time_wholesale = outcomes['TIMEYear'][0, startYearShift_wholesale:-30]\n",
    "\n",
    "#points_of_interest = [*range(2020,2051,10)] \n",
    "#points_of_interest = [ x - startYear for x in points_of_interest]\n",
    "\n",
    "points_of_interest_wholesale = [0,5,10,15]\n",
    "\n",
    "\n",
    "# Filter outcomes taking into account the startYear, and removing Seed Experiment info. \n",
    "# Seed it is useful if I want to retrieve more info from the csv files, or redo the experiments with the\n",
    "# simulation parameters\n",
    "outcomes_filtered_wholesale = {k:v[:, startYearShift_wholesale:-30] for k,v in outcomes.items() if k != 'seedExperimentCsv'}"
   ]
  },
  {
   "cell_type": "code",
   "execution_count": 51,
   "metadata": {
    "ExecuteTime": {
     "end_time": "2021-03-22T05:29:26.281114Z",
     "start_time": "2021-03-22T05:29:25.729417Z"
    }
   },
   "outputs": [],
   "source": [
    "# Subset Sobol levers\n",
    "#selected_levers = list(['rooftopPV','annualCpi', 'generationRolloutPeriod', 'generatorRetirement','capacityFactorChangeBrownCoal','semiScheduleMinCapMarketGen'])    \n",
    "\n",
    "select_uncertainties = uncertainties\n",
    "ooi = 'primaryWholesalePriceYear'\n",
    "\n",
    "num_exp = len(data)\n",
    "out_avg_ooi = np.zeros(num_exp)\n",
    "\n",
    "for i in range(num_exp):\n",
    "    out_avg_ooi[i] = data[i].mean()\n",
    "\n",
    "exp = pd.DataFrame(experiments)\n",
    "\n",
    "exp = exp.loc[ :, select_uncertainties] \n",
    "\n"
   ]
  },
  {
   "cell_type": "markdown",
   "metadata": {},
   "source": [
    "#### Best seeds according to MAD, RMSE, Euclidian distance metrics"
   ]
  },
  {
   "cell_type": "code",
   "execution_count": 52,
   "metadata": {
    "ExecuteTime": {
     "end_time": "2021-03-22T05:29:27.512765Z",
     "start_time": "2021-03-22T05:29:27.394893Z"
    }
   },
   "outputs": [
    {
     "name": "stdout",
     "output_type": "stream",
     "text": [
      "Best possible MAD for primaryWholesalePriceYear is 4.48, experiment index 21709 vs. the MAD of Nominal 12.73\n",
      "Best possible RMS for primaryWholesalePriceYear is 13.69, experiment index 74035 vs. the RMS of Nominal 19.18\n",
      "Best possible Euclidean Distance for primaryWholesalePriceYear is 54.77, experiment index 74035 vs. the Euclidean Distance of Nominal 76.73\n",
      "RMS for primaryWholesalePriceYear of best experiment for GHGE (25713) 29.39632107040073\n"
     ]
    }
   ],
   "source": [
    "b = 1.4826\n",
    "\n",
    "abs_difference_list = list()\n",
    "historic_wholesale_values = historic_wholesale_df['Volume Weighted Price (Historic) - $/MWh'].resample('Y').mean().values\n",
    "abs_difference_list = abs(historic_wholesale_values - outcomes_filtered_wholesale[ooi])\n",
    "\n",
    "mad = np.median(abs_difference_list,axis=1)\n",
    "print(f'Best possible MAD for {ooi} is {np.min(mad):.2f}, experiment index {np.argmin(mad)} vs. the MAD of Nominal {mad[-1]:.2f}')\n",
    "\n",
    "#sumad = np.sum(abs_difference_list,axis=1)\n",
    "#print(f'Best possible SumAD for {ooi} is {np.min(sumad)}, experiment index {np.argmin(sumad)} vs. the SumAD of BAU {sumad[-1]}')\n",
    "\n",
    "rms = np.sqrt(np.mean(np.square(historic_wholesale_values - outcomes_filtered_wholesale[ooi]),axis=1))\n",
    "print(f'Best possible RMS for {ooi} is {np.min(rms):.2f}, experiment index {np.argmin(rms)} vs. the RMS of Nominal {rms[-1]:.2f}')\n",
    "\n",
    "#Euclidian distance\n",
    "eucl = dist = np.linalg.norm(historic_wholesale_values -  outcomes_filtered_wholesale[ooi],axis=1)\n",
    "\n",
    "print(f'Best possible Euclidean Distance for {ooi} is {np.min(eucl):.2f}, experiment index {np.argmin(eucl)} vs. the Euclidean Distance of Nominal {eucl[-1]:.2f}')\n",
    "\n",
    "print(f'RMS for {ooi} of best experiment for GHGE (25713) {rms[25713]}')\n"
   ]
  },
  {
   "cell_type": "markdown",
   "metadata": {
    "ExecuteTime": {
     "end_time": "2021-03-02T10:48:40.054088Z",
     "start_time": "2021-03-02T10:48:40.050099Z"
    }
   },
   "source": [
    "#### Plots"
   ]
  },
  {
   "cell_type": "code",
   "execution_count": 57,
   "metadata": {
    "ExecuteTime": {
     "end_time": "2021-03-22T05:30:52.583323Z",
     "start_time": "2021-03-22T05:30:52.376318Z"
    },
    "scrolled": false
   },
   "outputs": [
    {
     "data": {
      "image/png": "[encoded data removed]",
      "text/plain": [
       "<Figure size 800x640 with 1 Axes>"
      ]
     },
     "metadata": {},
     "output_type": "display_data"
    }
   ],
   "source": [
    "#change fig size\n",
    "figure(num=None, figsize=(10, 8), dpi=80, facecolor='w', edgecolor='k')\n",
    "\n",
    "#compute STD and MEAN\n",
    "wholesaleSTD = np.std(outcomes_filtered_wholesale['primaryWholesalePriceYear'],axis=0)\n",
    "wholesale2STD = 2*np.std(outcomes_filtered_wholesale['primaryWholesalePriceYear'],axis=0)\n",
    "\n",
    "wholesaleMean = np.mean(outcomes_filtered_wholesale['primaryWholesalePriceYear'],axis=0)\n",
    "wholesaleNominal = outcomes_filtered_wholesale[ooi][-1]\n",
    "\n",
    "#PLOT MEAN\n",
    "#lineMean, = plt.plot(time_wholesale, wholesaleMean, 'b-', label = 'Mean')\n",
    "\n",
    "#PLOT STD\n",
    "plt.fill_between(x=time_wholesale, y1=wholesaleNominal - wholesaleSTD, y2=wholesaleNominal + wholesaleSTD,\n",
    "                 color='gray', alpha=0.2)\n",
    "plt.fill_between(x=time_wholesale, y1=wholesaleNominal - wholesale2STD, y2=wholesaleNominal + wholesale2STD,\n",
    "                 color='darkgray', alpha=0.2)\n",
    "\n",
    "#PLOT Historic\n",
    "lineHist, = plt.plot(time_wholesale,historic_wholesale_values, 'g--', label = 'Historic')\n",
    "\n",
    "#PLOT Nominal\n",
    "lineNominal, = plt.plot(time_wholesale, wholesaleNominal, 'r-', label = 'Nominal')\n",
    "\n",
    "\n",
    "lightgrey_patch = mpatches.Patch(color='lightgray', label='2\\u03C3')\n",
    "darkgrey_patch = mpatches.Patch(color='darkgray', label='1\\u03C3')\n",
    "\n",
    "#PLOT legend, and title\n",
    "plt.legend(handles=[lineHist,lineNominal,darkgrey_patch,lightgrey_patch])\n",
    "ylabel = axes.set_ylabel('$/MWh$')\n",
    "\n",
    "#plt.suptitle(\"{}\".format(ooi), fontsize=15)"
   ]
  },
  {
   "cell_type": "code",
   "execution_count": null,
   "metadata": {
    "ExecuteTime": {
     "end_time": "2021-03-22T00:54:13.046420Z",
     "start_time": "2021-03-22T00:52:06.725Z"
    }
   },
   "outputs": [],
   "source": [
    "withinSTD = ((historic_wholesale_values < wholesaleNominal + wholesaleSTD) & (historic_wholesale_values > wholesaleNominal - wholesaleSTD)).sum()\n",
    "numCases = len(historic_wholesale_values)\n",
    "withinSTDpercentage = (withinSTD/numCases) * 100.0\n",
    "print(f'{withinSTD} cases within the STD range out of {numCases}, which makes {withinSTDpercentage}% of total cases')\n",
    "\n",
    "within2STD = ((historic_wholesale_values < wholesaleNominal + wholesale2STD) & (historic_wholesale_values > wholesaleNominal - wholesale2STD)).sum()\n",
    "numCases = len(historic_wholesale_values)\n",
    "within2STDpercentage = (within2STD/numCases) * 100.0\n",
    "print(f'{within2STD} cases within the 2STD range out of {numCases}, which makes {within2STDpercentage}% of total cases')\n"
   ]
  },
  {
   "cell_type": "markdown",
   "metadata": {},
   "source": [
    "#### Yearly STD applied to monthly data"
   ]
  },
  {
   "cell_type": "code",
   "execution_count": null,
   "metadata": {
    "ExecuteTime": {
     "end_time": "2021-03-22T00:54:13.048415Z",
     "start_time": "2021-03-22T00:52:06.729Z"
    }
   },
   "outputs": [],
   "source": [
    "std_series = pd.Series(name='STD',data=wholesaleSTD,index=pd.to_datetime(historic_wholesale_df['Volume Weighted Price (Historic) - $/MWh'].resample('Y').mean().index))\n",
    "std_series = std_series.resample('MS').bfill()"
   ]
  },
  {
   "cell_type": "code",
   "execution_count": null,
   "metadata": {
    "ExecuteTime": {
     "end_time": "2021-03-22T00:54:13.049412Z",
     "start_time": "2021-03-22T00:52:06.733Z"
    },
    "scrolled": true
   },
   "outputs": [],
   "source": [
    "simul_data_wholesale_filtered = monthly_bau_results_df['Primary Wholesale ($/MWh)']\n",
    "simul_data_wholesale_filtered.index = pd.to_datetime(simul_data_wholesale_filtered.index)\n",
    "\n",
    "historic_wholesale_filtered = historic_wholesale_df[\"Volume Weighted Price (Historic) - $/MWh\"]\n",
    "\n",
    "from functools import reduce\n",
    "\n",
    "historic_wholesale_list = [historic_wholesale_filtered, simul_data_wholesale_filtered, std_series]\n",
    "\n",
    "historic_and_simul_wholesale_df = reduce(lambda x, y: pd.merge(x, y, on = 'Time (Month)'), historic_wholesale_list)\n",
    "historic_and_simul_wholesale_df.head(10)\n"
   ]
  },
  {
   "cell_type": "code",
   "execution_count": null,
   "metadata": {},
   "outputs": [],
   "source": []
  },
  {
   "cell_type": "code",
   "execution_count": null,
   "metadata": {
    "ExecuteTime": {
     "end_time": "2021-03-22T00:54:13.050410Z",
     "start_time": "2021-03-22T00:52:06.741Z"
    }
   },
   "outputs": [],
   "source": [
    "plt.figure(figsize=(18,10))\n",
    "\n",
    "#plt.plot( 'Volume Weighted Price (Historic) - $/MWh', data=historic_and_simul_wholesale_df, marker='o', markerfacecolor='darkgoldenrod', markersize=8, color='burlywood', linewidth=4)\n",
    "#plt.plot( 'Wholesale ($/MWh)', data=historic_and_simul_wholesale_df, marker='o', markerfacecolor='steelblue', markersize=8, color='lightblue', linewidth=4)\n",
    "\n",
    "plt.plot( 'Primary Wholesale ($/MWh)', data=historic_and_simul_wholesale_df, color='r', linewidth=2, label='Wholesale Primary Spot Market - Simulated')\n",
    "plt.plot( 'Volume Weighted Price (Historic) - $/MWh', data=historic_and_simul_wholesale_df, color='g', linestyle='--', linewidth=2, label='Wholesale Primary Spot Market - Historic')\n",
    "\n",
    "#PLOT STD\n",
    "monthWholeSTD = historic_and_simul_wholesale_df['STD'].values\n",
    "monthWhole2STD = 2* historic_and_simul_wholesale_df['STD'].values\n",
    "\n",
    "monthNominalWhole = historic_and_simul_wholesale_df['Primary Wholesale ($/MWh)'].values\n",
    "monthHistoricWhole = historic_and_simul_wholesale_df['Volume Weighted Price (Historic) - $/MWh'].values\n",
    "\n",
    "plt.fill_between(x=historic_and_simul_wholesale_df.index, y1=monthNominalWhole - monthWholeSTD, y2=monthNominalWhole + monthWholeSTD,\n",
    "                 color='gray', alpha=0.2)\n",
    "plt.fill_between(x=historic_and_simul_wholesale_df.index, y1=monthNominalWhole - monthWhole2STD, y2=monthNominalWhole + monthWhole2STD,\n",
    "                 color='darkgray', alpha=0.2)\n",
    "\n",
    "\n",
    "plt.xlabel('Months', size = 16)\n",
    "plt.ylabel('$/MWh', size = 16)\n",
    "plt.xticks(size = 14)\n",
    "plt.yticks(size = 14)\n",
    "\n",
    "plt.legend(prop={'size':16})"
   ]
  },
  {
   "cell_type": "code",
   "execution_count": null,
   "metadata": {
    "ExecuteTime": {
     "end_time": "2021-03-22T00:54:13.051407Z",
     "start_time": "2021-03-22T00:52:06.746Z"
    }
   },
   "outputs": [],
   "source": [
    "withinSTD = ((monthHistoricWhole < monthNominalWhole + monthWholeSTD) & (monthHistoricWhole > monthNominalWhole - monthWholeSTD)).sum()\n",
    "numCases = len(monthHistoricWhole)\n",
    "withinSTDpercentage = (withinSTD/numCases) * 100.0\n",
    "print(f'{withinSTD} cases within the STD range out of {numCases}, which makes {withinSTDpercentage}% of total cases')\n",
    "\n",
    "within2STD = ((monthHistoricWhole < monthNominalWhole + monthWhole2STD) & (monthHistoricWhole > monthNominalWhole - monthWhole2STD)).sum()\n",
    "numCases = len(monthHistoricWhole)\n",
    "within2STDpercentage = (within2STD/numCases) * 100.0\n",
    "print(f'{within2STD} cases within the 2STD range out of {numCases}, which makes {within2STDpercentage}% of total cases')\n"
   ]
  },
  {
   "cell_type": "markdown",
   "metadata": {},
   "source": [
    "#### Monthly STD applied to monthly data"
   ]
  },
  {
   "cell_type": "code",
   "execution_count": null,
   "metadata": {
    "ExecuteTime": {
     "end_time": "2021-03-22T00:54:13.052404Z",
     "start_time": "2021-03-22T00:52:06.752Z"
    }
   },
   "outputs": [],
   "source": [
    "#compute STD and MEAN\n",
    "wholesaleSTDmonth = np.std(outcomes_filtered_wholesale['primaryWholesalePriceMonth'],axis=0)\n",
    "wholesaleMeanMonth = np.mean(outcomes_filtered_wholesale['primaryWholesalePriceMonth'],axis=0)"
   ]
  },
  {
   "cell_type": "code",
   "execution_count": null,
   "metadata": {
    "ExecuteTime": {
     "end_time": "2021-03-22T00:54:13.053402Z",
     "start_time": "2021-03-22T00:52:06.758Z"
    }
   },
   "outputs": [],
   "source": [
    "std_series = pd.Series(name='STD',data=wholesaleSTDmonth,index=pd.to_datetime(outcomes_filtered_wholesale['TIMEMonth'][0]))\n",
    "std_series = std_series.rename_axis('Time (Month)')\n",
    "simul_data_wholesale_filtered = monthly_bau_results_df['Primary Wholesale ($/MWh)']\n",
    "simul_data_wholesale_filtered.index = pd.to_datetime(simul_data_wholesale_filtered.index)\n",
    "\n",
    "historic_wholesale_filtered = historic_wholesale_df[\"Volume Weighted Price (Historic) - $/MWh\"]\n",
    "\n",
    "from functools import reduce\n",
    "\n",
    "historic_wholesale_list = [historic_wholesale_filtered, simul_data_wholesale_filtered, std_series]\n",
    "\n",
    "historic_and_simul_wholesale_df = reduce(lambda x, y: pd.merge(x, y, on = 'Time (Month)'), historic_wholesale_list)\n",
    "historic_and_simul_wholesale_df.head(20)"
   ]
  },
  {
   "cell_type": "code",
   "execution_count": null,
   "metadata": {
    "ExecuteTime": {
     "end_time": "2021-03-22T00:54:13.055396Z",
     "start_time": "2021-03-22T00:52:06.763Z"
    }
   },
   "outputs": [],
   "source": [
    "b = 1.4826\n",
    "\n",
    "abs_difference_list = list()\n",
    "historic_wholesale_values = historic_wholesale_filtered.values\n",
    "monthNominalWhole = historic_and_simul_wholesale_df['Primary Wholesale ($/MWh)'].values\n",
    "\n",
    "abs_difference_list = abs(historic_wholesale_values - monthNominalWhole)\n",
    "\n",
    "mad = np.median(abs_difference_list)\n",
    "print(f'The MAD of Nominal {mad:.2f}')\n",
    "\n",
    "#sumad = np.sum(abs_difference_list,axis=1)\n",
    "#print(f'Best possible SumAD for {ooi} is {np.min(sumad)}, experiment index {np.argmin(sumad)} vs. the SumAD of BAU {sumad[-1]}')\n",
    "\n",
    "rms = np.sqrt(np.mean(np.square(historic_wholesale_values - monthNominalWhole)))\n",
    "print(f'The RMS of Nominal {rms:.2f}')\n",
    "\n",
    "#Euclidian distance\n",
    "eucl = dist = np.linalg.norm(historic_wholesale_values -  monthNominalWhole)\n",
    "\n",
    "print(f'The Euclidean Distance of Nominal {eucl:.2f}')"
   ]
  },
  {
   "cell_type": "code",
   "execution_count": null,
   "metadata": {
    "ExecuteTime": {
     "end_time": "2021-03-22T00:54:13.056394Z",
     "start_time": "2021-03-22T00:52:06.768Z"
    }
   },
   "outputs": [],
   "source": [
    "plt.figure(figsize=(18,10))\n",
    "\n",
    "#plt.plot( 'Volume Weighted Price (Historic) - $/MWh', data=historic_and_simul_wholesale_df, marker='o', markerfacecolor='darkgoldenrod', markersize=8, color='burlywood', linewidth=4)\n",
    "#plt.plot( 'Wholesale ($/MWh)', data=historic_and_simul_wholesale_df, marker='o', markerfacecolor='steelblue', markersize=8, color='lightblue', linewidth=4)\n",
    "\n",
    "\n",
    "plt.plot( 'Primary Wholesale ($/MWh)', data=historic_and_simul_wholesale_df, color='r', linewidth=2, label='Wholesale Primary Spot Market - Simulated')\n",
    "plt.plot( 'Volume Weighted Price (Historic) - $/MWh', data=historic_and_simul_wholesale_df, color='g', linestyle='--', linewidth=2, label='Wholesale Primary Spot Market - Historic')\n",
    "\n",
    "#PLOT STD\n",
    "monthWholeSTD = historic_and_simul_wholesale_df['STD'].values\n",
    "monthWhole2STD = 2 * historic_and_simul_wholesale_df['STD'].values\n",
    "\n",
    "plt.fill_between(x=historic_and_simul_wholesale_df.index, y1=monthNominalWhole - monthWholeSTD, y2=monthNominalWhole + monthWholeSTD,\n",
    "                 color='gray', alpha=0.2)\n",
    "plt.fill_between(x=historic_and_simul_wholesale_df.index, y1=monthNominalWhole - monthWhole2STD, y2=monthNominalWhole + monthWhole2STD,\n",
    "                 color='darkgray', alpha=0.2)\n",
    "\n",
    "\n",
    "plt.xlabel('Months', size = 16)\n",
    "plt.ylabel('$/MWh', size = 16)\n",
    "plt.xticks(size = 14)\n",
    "plt.yticks(size = 14)\n",
    "plt.legend(prop={'size':16})"
   ]
  },
  {
   "cell_type": "code",
   "execution_count": null,
   "metadata": {
    "ExecuteTime": {
     "end_time": "2021-03-22T00:54:13.057391Z",
     "start_time": "2021-03-22T00:52:06.773Z"
    }
   },
   "outputs": [],
   "source": [
    "historicWholeMonth = historic_and_simul_wholesale_df['Volume Weighted Price (Historic) - $/MWh'].values\n",
    "\n",
    "withinSTD = ((historicWholeMonth < monthNominalWhole + monthWholeSTD) & (historicWholeMonth > monthNominalWhole - monthWholeSTD)).sum()\n",
    "withinSTDpercentage = (withinSTD/len(historicWholeMonth)) * 100.0\n",
    "print(f'{withinSTD} cases within the STD range out of {len(historicWholeMonth)}, which makes {withinSTDpercentage}% of total cases')\n",
    "\n",
    "\n",
    "within2STD = ((historicWholeMonth < monthNominalWhole + monthWhole2STD) & (historicWholeMonth > monthNominalWhole - monthWhole2STD)).sum()\n",
    "within2STDpercentage = (within2STD/len(historicWholeMonth)) * 100.0\n",
    "print(f'{within2STD} cases within the 2STD range out of {len(historicWholeMonth)}, which makes {within2STDpercentage}% of total cases')\n"
   ]
  },
  {
   "cell_type": "code",
   "execution_count": null,
   "metadata": {
    "ExecuteTime": {
     "end_time": "2021-03-22T00:54:13.058391Z",
     "start_time": "2021-03-22T00:52:06.779Z"
    },
    "scrolled": true
   },
   "outputs": [],
   "source": [
    "from EMAworkbench.ema_workbench.analysis.plotting import multiple_densities, PlotType\n",
    "from EMAworkbench.ema_workbench.analysis.plotting_util import Density\n",
    "\n",
    "# fig, ax_env = multiple_densities(experiments, outcomes_filtered, outcomes_to_show = ooi,\n",
    "#                                  points_in_time=points_of_interest,  density = Density.HIST,\n",
    "#                                  grouping_specifiers=None , titles={ooi}, ylabels={ooi: \"$/MWh\"}, legend=True,\n",
    "#                                  fill=True, plot_type=PlotType.ENVELOPE)\n",
    "\n",
    "fig, ax_env = multiple_densities(experiments, outcomes_filtered_wholesale, outcomes_to_show = ooi,\n",
    "                                 points_in_time=points_of_interest_wholesale,  density = Density.HIST,\n",
    "                                 grouping_specifiers=None , titles={ooi}, ylabels={ooi: \"$/MWh\"}, legend=True,\n",
    "                                 fill=True, plot_type=PlotType.ENVELOPE)\n",
    "\n",
    "#Change x labels to years\n",
    "ax_env[ooi]['main plot'].set_xticklabels([startYear_wholesale + x / 10.0 for x in range(0,len(time_wholesale)*10,20)])\n",
    "#Add BAU in the plot with a red wide line\n",
    "ax_env[ooi]['main plot'].plot(outcomes_filtered_wholesale[ooi][-1], 'r-',linewidth=2 )\n",
    "ax_env[ooi]['main plot'].plot(outcomes_filtered[ooi][21709], 'y-')\n",
    "ax_env[ooi]['main plot'].plot(outcomes_filtered[ooi][48583], 'k-')\n",
    "ax_env[ooi]['main plot'].plot(outcomes_filtered[ooi][74035], 'm-')\n",
    " \n",
    "\n",
    "ax_env[ooi]['main plot'].plot(historic_wholesale_values, 'g--')\n",
    "\n",
    "\n",
    "fig[0].suptitle(\"{}\".format(ooi), fontsize=15)\n",
    "fig[0].set_size_inches(18.5, 10.5)\n",
    "\n",
    "plt.savefig('{}/fig{}.png'.format(r'C:\\\\Users\\\\angel\\\\Documents\\\\GitHub\\\\gr4sp\\\\experiments\\\\notebookGr4sp\\\\outputs\\\\figs', '_3Regime_envelope_density_%s'%(ooi)),\n",
    "                dpi=300, bbox_inches='tight')\n"
   ]
  },
  {
   "cell_type": "markdown",
   "metadata": {},
   "source": [
    "### Tariffs"
   ]
  },
  {
   "cell_type": "code",
   "execution_count": null,
   "metadata": {
    "ExecuteTime": {
     "end_time": "2021-03-22T00:54:13.060383Z",
     "start_time": "2021-03-22T00:52:06.783Z"
    }
   },
   "outputs": [],
   "source": [
    "#from startYear\n",
    "startYear_tariffs = 2001\n",
    "startYearShift_tariffs = (startYear_tariffs - 1998)\n",
    "\n",
    "#time = outcomes['TIMEYear'][0, startYearShift:]\n",
    "time_tariffs = outcomes['TIMEYear'][0, startYearShift_tariffs:-31]\n",
    "\n",
    "#points_of_interest = [*range(2020,2051,10)] \n",
    "#points_of_interest = [ x - startYear for x in points_of_interest]\n",
    "\n",
    "points_of_interest_tariffs = [0,4,8,12]\n",
    "\n",
    "\n",
    "# Filter outcomes taking into account the startYear, and removing Seed Experiment info. \n",
    "# Seed it is useful if I want to retrieve more info from the csv files, or redo the experiments with the\n",
    "# simulation parameters\n",
    "outcomes_filtered_tariffs = {k:v[:, startYearShift_tariffs:-31] for k,v in outcomes.items() if k != 'seedExperimentCsv'}"
   ]
  },
  {
   "cell_type": "code",
   "execution_count": null,
   "metadata": {
    "ExecuteTime": {
     "end_time": "2021-03-22T00:54:13.061380Z",
     "start_time": "2021-03-22T00:52:06.788Z"
    }
   },
   "outputs": [],
   "source": [
    "# Subset Sool levers/uncertainties\n",
    "selected_uncertainties = uncertainties\n",
    "\n",
    "#selected_levers = levers\n",
    "ooi = 'tariffsYear'\n",
    "data = outcomes_filtered_tariffs[ooi]\n",
    "\n",
    "num_exp = len(data)\n",
    "out_avg_ooi = np.zeros(num_exp)\n",
    "\n",
    "for i in range(num_exp):\n",
    "    out_avg_ooi[i] = data[i].mean()\n",
    "\n",
    "exp = pd.DataFrame(experiments)\n",
    "\n",
    "exp = exp.loc[ :, selected_uncertainties] "
   ]
  },
  {
   "cell_type": "code",
   "execution_count": null,
   "metadata": {
    "ExecuteTime": {
     "end_time": "2021-03-22T00:54:13.062377Z",
     "start_time": "2021-03-22T00:52:06.793Z"
    }
   },
   "outputs": [],
   "source": [
    "#change fig size\n",
    "figure(num=None, figsize=(10, 8), dpi=80, facecolor='w', edgecolor='k')\n",
    "\n",
    "#compute STD and MEAN\n",
    "tariffsSTD = np.std(outcomes_filtered_tariffs['tariffsYear'],axis=0)\n",
    "tariffs2STD = 2*np.std(outcomes_filtered_tariffs['tariffsYear'],axis=0)\n",
    "\n",
    "\n",
    "tariffsMean = np.mean(outcomes_filtered_tariffs['tariffsYear'],axis=0)\n",
    "tariffsNominal = outcomes_filtered_tariffs[ooi][-1]\n",
    "tariffsHistoricVinnies = yearly_historic_tariffs['St Vinnies Historic c/kWh (2019) '].values\n",
    "tariffsHistoricReview = yearly_historic_tariffs['Historic price from review c/KWh (2019)'].values\n",
    "\n",
    "#PLOT MEAN\n",
    "#lineMean, = plt.plot(time_tariffs, tariffsMean, 'b-', label = 'Mean')\n",
    "\n",
    "#PLOT STD and 2STD\n",
    "plt.fill_between(x=time_tariffs, y1=tariffsNominal - tariffsSTD, y2=tariffsNominal + tariffsSTD,\n",
    "                 color='gray', alpha=0.2)\n",
    "plt.fill_between(x=time_tariffs, y1=tariffsNominal - tariffs2STD, y2=tariffsNominal + tariffs2STD,\n",
    "                 color='darkgray', alpha=0.2)\n",
    "#PLOT Historic\n",
    "lineHist, = plt.plot(time_tariffs,tariffsHistoricVinnies, 'g--', label = 'Historic St. Vinnies')\n",
    "lineHist, = plt.plot(time_tariffs,tariffsHistoricReview, 'g--', label = 'Historic Review')\n",
    "\n",
    "\n",
    "#PLOT Nominal\n",
    "lineNominal, = plt.plot(time_tariffs, tariffsNominal, 'r-', label = 'Nominal')\n",
    "\n",
    "#PLOT legend, and title\n",
    "plt.legend(handles=[lineHist,lineNominal,darkgrey_patch,lightgrey_patch])\n",
    "\n",
    "plt.suptitle(\"{}\".format(ooi), fontsize=15)"
   ]
  },
  {
   "cell_type": "code",
   "execution_count": null,
   "metadata": {
    "ExecuteTime": {
     "end_time": "2021-03-22T00:54:13.063783Z",
     "start_time": "2021-03-22T00:52:06.798Z"
    }
   },
   "outputs": [],
   "source": [
    "#change fig size\n",
    "figure(num=None, figsize=(10, 8), dpi=80, facecolor='w', edgecolor='k')\n",
    "\n",
    "#compute STD and MEAN\n",
    "tariffsSTD = np.std(outcomes_filtered_tariffs['tariffsYear'],axis=0)\n",
    "tariffs2STD = 2*np.std(outcomes_filtered_tariffs['tariffsYear'],axis=0)\n",
    "\n",
    "\n",
    "tariffsMean = np.mean(outcomes_filtered_tariffs['tariffsYear'],axis=0)\n",
    "tariffsNominal = outcomes_filtered_tariffs[ooi][-1]\n",
    "tariffsAverageHistoric = yearly_historic_tariffs.mean(axis=1)\n",
    "\n",
    "#PLOT MEAN\n",
    "#lineMean, = plt.plot(time_tariffs, tariffsMean, 'b-', label = 'Mean')\n",
    "\n",
    "#PLOT STD\n",
    "plt.fill_between(x=time_tariffs, y1=tariffsNominal - tariffsSTD, y2=tariffsNominal + tariffsSTD,\n",
    "                 color='gray', alpha=0.2)\n",
    "plt.fill_between(x=time_tariffs, y1=tariffsNominal - tariffs2STD, y2=tariffsNominal + tariffs2STD,\n",
    "                 color='darkgray', alpha=0.2)\n",
    "\n",
    "#PLOT Historic\n",
    "lineHist, = plt.plot(time_tariffs,tariffsAverageHistoric, 'g--', label = 'Historic')\n",
    "\n",
    "#PLOT Nominal\n",
    "lineNominal, = plt.plot(time_tariffs, tariffsNominal, 'r-', label = 'Nominal')\n",
    "\n",
    "lightgrey_patch = mpatches.Patch(color='lightgray', label='2\\u03C3')\n",
    "darkgrey_patch = mpatches.Patch(color='darkgray', label='1\\u03C3')\n",
    "\n",
    "#PLOT legend, and title\n",
    "plt.legend(handles=[lineHist,lineNominal,darkgrey_patch,lightgrey_patch])\n",
    "\n",
    "plt.suptitle(\"{}\".format(ooi), fontsize=15)"
   ]
  },
  {
   "cell_type": "code",
   "execution_count": null,
   "metadata": {
    "ExecuteTime": {
     "end_time": "2021-03-22T00:54:13.064775Z",
     "start_time": "2021-03-22T00:52:06.803Z"
    }
   },
   "outputs": [],
   "source": [
    "withinSTD = ((tariffsAverageHistoric < tariffsNominal + tariffsSTD) & (tariffsAverageHistoric > tariffsNominal - tariffsSTD)).sum()\n",
    "numCases = np.sum(tariffsAverageHistoric.count())\n",
    "withinSTDpercentage = (withinSTD/numCases) * 100.0\n",
    "print(f'{withinSTD} cases within the STD range out of {numCases}, which makes {withinSTDpercentage}% of total cases')\n",
    "\n",
    "within2STD = ((tariffsAverageHistoric < tariffsNominal + tariffs2STD) & (tariffsAverageHistoric > tariffsNominal - tariffs2STD)).sum()\n",
    "numCases = np.sum(tariffsAverageHistoric.count())\n",
    "within2STDpercentage = (within2STD/numCases) * 100.0\n",
    "print(f'{within2STD} cases within the 2STD range out of {numCases}, which makes {within2STDpercentage}% of total cases')\n"
   ]
  },
  {
   "cell_type": "markdown",
   "metadata": {},
   "source": [
    "#### Best seeds according to statistics  MAD, RMSE, Euclidian distance"
   ]
  },
  {
   "cell_type": "code",
   "execution_count": null,
   "metadata": {
    "ExecuteTime": {
     "end_time": "2021-03-22T00:54:13.065773Z",
     "start_time": "2021-03-22T00:52:06.807Z"
    }
   },
   "outputs": [],
   "source": [
    "b = 1.4826\n",
    "\n",
    "abs_difference_list = list()\n",
    "\n",
    "abs_difference_list = abs(tariffsNominal - outcomes_filtered_tariffs['tariffsYear'])\n",
    "\n",
    "mad = np.median(abs_difference_list,axis=1)\n",
    "print(f'Best possible MAD for {ooi} is {np.min(mad):.2f}, experiment index {np.argmin(mad)} vs. the MAD of Nominal {mad[-1]:.2f}')\n",
    "\n",
    "#Root-mean square error\n",
    "rms = np.sqrt(np.mean(np.square(tariffsNominal - outcomes_filtered_tariffs['tariffsYear']),axis=1))\n",
    "print(f'Best possible RMS for {ooi} is {np.min(rms):.2f}, experiment index {np.argmin(rms)} vs. the RMS of Nominal {rms[-1]:.2f}')\n",
    "\n",
    "#Euclidian distance\n",
    "eucl = dist = np.linalg.norm(tariffsNominal - outcomes_filtered_tariffs['tariffsYear'],axis=1)\n",
    "\n",
    "print(f'Best possible Euclidean Distance for {ooi} is {np.min(eucl):.2f}, experiment index {np.argmin(eucl)} vs. the Euclidean Distance of Nominal {eucl[-1]:.2f}')\n"
   ]
  },
  {
   "cell_type": "code",
   "execution_count": null,
   "metadata": {
    "ExecuteTime": {
     "end_time": "2021-03-22T00:54:13.066770Z",
     "start_time": "2021-03-22T00:52:06.813Z"
    },
    "scrolled": false
   },
   "outputs": [],
   "source": [
    "from EMAworkbench.ema_workbench.analysis.plotting import multiple_densities, PlotType\n",
    "from EMAworkbench.ema_workbench.analysis.plotting_util import Density\n",
    "\n",
    "fig, ax_env = multiple_densities(experiments, outcomes_filtered_tariffs, outcomes_to_show = ooi,\n",
    "                                 points_in_time=points_of_interest_tariffs,  density = Density.HIST,\n",
    "                                 grouping_specifiers=None , titles={ooi}, ylabels={ooi: \"c/KWh\"}, legend=True,\n",
    "                                 fill=True, plot_type=PlotType.ENVELOPE)\n",
    "\n",
    "#Change x labels to years\n",
    "ax_env[ooi]['main plot'].set_xticklabels([startYear_tariffs + x / 10.0 for x in range(0,len(time_tariffs)*10,20)])\n",
    "#Add BAU in the plot with a red wide line\n",
    "ax_env[ooi]['main plot'].plot(outcomes_filtered_tariffs[ooi][-1], 'r:',linewidth=2 )\n",
    "\n",
    "ax_env[ooi]['main plot'].plot(yearly_historic_tariffs['St Vinnies Historic c/kWh (2019) '].values, 'k--')\n",
    "ax_env[ooi]['main plot'].plot(yearly_historic_tariffs['Historic price from review c/KWh (2019)'].values, 'k--')\n",
    "\n",
    "fig[0].suptitle(\"{}\".format(ooi), fontsize=15)\n",
    "fig[0].set_size_inches(18.5, 10.5)\n",
    "\n",
    "plt.savefig('{}/fig{}.png'.format(r'C:\\\\Users\\\\angel\\\\Documents\\\\GitHub\\\\gr4sp\\\\experiments\\\\notebookGr4sp\\\\outputs\\\\figs', '_3Regime_envelope_density_%s'%(ooi)),\n",
    "                dpi=300, bbox_inches='tight')\n"
   ]
  },
  {
   "cell_type": "markdown",
   "metadata": {},
   "source": [
    "## Renewable energy in the System"
   ]
  },
  {
   "cell_type": "code",
   "execution_count": null,
   "metadata": {
    "ExecuteTime": {
     "end_time": "2021-03-22T00:54:13.067768Z",
     "start_time": "2021-03-22T00:52:06.818Z"
    }
   },
   "outputs": [],
   "source": [
    "## Historic renewables in the system (from OpenNem data)"
   ]
  },
  {
   "cell_type": "code",
   "execution_count": null,
   "metadata": {
    "ExecuteTime": {
     "end_time": "2021-03-22T00:54:13.069762Z",
     "start_time": "2021-03-22T00:52:06.822Z"
    }
   },
   "outputs": [],
   "source": [
    "#from startYear\n",
    "startYear_re = 2005\n",
    "startYearShift_re = (startYear_re - 1998)\n",
    "\n",
    "#time = outcomes['TIMEYear'][0, startYearShift:]\n",
    "time_re = outcomes['TIMEYear'][0, startYearShift_re:-30]\n",
    "\n",
    "#points_of_interest = [*range(2020,2051,10)] \n",
    "#points_of_interest = [ x - startYear for x in points_of_interest]\n",
    "\n",
    "points_of_interest_re = [0,5,10,15]\n",
    "\n",
    "\n",
    "# Filter outcomes taking into account the startYear, and removing Seed Experiment info. \n",
    "# Seed it is useful if I want to retrieve more info from the csv files, or redo the experiments with the\n",
    "# simulation parameters\n",
    "outcomes_filtered_re = {k:v[:, startYearShift_re:-30] for k,v in outcomes.items() if k != 'seedExperimentCsv'}"
   ]
  },
  {
   "cell_type": "code",
   "execution_count": null,
   "metadata": {
    "ExecuteTime": {
     "end_time": "2021-03-22T00:54:13.070760Z",
     "start_time": "2021-03-22T00:52:06.826Z"
    }
   },
   "outputs": [],
   "source": [
    "ooi = 'renewableContributionYear'"
   ]
  },
  {
   "cell_type": "code",
   "execution_count": null,
   "metadata": {
    "ExecuteTime": {
     "end_time": "2021-03-22T00:54:13.071757Z",
     "start_time": "2021-03-22T00:52:06.829Z"
    }
   },
   "outputs": [],
   "source": [
    "## Energy Production per month per technology\n",
    "histSolarRooftop = historic_wholesale_df['Solar (Rooftop) - GWh'].resample('YS').mean().values\n",
    "histSolarUtility = historic_wholesale_df['Solar (Utility) - GWh'].resample('YS').mean().values\n",
    "histWind = historic_wholesale_df['Wind - GWh'].resample('YS').mean().values\n",
    "histHydro = historic_wholesale_df['Hydro - GWh'].resample('YS').mean().values\n",
    "histBatt = historic_wholesale_df['Battery (Discharging) - GWh'].resample('YS').mean().values\n",
    "histGasOcgt = historic_wholesale_df['Gas (OCGT) - GWh'].resample('YS').mean().values\n",
    "histGasCcgt = historic_wholesale_df['Gas (Steam) - GWh'].resample('YS').mean().values\n",
    "histBC = historic_wholesale_df['Brown Coal - GWh'].resample('YS').mean().values\n",
    "histImport = historic_wholesale_df['Imports - GWh'].resample('YS').mean().values\n",
    "histExport = historic_wholesale_df['Exports - GWh'].resample('YS').mean().values\n",
    "\n",
    "allProduction = histSolarRooftop + histSolarUtility + histWind + histHydro + histBatt + histGasCcgt + histGasOcgt + histBC\n",
    "\n",
    "histRenewableProductionPerc = ((histSolarRooftop+histSolarUtility+histHydro) / allProduction) "
   ]
  },
  {
   "cell_type": "markdown",
   "metadata": {},
   "source": [
    "### Best seeds according to MAD, RMSE, and euclidian distance metrics"
   ]
  },
  {
   "cell_type": "code",
   "execution_count": null,
   "metadata": {
    "ExecuteTime": {
     "end_time": "2021-03-22T00:54:13.073751Z",
     "start_time": "2021-03-22T00:52:06.834Z"
    }
   },
   "outputs": [],
   "source": [
    "b = 1.4826\n",
    "\n",
    "abs_difference_list = list()\n",
    "historic_emissions = historic_emissions_df[historic_emissions_df.index > 1997]['Hist_GHGE_MtCO2e']\n",
    "abs_difference_list = abs(historic_emissions.values - outcomes_filtered['GHGYear'])\n",
    "\n",
    "mad = np.median(abs_difference_list,axis=1)\n",
    "print(f'Best possible MAD for {ooi} is {np.min(mad):.2f}, experiment index {np.argmin(mad)} vs. the MAD of Nominal {mad[-1]:.2f}')\n",
    "\n",
    "# sumad = np.sum(abs_difference_list,axis=1)\n",
    "# print(f'Best possible SumAD for {ooi} is {np.min(sumad):.2f}, experiment index {np.argmin(sumad)} vs. the SumAD of Nominal {sumad[-1]:.2f}')\n",
    "\n",
    "#Root-mean square error\n",
    "rms = np.sqrt(np.mean(np.square(historic_emissions.values - outcomes_filtered['GHGYear']),axis=1))\n",
    "print(f'Best possible RMS for {ooi} is {np.min(rms):.2f}, experiment index {np.argmin(rms)} vs. the RMS of Nominal {rms[-1]:.2f}')\n",
    "\n",
    "#Euclidian distance\n",
    "eucl = dist = np.linalg.norm(historic_emissions.values - outcomes_filtered['GHGYear'],axis=1)\n",
    "\n",
    "print(f'Best possible Euclidean Distance for {ooi} is {np.min(eucl):.2f}, experiment index {np.argmin(eucl)} vs. the Euclidean Distance of Nominal {eucl[-1]:.2f}')\n",
    "\n",
    "\n",
    "\n",
    "# print(f'RMS for {ooi} of best experiment for Wholesale Price (74035) {rms[74035]:.2f}')"
   ]
  },
  {
   "cell_type": "code",
   "execution_count": null,
   "metadata": {
    "ExecuteTime": {
     "end_time": "2021-03-22T00:54:13.074749Z",
     "start_time": "2021-03-22T00:52:06.838Z"
    }
   },
   "outputs": [],
   "source": [
    "#change fig size\n",
    "figure(num=None, figsize=(10, 8), dpi=80, facecolor='w', edgecolor='k')\n",
    "\n",
    "#compute STD and MEAN\n",
    "reSTD = np.std(outcomes_filtered_re['renewableContributionYear'],axis=0)\n",
    "re2STD = 2*np.std(outcomes_filtered_re['renewableContributionYear'],axis=0)\n",
    "\n",
    "reMean = np.mean(outcomes_filtered_re['renewableContributionYear'],axis=0)\n",
    "reNominal = outcomes_filtered_re[ooi][-1]\n",
    "reHistoric = histRenewableProductionPerc\n",
    "\n",
    "#PLOT MEAN\n",
    "#lineMean, = plt.plot(time_re,reMean, 'b-', label = 'Mean')\n",
    "\n",
    "#PLOT STD\n",
    "plt.fill_between(x=time_re,y1=reNominal - reSTD, y2=reNominal + reSTD,\n",
    "                 color='gray', alpha=0.2)\n",
    "plt.fill_between(x=time_re,y1=reNominal - re2STD, y2=reNominal + re2STD,\n",
    "                 color='darkgray', alpha=0.2)\n",
    "\n",
    "#PLOT Historic\n",
    "lineHist, = plt.plot(time_re,reHistoric, 'g--', label = 'Historic')\n",
    "\n",
    "#PLOT Nominal\n",
    "lineNominal, = plt.plot(time_re,reNominal, 'r-', label = 'Nominal')\n",
    "\n",
    "\n",
    "lightgrey_patch = mpatches.Patch(color='lightgray', label='2\\u03C3')\n",
    "darkgrey_patch = mpatches.Patch(color='darkgray', label='1\\u03C3')\n",
    "\n",
    "#PLOT legend, and title\n",
    "plt.legend(handles=[lineHist,lineNominal,darkgrey_patch,lightgrey_patch])\n",
    "\n",
    "plt.suptitle(\"{}\".format(ooi), fontsize=15)"
   ]
  },
  {
   "cell_type": "code",
   "execution_count": null,
   "metadata": {
    "ExecuteTime": {
     "end_time": "2021-03-22T00:54:13.076743Z",
     "start_time": "2021-03-22T00:52:06.843Z"
    }
   },
   "outputs": [],
   "source": [
    "withinSTD = ((histRenewableProductionPerc < reNominal + reSTD) & (histRenewableProductionPerc > reNominal - reSTD)).sum()\n",
    "numCases = len(histRenewableProductionPerc)\n",
    "withinSTDpercentage = (withinSTD/numCases) * 100.0\n",
    "print(f'{withinSTD} cases within the STD range out of {numCases}, which makes {withinSTDpercentage}% of total cases')\n",
    "\n",
    "within2STD = ((histRenewableProductionPerc < reNominal + re2STD) & (histRenewableProductionPerc > reNominal - re2STD)).sum()\n",
    "numCases = len(histRenewableProductionPerc)\n",
    "within2STDpercentage = (within2STD/numCases) * 100.0\n",
    "print(f'{within2STD} cases within the 2STD range out of {numCases}, which makes {within2STDpercentage}% of total cases')"
   ]
  },
  {
   "cell_type": "code",
   "execution_count": null,
   "metadata": {},
   "outputs": [],
   "source": []
  }
 ],
 "metadata": {
  "kernelspec": {
   "display_name": "Python 3",
   "language": "python",
   "name": "python3"
  },
  "language_info": {
   "codemirror_mode": {
    "name": "ipython",
    "version": 3
   },
   "file_extension": ".py",
   "mimetype": "text/x-python",
   "name": "python",
   "nbconvert_exporter": "python",
   "pygments_lexer": "ipython3",
   "version": "3.7.3"
  },
  "toc": {
   "base_numbering": 1,
   "nav_menu": {},
   "number_sections": true,
   "sideBar": true,
   "skip_h1_title": false,
   "title_cell": "Table of Contents",
   "title_sidebar": "Contents",
   "toc_cell": false,
   "toc_position": {
    "height": "calc(100% - 180px)",
    "left": "10px",
    "top": "150px",
    "width": "321.391px"
   },
   "toc_section_display": true,
   "toc_window_display": true
  },
  "varInspector": {
   "cols": {
    "lenName": 16,
    "lenType": 16,
    "lenVar": 40
   },
   "kernels_config": {
    "python": {
     "delete_cmd_postfix": "",
     "delete_cmd_prefix": "del ",
     "library": "var_list.py",
     "varRefreshCmd": "print(var_dic_list())"
    },
    "r": {
     "delete_cmd_postfix": ") ",
     "delete_cmd_prefix": "rm(",
     "library": "var_list.r",
     "varRefreshCmd": "cat(var_dic_list()) "
    }
   },
   "position": {
    "height": "707.986px",
    "left": "1487px",
    "right": "20px",
    "top": "426.997px",
    "width": "397.969px"
   },
   "types_to_exclude": [
    "module",
    "function",
    "builtin_function_or_method",
    "instance",
    "_Feature"
   ],
   "window_display": false
  }
 },
 "nbformat": 4,
 "nbformat_minor": 2
}
