{
 "cells": [
  {
   "cell_type": "markdown",
   "metadata": {},
   "source": [
    "# Initial setup\n",
    "\n",
    "This analysis using ema is based on the work of Enayat A. Moallemi created on 22 May 2018 at the Fraunhofer ISI, Karlsruhe. In that instance, the analysis was done for the MATISSE model."
   ]
  },
  {
   "cell_type": "code",
   "execution_count": 1,
   "metadata": {
    "ExecuteTime": {
     "end_time": "2021-03-02T08:25:07.589730Z",
     "start_time": "2021-03-02T08:25:04.483067Z"
    },
    "pycharm": {
     "name": "#%%\n"
    }
   },
   "outputs": [
    {
     "name": "stderr",
     "output_type": "stream",
     "text": [
      "C:\\Users\\angel\\Anaconda3\\lib\\importlib\\_bootstrap.py:219: ImportWarning:\n",
      "\n",
      "can't resolve package from __spec__ or __package__, falling back on __name__ and __path__\n",
      "\n"
     ]
    }
   ],
   "source": [
    "\"\"\"\n",
    "Based on Enayat A. Moallemi version from May 2018\n",
    "\n",
    "edited by Angela M. Rojas A. <angelara@student.unimelb.edu.au>\n",
    "\n",
    "Created on February 2020\n",
    "\n",
    "\"\"\"\n",
    "\n",
    "import sys\n",
    "import os\n",
    "\n",
    "sys.path.append(r'C:\\Users\\angel\\Documents\\GitHub\\gr4sp\\experiments\\EMAworkbench')\n",
    "\n",
    "sys.path.append(r'C:\\Users\\angel\\Documents\\GitHub\\gr4sp\\experiments')\n",
    "\n",
    "#from ema_workbench.analysis.plotting_util import BOXPLOT, KDE, VIOLIN\n",
    "from ema_workbench.analysis.plotting import envelopes\n",
    "import matplotlib.pyplot as plt\n",
    "import numpy as np\n",
    "\n",
    "import pandas as pd\n",
    "import matplotlib.cm as cm\n",
    "import seaborn as sns\n",
    "from ema_workbench.analysis import prim\n",
    "#import pareto\n",
    "import os\n",
    "import glob\n",
    "import numpy as np\n",
    "import pandas as pd\n",
    "import os\n",
    "import glob\n",
    "import datetime as DT\n",
    "\n",
    "\n"
   ]
  },
  {
   "cell_type": "markdown",
   "metadata": {},
   "source": [
    "## Load the results"
   ]
  },
  {
   "cell_type": "code",
   "execution_count": 2,
   "metadata": {
    "ExecuteTime": {
     "end_time": "2021-03-02T08:26:02.235674Z",
     "start_time": "2021-03-02T08:25:17.552661Z"
    },
    "pycharm": {
     "name": "#%%\n"
    }
   },
   "outputs": [],
   "source": [
    "from ema_workbench import load_results\n",
    "\n",
    "#results = load_results(r'C:\\Users\\angel\\Documents\\GitHub\\gr4sp\\experiments\\data\\gr4sp_2020-Feb-20-years.tar.gz')\n",
    "#results = load_results(r'C:\\Users\\angel\\Documents\\GitHub\\gr4sp\\experiments\\data\\gr4sp_2020-Feb-07_EET_allV3.tar.gz')\n",
    "#results = load_results(r'C:\\Users\\angel\\Documents\\GitHub\\gr4sp\\experiments\\data\\gr4sp_2020-Feb-25-LHS.tar.gz')\n",
    "#results = load_results(r'C:/Users/angel/Documents/GitHub/gr4sp/experiments/simulationData/gr4sp_EET2020-Oct-05.tar.gz')\n",
    "results = load_results(r'C:/Users/angel/Documents/GitHub/gr4sp/experiments/simulationData/gr4sp_SOBOL-HypoPast-2021-Jan-20.tar.gz')\n",
    "\n"
   ]
  },
  {
   "cell_type": "code",
   "execution_count": 3,
   "metadata": {
    "ExecuteTime": {
     "end_time": "2021-03-02T08:26:02.498368Z",
     "start_time": "2021-03-02T08:26:02.358767Z"
    },
    "pycharm": {
     "name": "#%%\n"
    },
    "scrolled": true
   },
   "outputs": [
    {
     "data": {
      "text/html": [
       "<div>\n",
       "<style scoped>\n",
       "    .dataframe tbody tr th:only-of-type {\n",
       "        vertical-align: middle;\n",
       "    }\n",
       "\n",
       "    .dataframe tbody tr th {\n",
       "        vertical-align: top;\n",
       "    }\n",
       "\n",
       "    .dataframe thead th {\n",
       "        text-align: right;\n",
       "    }\n",
       "</style>\n",
       "<table border=\"1\" class=\"dataframe\">\n",
       "  <thead>\n",
       "    <tr style=\"text-align: right;\">\n",
       "      <th></th>\n",
       "      <th>consumption</th>\n",
       "      <th>domesticConsumptionPercentage</th>\n",
       "      <th>generationRolloutPeriod</th>\n",
       "      <th>importPriceFactor</th>\n",
       "      <th>includePublicallyAnnouncedGen</th>\n",
       "      <th>learningCurve</th>\n",
       "      <th>nameplateCapacityChangeBattery</th>\n",
       "      <th>nameplateCapacityChangeBrownCoal</th>\n",
       "      <th>nameplateCapacityChangeOcgt</th>\n",
       "      <th>nameplateCapacityChangeSolar</th>\n",
       "      <th>...</th>\n",
       "      <th>priceChangePercentageBattery</th>\n",
       "      <th>priceChangePercentageBrownCoal</th>\n",
       "      <th>priceChangePercentageOcgt</th>\n",
       "      <th>priceChangePercentageWater</th>\n",
       "      <th>priceChangePercentageWind</th>\n",
       "      <th>semiScheduleGenSpotMarket</th>\n",
       "      <th>semiScheduleMinCapMarketGen</th>\n",
       "      <th>solarUptake</th>\n",
       "      <th>technologicalImprovement</th>\n",
       "      <th>wholesaleTariffContribution</th>\n",
       "    </tr>\n",
       "  </thead>\n",
       "  <tbody>\n",
       "    <tr>\n",
       "      <th>count</th>\n",
       "      <td>105000.000000</td>\n",
       "      <td>105000.000000</td>\n",
       "      <td>105000.000000</td>\n",
       "      <td>105000.000000</td>\n",
       "      <td>105000.000000</td>\n",
       "      <td>105000.000000</td>\n",
       "      <td>105000.000000</td>\n",
       "      <td>105000.000000</td>\n",
       "      <td>105000.000000</td>\n",
       "      <td>105000.000000</td>\n",
       "      <td>...</td>\n",
       "      <td>105000.000000</td>\n",
       "      <td>105000.000000</td>\n",
       "      <td>105000.000000</td>\n",
       "      <td>105000.000000</td>\n",
       "      <td>105000.000000</td>\n",
       "      <td>105000.0000</td>\n",
       "      <td>105000.000000</td>\n",
       "      <td>105000.000000</td>\n",
       "      <td>105000.000000</td>\n",
       "      <td>105000.000000</td>\n",
       "    </tr>\n",
       "    <tr>\n",
       "      <th>mean</th>\n",
       "      <td>2.000952</td>\n",
       "      <td>34.977381</td>\n",
       "      <td>5.495714</td>\n",
       "      <td>0.005952</td>\n",
       "      <td>0.500000</td>\n",
       "      <td>7.498095</td>\n",
       "      <td>0.003095</td>\n",
       "      <td>-0.013810</td>\n",
       "      <td>-0.022857</td>\n",
       "      <td>0.030238</td>\n",
       "      <td>...</td>\n",
       "      <td>-0.026429</td>\n",
       "      <td>0.005714</td>\n",
       "      <td>-0.019048</td>\n",
       "      <td>-0.018810</td>\n",
       "      <td>0.028810</td>\n",
       "      <td>9.0000</td>\n",
       "      <td>150.633333</td>\n",
       "      <td>2.000714</td>\n",
       "      <td>7.500000</td>\n",
       "      <td>27.493333</td>\n",
       "    </tr>\n",
       "    <tr>\n",
       "      <th>std</th>\n",
       "      <td>1.415062</td>\n",
       "      <td>8.947333</td>\n",
       "      <td>2.872209</td>\n",
       "      <td>29.151635</td>\n",
       "      <td>0.500002</td>\n",
       "      <td>4.609794</td>\n",
       "      <td>29.153775</td>\n",
       "      <td>29.154413</td>\n",
       "      <td>29.154383</td>\n",
       "      <td>29.152714</td>\n",
       "      <td>...</td>\n",
       "      <td>29.152857</td>\n",
       "      <td>29.153967</td>\n",
       "      <td>29.154059</td>\n",
       "      <td>29.155541</td>\n",
       "      <td>29.155884</td>\n",
       "      <td>0.8165</td>\n",
       "      <td>86.602028</td>\n",
       "      <td>1.414978</td>\n",
       "      <td>4.609794</td>\n",
       "      <td>10.387013</td>\n",
       "    </tr>\n",
       "    <tr>\n",
       "      <th>min</th>\n",
       "      <td>0.000000</td>\n",
       "      <td>20.000000</td>\n",
       "      <td>1.000000</td>\n",
       "      <td>-50.000000</td>\n",
       "      <td>0.000000</td>\n",
       "      <td>0.000000</td>\n",
       "      <td>-50.000000</td>\n",
       "      <td>-50.000000</td>\n",
       "      <td>-50.000000</td>\n",
       "      <td>-50.000000</td>\n",
       "      <td>...</td>\n",
       "      <td>-50.000000</td>\n",
       "      <td>-50.000000</td>\n",
       "      <td>-50.000000</td>\n",
       "      <td>-50.000000</td>\n",
       "      <td>-50.000000</td>\n",
       "      <td>8.0000</td>\n",
       "      <td>1.000000</td>\n",
       "      <td>0.000000</td>\n",
       "      <td>0.000000</td>\n",
       "      <td>10.000000</td>\n",
       "    </tr>\n",
       "    <tr>\n",
       "      <th>25%</th>\n",
       "      <td>1.000000</td>\n",
       "      <td>27.000000</td>\n",
       "      <td>3.000000</td>\n",
       "      <td>-25.000000</td>\n",
       "      <td>0.000000</td>\n",
       "      <td>3.750000</td>\n",
       "      <td>-25.000000</td>\n",
       "      <td>-25.000000</td>\n",
       "      <td>-25.000000</td>\n",
       "      <td>-25.000000</td>\n",
       "      <td>...</td>\n",
       "      <td>-25.000000</td>\n",
       "      <td>-25.000000</td>\n",
       "      <td>-25.000000</td>\n",
       "      <td>-25.000000</td>\n",
       "      <td>-25.000000</td>\n",
       "      <td>8.0000</td>\n",
       "      <td>75.750000</td>\n",
       "      <td>1.000000</td>\n",
       "      <td>3.750000</td>\n",
       "      <td>18.750000</td>\n",
       "    </tr>\n",
       "    <tr>\n",
       "      <th>50%</th>\n",
       "      <td>2.000000</td>\n",
       "      <td>35.000000</td>\n",
       "      <td>5.500000</td>\n",
       "      <td>0.000000</td>\n",
       "      <td>0.500000</td>\n",
       "      <td>7.500000</td>\n",
       "      <td>0.000000</td>\n",
       "      <td>0.000000</td>\n",
       "      <td>0.000000</td>\n",
       "      <td>0.000000</td>\n",
       "      <td>...</td>\n",
       "      <td>0.000000</td>\n",
       "      <td>0.000000</td>\n",
       "      <td>0.000000</td>\n",
       "      <td>0.000000</td>\n",
       "      <td>0.000000</td>\n",
       "      <td>9.0000</td>\n",
       "      <td>150.500000</td>\n",
       "      <td>2.000000</td>\n",
       "      <td>7.500000</td>\n",
       "      <td>27.500000</td>\n",
       "    </tr>\n",
       "    <tr>\n",
       "      <th>75%</th>\n",
       "      <td>3.000000</td>\n",
       "      <td>43.000000</td>\n",
       "      <td>8.000000</td>\n",
       "      <td>25.000000</td>\n",
       "      <td>1.000000</td>\n",
       "      <td>11.250000</td>\n",
       "      <td>25.000000</td>\n",
       "      <td>25.000000</td>\n",
       "      <td>25.000000</td>\n",
       "      <td>25.000000</td>\n",
       "      <td>...</td>\n",
       "      <td>25.000000</td>\n",
       "      <td>25.000000</td>\n",
       "      <td>25.000000</td>\n",
       "      <td>25.000000</td>\n",
       "      <td>25.000000</td>\n",
       "      <td>10.0000</td>\n",
       "      <td>225.250000</td>\n",
       "      <td>3.000000</td>\n",
       "      <td>11.250000</td>\n",
       "      <td>36.250000</td>\n",
       "    </tr>\n",
       "    <tr>\n",
       "      <th>max</th>\n",
       "      <td>4.000000</td>\n",
       "      <td>50.000000</td>\n",
       "      <td>10.000000</td>\n",
       "      <td>50.000000</td>\n",
       "      <td>1.000000</td>\n",
       "      <td>15.000000</td>\n",
       "      <td>50.000000</td>\n",
       "      <td>50.000000</td>\n",
       "      <td>50.000000</td>\n",
       "      <td>50.000000</td>\n",
       "      <td>...</td>\n",
       "      <td>50.000000</td>\n",
       "      <td>50.000000</td>\n",
       "      <td>50.000000</td>\n",
       "      <td>50.000000</td>\n",
       "      <td>50.000000</td>\n",
       "      <td>10.0000</td>\n",
       "      <td>300.000000</td>\n",
       "      <td>4.000000</td>\n",
       "      <td>15.000000</td>\n",
       "      <td>45.000000</td>\n",
       "    </tr>\n",
       "  </tbody>\n",
       "</table>\n",
       "<p>8 rows × 24 columns</p>\n",
       "</div>"
      ],
      "text/plain": [
       "         consumption  domesticConsumptionPercentage  generationRolloutPeriod  \\\n",
       "count  105000.000000                  105000.000000            105000.000000   \n",
       "mean        2.000952                      34.977381                 5.495714   \n",
       "std         1.415062                       8.947333                 2.872209   \n",
       "min         0.000000                      20.000000                 1.000000   \n",
       "25%         1.000000                      27.000000                 3.000000   \n",
       "50%         2.000000                      35.000000                 5.500000   \n",
       "75%         3.000000                      43.000000                 8.000000   \n",
       "max         4.000000                      50.000000                10.000000   \n",
       "\n",
       "       importPriceFactor  includePublicallyAnnouncedGen  learningCurve  \\\n",
       "count      105000.000000                  105000.000000  105000.000000   \n",
       "mean            0.005952                       0.500000       7.498095   \n",
       "std            29.151635                       0.500002       4.609794   \n",
       "min           -50.000000                       0.000000       0.000000   \n",
       "25%           -25.000000                       0.000000       3.750000   \n",
       "50%             0.000000                       0.500000       7.500000   \n",
       "75%            25.000000                       1.000000      11.250000   \n",
       "max            50.000000                       1.000000      15.000000   \n",
       "\n",
       "       nameplateCapacityChangeBattery  nameplateCapacityChangeBrownCoal  \\\n",
       "count                   105000.000000                     105000.000000   \n",
       "mean                         0.003095                         -0.013810   \n",
       "std                         29.153775                         29.154413   \n",
       "min                        -50.000000                        -50.000000   \n",
       "25%                        -25.000000                        -25.000000   \n",
       "50%                          0.000000                          0.000000   \n",
       "75%                         25.000000                         25.000000   \n",
       "max                         50.000000                         50.000000   \n",
       "\n",
       "       nameplateCapacityChangeOcgt  nameplateCapacityChangeSolar  ...  \\\n",
       "count                105000.000000                 105000.000000  ...   \n",
       "mean                     -0.022857                      0.030238  ...   \n",
       "std                      29.154383                     29.152714  ...   \n",
       "min                     -50.000000                    -50.000000  ...   \n",
       "25%                     -25.000000                    -25.000000  ...   \n",
       "50%                       0.000000                      0.000000  ...   \n",
       "75%                      25.000000                     25.000000  ...   \n",
       "max                      50.000000                     50.000000  ...   \n",
       "\n",
       "       priceChangePercentageBattery  priceChangePercentageBrownCoal  \\\n",
       "count                 105000.000000                   105000.000000   \n",
       "mean                      -0.026429                        0.005714   \n",
       "std                       29.152857                       29.153967   \n",
       "min                      -50.000000                      -50.000000   \n",
       "25%                      -25.000000                      -25.000000   \n",
       "50%                        0.000000                        0.000000   \n",
       "75%                       25.000000                       25.000000   \n",
       "max                       50.000000                       50.000000   \n",
       "\n",
       "       priceChangePercentageOcgt  priceChangePercentageWater  \\\n",
       "count              105000.000000               105000.000000   \n",
       "mean                   -0.019048                   -0.018810   \n",
       "std                    29.154059                   29.155541   \n",
       "min                   -50.000000                  -50.000000   \n",
       "25%                   -25.000000                  -25.000000   \n",
       "50%                     0.000000                    0.000000   \n",
       "75%                    25.000000                   25.000000   \n",
       "max                    50.000000                   50.000000   \n",
       "\n",
       "       priceChangePercentageWind  semiScheduleGenSpotMarket  \\\n",
       "count              105000.000000                105000.0000   \n",
       "mean                    0.028810                     9.0000   \n",
       "std                    29.155884                     0.8165   \n",
       "min                   -50.000000                     8.0000   \n",
       "25%                   -25.000000                     8.0000   \n",
       "50%                     0.000000                     9.0000   \n",
       "75%                    25.000000                    10.0000   \n",
       "max                    50.000000                    10.0000   \n",
       "\n",
       "       semiScheduleMinCapMarketGen    solarUptake  technologicalImprovement  \\\n",
       "count                105000.000000  105000.000000             105000.000000   \n",
       "mean                    150.633333       2.000714                  7.500000   \n",
       "std                      86.602028       1.414978                  4.609794   \n",
       "min                       1.000000       0.000000                  0.000000   \n",
       "25%                      75.750000       1.000000                  3.750000   \n",
       "50%                     150.500000       2.000000                  7.500000   \n",
       "75%                     225.250000       3.000000                 11.250000   \n",
       "max                     300.000000       4.000000                 15.000000   \n",
       "\n",
       "       wholesaleTariffContribution  \n",
       "count                105000.000000  \n",
       "mean                     27.493333  \n",
       "std                      10.387013  \n",
       "min                      10.000000  \n",
       "25%                      18.750000  \n",
       "50%                      27.500000  \n",
       "75%                      36.250000  \n",
       "max                      45.000000  \n",
       "\n",
       "[8 rows x 24 columns]"
      ]
     },
     "execution_count": 3,
     "metadata": {},
     "output_type": "execute_result"
    }
   ],
   "source": [
    "experiments, outcomes = results\n",
    "experiments.describe()"
   ]
  },
  {
   "cell_type": "markdown",
   "metadata": {},
   "source": [
    "Code to remove a Nan experiment if existent\n",
    "\n",
    "Run this code to find the experiment that needs to be removed:\n",
    "\n",
    "```python\n",
    "\toutcome_df = dict()\n",
    "\tfor k in outcomes.keys():\n",
    "\t     outcome_df[k] = pd.DataFrame.from_dict(outcomes[k])\n",
    "\t    \n",
    "\t\n",
    "\tfor k in outcomes.keys():\n",
    "\t    print(outcome_df[k][outcome_df[k].isna().any(axis=1)])\n",
    "\n",
    "```\n",
    "\n",
    "and then use the ``id`` of the experiment and remove it with the code below"
   ]
  },
  {
   "cell_type": "code",
   "execution_count": 4,
   "metadata": {
    "ExecuteTime": {
     "end_time": "2021-03-02T08:26:31.210619Z",
     "start_time": "2021-03-02T08:26:30.288553Z"
    }
   },
   "outputs": [],
   "source": [
    "outcomes_wo_nan = {}\n",
    "for k in outcomes.keys():\n",
    "    l1 = outcomes[k][0:41357]\n",
    "    l2 = outcomes[k][41357+1:41379]\n",
    "    l3 = outcomes[k][41379+1:]\n",
    "    outcomes_wo_nan[k] = np.concatenate((l1,l2,l3))\n",
    "outcomes = outcomes_wo_nan"
   ]
  },
  {
   "cell_type": "markdown",
   "metadata": {},
   "source": [
    "## Load Energy Vulnerability"
   ]
  },
  {
   "cell_type": "code",
   "execution_count": null,
   "metadata": {
    "ExecuteTime": {
     "start_time": "2021-03-01T06:29:08.483Z"
    }
   },
   "outputs": [],
   "source": [
    "# Energy vulnerability results\n",
    "ev_results_df = pd.read_excel(r'C:/Users/angel/Documents/GitHub/gr4sp/experiments/notebookGr4sp/outputs/data/EV_all.xlsx', index_col=[0])"
   ]
  },
  {
   "cell_type": "code",
   "execution_count": null,
   "metadata": {
    "ExecuteTime": {
     "start_time": "2021-03-01T06:29:09.596Z"
    }
   },
   "outputs": [],
   "source": [
    "# Duplicate results from 2040 into the years of 2040-2050\n",
    "\n",
    "ev_results_df.insert(0, 1998, ev_results_df[2000])\n",
    "ev_results_df.insert(0, 1999, ev_results_df[2000])\n",
    "for t in range(2041,2051):\n",
    "     ev_results_df[t] = ev_results_df[2040]\n",
    "        \n",
    "# Add it to outcomes data structure\n",
    "outcomes['Energy Vulnerability Percentage'] = ev_results_df.values"
   ]
  },
  {
   "cell_type": "code",
   "execution_count": null,
   "metadata": {
    "ExecuteTime": {
     "start_time": "2021-03-01T06:29:09.986Z"
    }
   },
   "outputs": [],
   "source": [
    "# Energy vulnerability results\n",
    "ev_results_df_bau = pd.read_excel(r'C:/Users/angel/Documents/GitHub/gr4sp/experiments/notebookGr4sp/outputs/data/EV_oneScenario.xlsx', index_col=[0,1,2])\n",
    "\n",
    "# Aggregate desagregated groups into a total parcentage\n",
    "ev_bau = ev_results_df_bau.mean()\n",
    "\n",
    "ev_bau_98_99 = pd.DataFrame(data=[ev_bau[2000],ev_bau[2000]],index=[1998,1999])\n",
    "ev_bau_full = pd.concat([ev_bau_98_99, ev_bau], axis=0)\n",
    "\n",
    "# Duplicate results from 2040 into the years of 2040-2050\n",
    "for t in range(2041,2051):\n",
    "     ev_bau_full.loc[t] = ev_bau_full.loc[2040]\n",
    "        \n",
    "outcomes['Energy Vulnerability Percentage'] = np.append(outcomes['Energy Vulnerability Percentage'],\n",
    "                                                 [ev_bau_full.T.values[0]], axis=0)"
   ]
  },
  {
   "cell_type": "markdown",
   "metadata": {
    "pycharm": {
     "name": "#%% md\n"
    }
   },
   "source": [
    "## Load BAU"
   ]
  },
  {
   "cell_type": "code",
   "execution_count": null,
   "metadata": {
    "ExecuteTime": {
     "end_time": "2021-03-02T08:32:47.048181Z",
     "start_time": "2021-03-02T08:26:37.836Z"
    }
   },
   "outputs": [],
   "source": [
    "bau_scenario_id = max(experiments['scenario']) + 1\n",
    "\n",
    "new_row = pd.DataFrame({'annualCpi': 0.0233, 'annualInflation': 0.033, 'nameplateCapacityChangeBrownCoal': 0,\n",
    "       'nameplateCapacityChangeWater': 0,'nameplateCapacityChangeOcgt': 0, 'consumption': 0, 'energyEfficiency': 0,\n",
    "       'generationRolloutPeriod':1, 'generatorRetirement':0,\n",
    "       'includePublicallyAnnouncedGen':0, 'learningCurve':0.05,\n",
    "       'nonScheduleGenSpotMarket': 10, 'nonScheduleMinCapMarketGen':0.1,\n",
    "       'priceChangePercentageBrownCoal':0, 'priceChangePercentageOcgt':0,\n",
    "       'priceChangePercentageWater':0, 'priceChangePercentageWind':0, 'rooftopPV':7,\n",
    "       'domesticConsumptionPercentage':0,\n",
    "       'scheduleMinCapMarketGen':30, 'semiScheduleGenSpotMarket':8,\n",
    "       'semiScheduleMinCapMarketGen':30, 'solarUptake':0,\n",
    "       'technologicalImprovement':0.01, 'wholesaleTariffContribution':28.37, 'scenario': bau_scenario_id,\n",
    "       'policy': \"None\", 'model': 'Gr4sp'}, index =[0]) \n",
    "# simply concatenate both dataframes \n",
    "experiments = pd.concat([experiments,new_row],sort=True).reset_index(drop = True) \n",
    "\n",
    "# rename none in policy column into constant value 0. PRIM fails otherwise.\n",
    "if \"None\" in experiments[\"policy\"].unique():\n",
    "    experiments[\"policy\"] = experiments[\"policy\"].replace(\"None\",int(0))"
   ]
  },
  {
   "cell_type": "code",
   "execution_count": null,
   "metadata": {
    "ExecuteTime": {
     "end_time": "2021-03-02T08:32:47.051174Z",
     "start_time": "2021-03-02T08:27:01.911Z"
    },
    "pycharm": {
     "name": "#%%\n"
    }
   },
   "outputs": [],
   "source": [
    "#Results for BAU were generated with the 'light' setting in the model.\n",
    "bau_results_df = pd.read_csv(r'C:/Users/angel/Documents/GitHub/gr4sp/experiments/simulationData/VICSimDataYearSummary_160221-BAU-1998-2051.csv')\n",
    "bau_results_df.head()"
   ]
  },
  {
   "cell_type": "code",
   "execution_count": null,
   "metadata": {
    "ExecuteTime": {
     "start_time": "2021-03-01T10:00:49.686Z"
    }
   },
   "outputs": [],
   "source": [
    "# #This cell adds BAU trajectory from 1998-2019. To add 1998 to 2050, comment this cell and uncomment the one below\n",
    "\n",
    "# seed_bau = bau_scenario_id + 1\n",
    "# outcomes['TIMEYear'] = np.append(outcomes['TIMEYear'],\n",
    "#                                           [bau_results_df['Time (Year)'].values[:22]], axis=0)\n",
    "# outcomes['consumptionYear'] = np.append(outcomes['consumptionYear'],\n",
    "#                                                  [bau_results_df['Consumption (KWh) per household'].values[:22]], axis=0)\n",
    "# outcomes['tariffsYear'] = np.append(outcomes['tariffsYear'],\n",
    "#                                                  [bau_results_df['Avg Tariff (c/KWh) per household'].values[:22]], axis=0)\n",
    "# outcomes['wholesalePriceYear'] = np.append(outcomes['wholesalePriceYear'],\n",
    "#                                                  [bau_results_df['Primary Wholesale ($/MWh)'].values[:22]], axis=0)\n",
    "# outcomes['GHGYear'] = np.append(outcomes['GHGYear'],\n",
    "#                                                  [bau_results_df['GHG Emissions (tCO2-e) per household'].values[:22]], axis=0)\n",
    "# outcomes['numConsumersYear'] = np.append(outcomes['numConsumersYear'],\n",
    "#                                                  [bau_results_df['Number of Domestic Consumers (households)'].values[:22]], axis=0)\n",
    "# outcomes['primarySpotProductionYear'] = np.append(outcomes['primarySpotProductionYear'],\n",
    "#                                                  [bau_results_df['System Production Primary Spot'].values[:22]], axis=0)\n",
    "# outcomes['secondarySpotProductionYear'] = np.append(outcomes['secondarySpotProductionYear'],\n",
    "#                                                  [bau_results_df['System Production Secondary Spot'].values[:22]], axis=0)\n",
    "# outcomes['offSpotProductionYear'] = np.append(outcomes['offSpotProductionYear'],\n",
    "#                                                  [bau_results_df['System Production Off Spot'].values[:22]], axis=0)\n",
    "# outcomes['renewableContributionYear'] = np.append(outcomes['renewableContributionYear'],\n",
    "#                                                  [bau_results_df['Percentage Renewable Production'].values[:22]], axis=0)\n",
    "# outcomes['rooftopPVProductionYear'] = np.append(outcomes['rooftopPVProductionYear'],\n",
    "#                                                  [bau_results_df['System Production Rooftop PV'].values[:22]], axis=0)\n",
    "# outcomes['coalProductionYear'] = np.append(outcomes['coalProductionYear'],\n",
    "#                                                  [bau_results_df['System Production Coal'].values[:22]], axis=0)\n",
    "# outcomes['windProductionYear'] = np.append(outcomes['windProductionYear'],\n",
    "#                                                  [bau_results_df['System Production Wind'].values[:22]], axis=0)\n",
    "# outcomes['gasProductionYear'] = np.append(outcomes['gasProductionYear'],\n",
    "#                                                  [bau_results_df['System Production Gas'].values[:22]], axis=0)\n",
    "# outcomes['solarProductionYear'] = np.append(outcomes['solarProductionYear'],\n",
    "#                                                  [bau_results_df['System Production Solar'].values[:22]], axis=0)   \n",
    "# outcomes['waterProductionYear'] = np.append(outcomes['waterProductionYear'],\n",
    "#                                                  [bau_results_df['System Production Water'].values[:22]], axis=0)\n",
    "# outcomes['BatteryProductionYear'] = np.append(outcomes['BatteryProductionYear'],\n",
    "#                                                  [bau_results_df['System Production Battery'].values[:22]], axis=0)\n",
    "# outcomes['numActorsYear'] = np.append(outcomes['numActorsYear'],\n",
    "#                                                  [bau_results_df['Number of Active Actors'].values[:22]], axis=0)\n",
    "# outcomes['primaryUnmetDemandMwh'] = np.append(outcomes['primaryUnmetDemandMwh'],\n",
    "#                                                  [bau_results_df['Primary Total Unmet Demand (MWh)'].values[:22]], axis=0)\n",
    "# outcomes['primaryUnmetDemandHours'] = np.append(outcomes['primaryUnmetDemandHours'],\n",
    "#                                                  [bau_results_df['Primary Total Unmet Demand (Hours)'].values[:22]], axis=0)\n",
    "# outcomes['primaryUnmetDemandDays'] = np.append(outcomes['primaryUnmetDemandDays'],\n",
    "#                                                  [bau_results_df['Primary Total Unmet Demand (Days)'].values[:22]], axis=0)\n",
    "# outcomes['primaryMaxUnmetDemandMwhPerHour'] = np.append(outcomes['primaryMaxUnmetDemandMwhPerHour'],\n",
    "#                                                  [bau_results_df['Primary Max Unmet Demand Per Hour (MWh)'].values[:22]], axis=0)\n",
    "# outcomes['secondaryUnmetDemandMwh'] = np.append(outcomes['secondaryUnmetDemandMwh'],\n",
    "#                                                  [bau_results_df['Secondary Total Unmet Demand (MWh)'].values[:22]], axis=0)\n",
    "# outcomes['secondaryUnmetDemandHours'] = np.append(outcomes['secondaryUnmetDemandHours'],\n",
    "#                                                  [bau_results_df['Secondary Total Unmet Demand (Hours)'].values[:22]], axis=0)\n",
    "# outcomes['secondaryUnmetDemandDays'] = np.append(outcomes['secondaryUnmetDemandDays'],\n",
    "#                                                  [bau_results_df['Secondary Total Unmet Demand (Days)'].values[:22]], axis=0)\n",
    "# outcomes['secondaryMaxUnmetDemandMwhPerHour'] = np.append(outcomes['secondaryMaxUnmetDemandMwhPerHour'],\n",
    "#                                                  [bau_results_df['Secondary Max Unmet Demand Per Hour (MWh)'].values[:22]], axis=0)\n",
    "                                          \n",
    "# outcomes['seedExperimentCsv'] = np.append(outcomes['seedExperimentCsv'], [seed_bau], axis=0)\n"
   ]
  },
  {
   "cell_type": "code",
   "execution_count": null,
   "metadata": {
    "ExecuteTime": {
     "end_time": "2021-03-02T08:32:47.054176Z",
     "start_time": "2021-03-02T08:27:06.561Z"
    },
    "pycharm": {
     "name": "#%%\n"
    }
   },
   "outputs": [],
   "source": [
    "seed_bau = bau_scenario_id + 1\n",
    "outcomes['TIMEYear'] = np.append(outcomes['TIMEYear'],\n",
    "                                          [bau_results_df['Time (Year)'].values], axis=0)\n",
    "outcomes['consumptionYear'] = np.append(outcomes['consumptionYear'],\n",
    "                                                 [bau_results_df['Consumption (KWh) per household'].values], axis=0)\n",
    "outcomes['tariffsYear'] = np.append(outcomes['tariffsYear'],\n",
    "                                                 [bau_results_df['Avg Tariff (c/KWh) per household'].values], axis=0)\n",
    "outcomes['wholesalePriceYear'] = np.append(outcomes['wholesalePriceYear'],\n",
    "                                                 [bau_results_df['Primary Wholesale ($/MWh)'].values], axis=0)\n",
    "outcomes['GHGYear'] = np.append(outcomes['GHGYear'],\n",
    "                                                 [bau_results_df['GHG Emissions (tCO2-e) per household'].values], axis=0)\n",
    "outcomes['numConsumersYear'] = np.append(outcomes['numConsumersYear'],\n",
    "                                                 [bau_results_df['Number of Domestic Consumers (households)'].values], axis=0)\n",
    "outcomes['primarySpotProductionYear'] = np.append(outcomes['primarySpotProductionYear'],\n",
    "                                                 [bau_results_df['System Production Primary Spot'].values], axis=0)\n",
    "outcomes['secondarySpotProductionYear'] = np.append(outcomes['secondarySpotProductionYear'],\n",
    "                                                 [bau_results_df['System Production Secondary Spot'].values], axis=0)\n",
    "outcomes['offSpotProductionYear'] = np.append(outcomes['offSpotProductionYear'],\n",
    "                                                 [bau_results_df['System Production Off Spot'].values], axis=0)\n",
    "outcomes['renewableContributionYear'] = np.append(outcomes['renewableContributionYear'],\n",
    "                                                 [bau_results_df['Percentage Renewable Production'].values], axis=0)\n",
    "outcomes['rooftopPVProductionYear'] = np.append(outcomes['rooftopPVProductionYear'],\n",
    "                                                 [bau_results_df['System Production Rooftop PV'].values], axis=0)\n",
    "outcomes['coalProductionYear'] = np.append(outcomes['coalProductionYear'],\n",
    "                                                 [bau_results_df['System Production Coal'].values], axis=0)\n",
    "outcomes['windProductionYear'] = np.append(outcomes['windProductionYear'],\n",
    "                                                 [bau_results_df['System Production Wind'].values], axis=0)\n",
    "outcomes['gasProductionYear'] = np.append(outcomes['gasProductionYear'],\n",
    "                                                 [bau_results_df['System Production Gas'].values], axis=0)\n",
    "outcomes['solarProductionYear'] = np.append(outcomes['solarProductionYear'],\n",
    "                                                 [bau_results_df['System Production Solar'].values], axis=0)   \n",
    "outcomes['waterProductionYear'] = np.append(outcomes['waterProductionYear'],\n",
    "                                                 [bau_results_df['System Production Water'].values], axis=0)\n",
    "outcomes['BatteryProductionYear'] = np.append(outcomes['BatteryProductionYear'],\n",
    "                                                 [bau_results_df['System Production Battery'].values], axis=0)\n",
    "outcomes['numActorsYear'] = np.append(outcomes['numActorsYear'],\n",
    "                                                 [bau_results_df['Number of Active Actors'].values], axis=0)\n",
    "outcomes['primaryUnmetDemandMwh'] = np.append(outcomes['primaryUnmetDemandMwh'],\n",
    "                                                 [bau_results_df['Primary Total Unmet Demand (MWh)'].values], axis=0)\n",
    "outcomes['primaryUnmetDemandHours'] = np.append(outcomes['primaryUnmetDemandHours'],\n",
    "                                                 [bau_results_df['Primary Total Unmet Demand (Hours)'].values], axis=0)\n",
    "outcomes['primaryUnmetDemandDays'] = np.append(outcomes['primaryUnmetDemandDays'],\n",
    "                                                 [bau_results_df['Primary Total Unmet Demand (Days)'].values], axis=0)\n",
    "outcomes['primaryMaxUnmetDemandMwhPerHour'] = np.append(outcomes['primaryMaxUnmetDemandMwhPerHour'],\n",
    "                                                 [bau_results_df['Primary Max Unmet Demand Per Hour (MWh)'].values], axis=0)\n",
    "outcomes['secondaryUnmetDemandMwh'] = np.append(outcomes['secondaryUnmetDemandMwh'],\n",
    "                                                 [bau_results_df['Secondary Total Unmet Demand (MWh)'].values], axis=0)\n",
    "outcomes['secondaryUnmetDemandHours'] = np.append(outcomes['secondaryUnmetDemandHours'],\n",
    "                                                 [bau_results_df['Secondary Total Unmet Demand (Hours)'].values], axis=0)\n",
    "outcomes['secondaryUnmetDemandDays'] = np.append(outcomes['secondaryUnmetDemandDays'],\n",
    "                                                 [bau_results_df['Secondary Total Unmet Demand (Days)'].values], axis=0)\n",
    "outcomes['secondaryMaxUnmetDemandMwhPerHour'] = np.append(outcomes['secondaryMaxUnmetDemandMwhPerHour'],\n",
    "                                                 [bau_results_df['Secondary Max Unmet Demand Per Hour (MWh)'].values], axis=0)\n",
    "\n",
    "outcomes['seedExperimentCsv'] = np.append(outcomes['seedExperimentCsv'], [seed_bau], axis=0)\n"
   ]
  },
  {
   "cell_type": "markdown",
   "metadata": {
    "pycharm": {
     "name": "#%% md\n"
    }
   },
   "source": [
    "## General parameters"
   ]
  },
  {
   "cell_type": "code",
   "execution_count": 5,
   "metadata": {
    "ExecuteTime": {
     "end_time": "2021-03-02T08:32:52.822146Z",
     "start_time": "2021-03-02T08:32:52.807738Z"
    },
    "pycharm": {
     "name": "#%%\n"
    }
   },
   "outputs": [
    {
     "ename": "TypeError",
     "evalue": "list indices must be integers or slices, not tuple",
     "output_type": "error",
     "traceback": [
      "\u001b[1;31m---------------------------------------------------------------------------\u001b[0m",
      "\u001b[1;31mTypeError\u001b[0m                                 Traceback (most recent call last)",
      "\u001b[1;32m<ipython-input-5-687bf83c3e28>\u001b[0m in \u001b[0;36m<module>\u001b[1;34m\u001b[0m\n\u001b[0;32m     18\u001b[0m \u001b[0mstartYearShift\u001b[0m \u001b[1;33m=\u001b[0m \u001b[1;33m(\u001b[0m\u001b[0mstartYear\u001b[0m \u001b[1;33m-\u001b[0m \u001b[1;36m1998\u001b[0m\u001b[1;33m)\u001b[0m\u001b[1;33m\u001b[0m\u001b[1;33m\u001b[0m\u001b[0m\n\u001b[0;32m     19\u001b[0m \u001b[1;33m\u001b[0m\u001b[0m\n\u001b[1;32m---> 20\u001b[1;33m \u001b[0mtime\u001b[0m \u001b[1;33m=\u001b[0m \u001b[0moutcomes\u001b[0m\u001b[1;33m[\u001b[0m\u001b[1;34m'TIMEYear'\u001b[0m\u001b[1;33m]\u001b[0m\u001b[1;33m[\u001b[0m\u001b[1;36m0\u001b[0m\u001b[1;33m,\u001b[0m \u001b[0mstartYearShift\u001b[0m\u001b[1;33m:\u001b[0m\u001b[1;33m]\u001b[0m\u001b[1;33m\u001b[0m\u001b[1;33m\u001b[0m\u001b[0m\n\u001b[0m\u001b[0;32m     21\u001b[0m \u001b[1;33m\u001b[0m\u001b[0m\n\u001b[0;32m     22\u001b[0m \u001b[0mpoints_of_interest\u001b[0m \u001b[1;33m=\u001b[0m \u001b[1;33m[\u001b[0m\u001b[1;33m*\u001b[0m\u001b[0mrange\u001b[0m\u001b[1;33m(\u001b[0m\u001b[1;36m2020\u001b[0m\u001b[1;33m,\u001b[0m\u001b[1;36m2051\u001b[0m\u001b[1;33m,\u001b[0m\u001b[1;36m10\u001b[0m\u001b[1;33m)\u001b[0m\u001b[1;33m]\u001b[0m\u001b[1;33m\u001b[0m\u001b[1;33m\u001b[0m\u001b[0m\n",
      "\u001b[1;31mTypeError\u001b[0m: list indices must be integers or slices, not tuple"
     ]
    }
   ],
   "source": [
    "outcomes['PrimarySpot-WholesalePriceYear'] = outcomes['wholesalePriceYear']\n",
    "\n",
    "outcomes_to_show = ['consumptionYear', 'tariffsYear', 'PrimarySpot-WholesalePriceYear', 'GHGYear', \n",
    "                    'numConsumersYear', 'primarySpotProductionYear', 'secondarySpotProductionYear', \n",
    "                    'offSpotProductionYear', 'renewableContributionYear', 'rooftopPVProductionYear', \n",
    "                    'coalProductionYear', 'waterProductionYear', 'windProductionYear', 'gasProductionYear', \n",
    "                    'solarProductionYear', 'BatteryProductionYear', 'numActorsYear', 'primaryUnmetDemandMwh', \n",
    "                    'primaryUnmetDemandHours', 'primaryUnmetDemandDays', 'primaryMaxUnmetDemandMwhPerHour', \n",
    "                    'secondaryUnmetDemandMwh', 'secondaryUnmetDemandHours', 'secondaryUnmetDemandDays', \n",
    "                    'secondaryMaxUnmetDemandMwhPerHour']\n",
    "\n",
    "# 23 levers/uncertainties selected after EET (last test July 2020)\n",
    "# 25 uncertainties selected aftet EET including change on domestic demand and unmet demand output (August 2020)\n",
    "uncertainties = experiments.columns[:-3]\n",
    "\n",
    "#from startYear\n",
    "startYear = 2000\n",
    "startYearShift = (startYear - 1998)\n",
    "\n",
    "time = outcomes['TIMEYear'][0, startYearShift:]\n",
    "\n",
    "points_of_interest = [*range(2020,2051,10)] \n",
    "#points_of_interest = [*range(2000,2019,5)] \n",
    "\n",
    "points_of_interest = [ x - startYear for x in points_of_interest]\n",
    "\n",
    "# Filter outcomes taking into account the startYear, and removing Seed Experiment info. \n",
    "# Seed it is useful if I want to retrieve more info from the csv files, or redo the experiments with the\n",
    "# simulation parameters\n",
    "outcomes_filtered = {k:v[:, startYearShift:] for k,v in outcomes.items() if k != 'seedExperimentCsv'}\n"
   ]
  },
  {
   "cell_type": "markdown",
   "metadata": {
    "ExecuteTime": {
     "end_time": "2020-07-21T02:11:18.475639Z",
     "start_time": "2020-07-21T02:11:18.471653Z"
    },
    "pycharm": {
     "name": "#%% md\n"
    }
   },
   "source": [
    "## Aggregate Household data"
   ]
  },
  {
   "cell_type": "markdown",
   "metadata": {
    "pycharm": {
     "name": "#%% md\n"
    }
   },
   "source": [
    "GHG emissions and Consumption per household type converted to total sector\n"
   ]
  },
  {
   "cell_type": "code",
   "execution_count": null,
   "metadata": {
    "ExecuteTime": {
     "start_time": "2021-03-01T10:01:00.675Z"
    },
    "pycharm": {
     "name": "#%%\n"
    }
   },
   "outputs": [],
   "source": [
    "ooi = 'GHGYear'\n",
    "data_GHG_household = outcomes_filtered[ooi]"
   ]
  },
  {
   "cell_type": "code",
   "execution_count": null,
   "metadata": {
    "ExecuteTime": {
     "start_time": "2021-03-01T06:29:18.133Z"
    },
    "pycharm": {
     "name": "#%%\n"
    }
   },
   "outputs": [],
   "source": [
    "\"\"\" Converts household data in tCO2e into total residential data in MtCO2e\"\"\"\n",
    "data_GHG_residential = (data_GHG_household * outcomes_filtered['numConsumersYear']) / 1000000.0\n",
    "data_GHG_residential_bau = (bau_results_df['GHG Emissions (tCO2-e) per household'] * bau_results_df['Number of Domestic Consumers (households)']) / 1000000.0\n",
    "\n",
    "\"\"\" Applies scaling factor used in simulation, so that data represents total emissions, not only residential (30%)\"\"\"\n",
    "data_GHG_total = data_GHG_residential / 0.3\n",
    "data_GHG_total_bau = data_GHG_residential_bau / 0.3\n",
    "\n",
    "\n",
    "\"\"\"Overwrite GHG with the data of interest\"\"\"\n",
    "outcomes_filtered[ooi] = data_GHG_total\n",
    "bau_results_df[ooi] = data_GHG_total_bau"
   ]
  },
  {
   "cell_type": "code",
   "execution_count": null,
   "metadata": {
    "ExecuteTime": {
     "start_time": "2021-03-01T06:29:19.671Z"
    },
    "pycharm": {
     "name": "#%%\n"
    }
   },
   "outputs": [],
   "source": [
    "ooi = 'consumptionYear'\n",
    "data_consumption_household = outcomes_filtered[ooi]"
   ]
  },
  {
   "cell_type": "code",
   "execution_count": null,
   "metadata": {
    "ExecuteTime": {
     "start_time": "2021-03-01T06:29:20.216Z"
    },
    "pycharm": {
     "name": "#%%\n"
    }
   },
   "outputs": [],
   "source": [
    "\"\"\" Converts household data in KWh into total residential data in MWh\"\"\"\n",
    "data_consumption_residential = (data_consumption_household * outcomes_filtered['numConsumersYear']) / 1000.0\n",
    "\n",
    "\"\"\" Applies scaling factor used in simulation, so that data represents total consumption, not only residential\"\"\"\n",
    "data_consumption_total = data_consumption_residential / 0.3\n",
    "\n",
    "\"\"\"Overwrite Consumption with the data of interest\"\"\"\n",
    "outcomes_filtered[ooi] = data_consumption_total"
   ]
  },
  {
   "cell_type": "markdown",
   "metadata": {
    "pycharm": {
     "name": "#%% md\n"
    }
   },
   "source": [
    "# Target functions"
   ]
  },
  {
   "cell_type": "code",
   "execution_count": null,
   "metadata": {
    "ExecuteTime": {
     "start_time": "2021-03-01T06:29:21.719Z"
    },
    "pycharm": {
     "name": "#%%\n"
    }
   },
   "outputs": [],
   "source": [
    "def target_always_after(outcomes,ooi,targetYear,targetVal,above):\n",
    "    data = outcomes[ooi]\n",
    "    num_exp = len(data)\n",
    "    achieved = np.zeros(num_exp, dtype=bool)\n",
    "\n",
    "    for i in range(num_exp):\n",
    "        achieved[i] = False\n",
    "        exp_run = data[i]\n",
    "        for j in range( len(exp_run) ):\n",
    "            if (startYear + j) >= targetYear:\n",
    "                if above is True:\n",
    "                    achieved[i] = exp_run[j] >= targetVal\n",
    "                else:\n",
    "                    achieved[i] = exp_run[j] < targetVal\n",
    "                    \n",
    "                #If the target is not achieved after the TargetYear, then mark experiment as False\n",
    "                if achieved[i] == False:\n",
    "                    break\n",
    "    return achieved\n",
    "\n",
    "def target_at_year(outcomes,ooi,targetYear,targetVal,above):\n",
    "    data = outcomes[ooi]\n",
    "    num_exp = len(data)\n",
    "    achieved = np.zeros(num_exp, dtype=bool)\n",
    "\n",
    "    for i in range(num_exp):\n",
    "        achieved[i] = False\n",
    "        exp_run = data[i]\n",
    "        \n",
    "        idx = targetYear - startYear\n",
    "        if above is True:\n",
    "            achieved[i] = exp_run[idx] >= targetVal\n",
    "        else:\n",
    "            achieved[i] = exp_run[idx] < targetVal                        \n",
    "                \n",
    "    return achieved"
   ]
  },
  {
   "cell_type": "markdown",
   "metadata": {
    "pycharm": {
     "name": "#%% md\n"
    }
   },
   "source": [
    "# Scenario discovery"
   ]
  },
  {
   "cell_type": "markdown",
   "metadata": {
    "pycharm": {
     "name": "#%% md\n"
    }
   },
   "source": [
    "## Open Exploration: Visual Analysis\n"
   ]
  },
  {
   "cell_type": "markdown",
   "metadata": {
    "pycharm": {
     "name": "#%% md\n"
    }
   },
   "source": [
    "Truncate experiments and outcomes for a selected policy and a selected outcome over mean in time series"
   ]
  },
  {
   "cell_type": "markdown",
   "metadata": {
    "pycharm": {
     "name": "#%% md\n"
    }
   },
   "source": [
    "### GHG emissions"
   ]
  },
  {
   "cell_type": "code",
   "execution_count": null,
   "metadata": {
    "ExecuteTime": {
     "end_time": "2021-02-17T02:09:25.834053Z",
     "start_time": "2021-02-17T00:16:21.216Z"
    },
    "pycharm": {
     "name": "#%%\n"
    }
   },
   "outputs": [],
   "source": [
    "#Subset of levers/uncertainties\n",
    "#selected_levers = list(['rooftopPV', 'annualCpi','capacityFactorChangeBrownCoal','capacityFactorChangeWater','semiScheduleMinCapMarketGen'])    \n",
    "selected_uncertainties = uncertainties\n",
    "\n",
    "ooi = 'GHGYear'\n",
    "\n",
    "data = outcomes_filtered[ooi]\n",
    "\n",
    "\n",
    "num_exp = len(data)\n",
    "out_avg_ooi = np.zeros(num_exp)\n",
    "\n",
    "for i in range(num_exp):\n",
    "    out_avg_ooi[i] = data[i].mean()\n",
    "\n",
    "exp = pd.DataFrame(experiments)\n",
    "\n",
    "exp = exp.loc[ :, selected_uncertainties] "
   ]
  },
  {
   "cell_type": "markdown",
   "metadata": {
    "pycharm": {
     "name": "#%% md\n"
    }
   },
   "source": [
    "The following section uses PRIM, feature scoring and dimensional stacking to find the cases that represent futures in three main groups: Low Carbon, Just Transition and Sustainable Transition.\n",
    "\n",
    "It uses targets (e.g. cases for which emissions are the lowest at year x) to filter out the cases and find out the corresponding input variables and ranges for the cases to happen.\n",
    "\n",
    "The first case is on GHG emissions. To find out the targets for exploration, first let's analyse the envelope diagram (see below) showing how the transition may unfold:"
   ]
  },
  {
   "cell_type": "code",
   "execution_count": null,
   "metadata": {
    "ExecuteTime": {
     "end_time": "2021-02-17T02:09:25.846548Z",
     "start_time": "2021-02-17T00:17:48.444Z"
    },
    "pycharm": {
     "name": "#%%\n"
    },
    "scrolled": false
   },
   "outputs": [],
   "source": [
    "from EMAworkbench.ema_workbench.analysis.plotting import multiple_densities, PlotType\n",
    "from EMAworkbench.ema_workbench.analysis.plotting_util import Density \n",
    "\n",
    "fig, ax_env = multiple_densities(experiments, outcomes_filtered, outcomes_to_show = ooi,\n",
    "                                 points_in_time=points_of_interest, density = Density.KDE, grouping_specifiers=None, \n",
    "                                 titles={ooi}, ylabels={ooi: \"MtCO2e\"}, legend=True,\n",
    "                                 fill=False, plot_type=PlotType.ENV_LIN)\n",
    "\n",
    "#Change x labels to years\n",
    "ax_env[ooi]['main plot'].set_xticklabels(time[range(0,len(time),10)])\n",
    "\n",
    "#Add BAU in the plot with a gray wide line\n",
    "ax_env[ooi]['main plot'].plot(outcomes_filtered[ooi][-1], 'k-',linewidth=5 )\n",
    "\n",
    "## Show labels\n",
    "# labels = ax_env['F']['main plot'].get_xticklabels()\n",
    "# for l in labels:\n",
    "#     print (l.get_text)\n",
    "\n",
    "fig[0].suptitle(\"{}\".format(ooi), fontsize=15)\n",
    "fig[0].set_size_inches(18.5, 10.5)\n",
    "\n",
    "plt.savefig('{}/fig{}.png'.format(r'C:\\\\Users\\\\angel\\\\Documents\\\\GitHub\\\\gr4sp\\\\experiments\\\\notebookGr4sp\\\\outputs\\\\figs', '_hypopast_envelope_line_density_%s'%(ooi)),\n",
    "                dpi=300, bbox_inches='tight')\n",
    "    "
   ]
  },
  {
   "cell_type": "code",
   "execution_count": null,
   "metadata": {
    "ExecuteTime": {
     "end_time": "2021-02-17T02:09:25.842041Z",
     "start_time": "2021-02-17T00:16:25.388Z"
    },
    "pycharm": {
     "name": "#%%\n"
    },
    "scrolled": false
   },
   "outputs": [],
   "source": [
    "from EMAworkbench.ema_workbench.analysis.plotting import multiple_densities, PlotType\n",
    "from EMAworkbench.ema_workbench.analysis.plotting_util import Density \n",
    "\n",
    "fig, ax_env = multiple_densities(experiments, outcomes_filtered, outcomes_to_show = ooi,\n",
    "                                 points_in_time=points_of_interest, density = Density.HIST, grouping_specifiers=None,\n",
    "                                 titles={ooi}, ylabels={ooi: \"MtCO2e\"}, legend=True,\n",
    "                                 fill=True, plot_type=PlotType.ENVELOPE)\n",
    "\n",
    "#Change x labels to years\n",
    "ax_env[ooi]['main plot'].set_xticklabels(time[range(0,len(time),10)])\n",
    "\n",
    "#Add BAU in the plot with a gray red line\n",
    "ax_env[ooi]['main plot'].plot(outcomes_filtered[ooi][-1], 'r-')\n",
    "\n",
    "## Show labels\n",
    "# labels = ax_env['F']['main plot'].get_xticklabels()\n",
    "# for l in labels:\n",
    "#     print (l.get_text)\n",
    "\n",
    "fig[0].suptitle(\"{}\".format(ooi), fontsize=15)\n",
    "fig[0].set_size_inches(18.5, 10.5)\n",
    "#plt.legend()\n",
    "\n",
    "plt.savefig('{}/fig{}.png'.format(r'C:\\\\Users\\\\angel\\\\Documents\\\\GitHub\\\\gr4sp\\\\experiments\\\\notebookGr4sp\\\\outputs\\\\figs', '_hypopast_envelope_density_%s'%(ooi)),\n",
    "                dpi=300, bbox_inches='tight')\n"
   ]
  },
  {
   "cell_type": "markdown",
   "metadata": {
    "pycharm": {
     "name": "#%% md\n"
    }
   },
   "source": [
    "### PrimarySpot Wholesale Price"
   ]
  },
  {
   "cell_type": "code",
   "execution_count": null,
   "metadata": {
    "ExecuteTime": {
     "start_time": "2021-03-01T06:29:31.254Z"
    },
    "pycharm": {
     "name": "#%%\n"
    }
   },
   "outputs": [],
   "source": [
    "# Subset Sobol levers\n",
    "#selected_levers = list(['rooftopPV','annualCpi', 'generationRolloutPeriod', 'generatorRetirement','capacityFactorChangeBrownCoal','semiScheduleMinCapMarketGen'])    \n",
    "\n",
    "select_uncertainties = uncertainties\n",
    "ooi = 'PrimarySpot-WholesalePriceYear'\n",
    "data = outcomes_filtered[ooi]\n",
    "\n",
    "num_exp = len(data)\n",
    "out_avg_ooi = np.zeros(num_exp)\n",
    "\n",
    "for i in range(num_exp):\n",
    "    out_avg_ooi[i] = data[i].mean()\n",
    "\n",
    "exp = pd.DataFrame(experiments)\n",
    "\n",
    "exp = exp.loc[ :, select_uncertainties] "
   ]
  },
  {
   "cell_type": "code",
   "execution_count": null,
   "metadata": {
    "ExecuteTime": {
     "start_time": "2021-03-01T06:29:31.839Z"
    },
    "pycharm": {
     "name": "#%%\n"
    }
   },
   "outputs": [],
   "source": [
    "from EMAworkbench.ema_workbench.analysis.plotting import multiple_densities, PlotType\n",
    "from EMAworkbench.ema_workbench.analysis.plotting_util import Density \n",
    "\n",
    "# fig, ax_env = multiple_densities(experiments, outcomes_filtered, outcomes_to_show = ooi,\n",
    "#                                  points_in_time=points_of_interest,  density = Density.KDE,\n",
    "#                                  grouping_specifiers=None , titles={ooi}, ylabels={ooi: \"$/MWh\"}, legend=True,\n",
    "#                                  fill=False, plot_type=PlotType.ENV_LIN)\n",
    "\n",
    "fig, ax_env = multiple_densities(experiments, outcomes_filtered, outcomes_to_show = ooi,\n",
    "                                 points_in_time=points_of_interest,  density = Density.KDE,\n",
    "                                 grouping_specifiers=None , titles={ooi}, ylabels={ooi: \"$/MWh\"}, legend=True,\n",
    "                                 fill=False, plot_type=PlotType.ENV_LIN)\n",
    "#Change x labels to years\n",
    "ax_env[ooi]['main plot'].set_xticklabels(time[range(0,len(time),10)])\n",
    "#Add BAU in the plot with a black wide line\n",
    "ax_env[ooi]['main plot'].plot(outcomes_filtered[ooi][-1], 'k-',linewidth=5 )\n",
    "\n",
    "fig[0].suptitle(\"{}\".format(ooi), fontsize=15)\n",
    "fig[0].set_size_inches(18.5, 10.5)\n",
    "\n",
    "plt.savefig('{}/fig{}.png'.format(r'C:\\\\Users\\\\angel\\\\Documents\\\\GitHub\\\\gr4sp\\\\experiments\\\\notebookGr4sp\\\\outputs\\\\figs', '_hypopast_envelope_line_density_%s'%(ooi)),\n",
    "                dpi=300, bbox_inches='tight')"
   ]
  },
  {
   "cell_type": "code",
   "execution_count": null,
   "metadata": {
    "ExecuteTime": {
     "start_time": "2021-03-01T06:29:33.328Z"
    },
    "pycharm": {
     "name": "#%%\n"
    },
    "scrolled": false
   },
   "outputs": [],
   "source": [
    "from EMAworkbench.ema_workbench.analysis.plotting import multiple_densities, PlotType\n",
    "from EMAworkbench.ema_workbench.analysis.plotting_util import Density\n",
    "\n",
    "# fig, ax_env = multiple_densities(experiments, outcomes_filtered, outcomes_to_show = ooi,\n",
    "#                                  points_in_time=points_of_interest,  density = Density.HIST,\n",
    "#                                  grouping_specifiers=None , titles={ooi}, ylabels={ooi: \"$/MWh\"}, legend=True,\n",
    "#                                  fill=True, plot_type=PlotType.ENVELOPE)\n",
    "\n",
    "fig, ax_env = multiple_densities(experiments, outcomes_filtered, outcomes_to_show = ooi,\n",
    "                                 points_in_time=points_of_interest,  density = Density.HIST,\n",
    "                                 grouping_specifiers=None , titles={ooi}, ylabels={ooi: \"$/MWh\"}, legend=True,\n",
    "                                 fill=True, plot_type=PlotType.ENVELOPE)\n",
    "\n",
    "#Change x labels to years\n",
    "ax_env[ooi]['main plot'].set_xticklabels(time[range(0,len(time),10)])\n",
    "#Add BAU in the plot with a red wide line\n",
    "ax_env[ooi]['main plot'].plot(outcomes_filtered[ooi][-1], 'r-',linewidth=2 )\n",
    "\n",
    "fig[0].suptitle(\"{}\".format(ooi), fontsize=15)\n",
    "fig[0].set_size_inches(18.5, 10.5)\n",
    "\n",
    "plt.savefig('{}/fig{}.png'.format(r'C:\\\\Users\\\\angel\\\\Documents\\\\GitHub\\\\gr4sp\\\\experiments\\\\notebookGr4sp\\\\outputs\\\\figs', '_hypopast_envelope_density_%s'%(ooi)),\n",
    "                dpi=300, bbox_inches='tight')\n",
    "\n"
   ]
  },
  {
   "cell_type": "markdown",
   "metadata": {
    "ExecuteTime": {
     "end_time": "2020-06-05T02:11:35.824520Z",
     "start_time": "2020-06-05T02:09:19.226883Z"
    },
    "pycharm": {
     "name": "#%% md\n"
    }
   },
   "source": [
    "### Tariffs"
   ]
  },
  {
   "cell_type": "code",
   "execution_count": null,
   "metadata": {
    "ExecuteTime": {
     "end_time": "2021-02-09T11:06:07.908007Z",
     "start_time": "2021-02-09T11:06:07.357879Z"
    },
    "pycharm": {
     "name": "#%%\n"
    }
   },
   "outputs": [],
   "source": [
    "# Subset Sool levers/uncertainties\n",
    "selected_uncertainties = uncertainties\n",
    "\n",
    "#selected_levers = levers\n",
    "ooi = 'tariffsYear'\n",
    "data = outcomes_filtered[ooi]\n",
    "\n",
    "num_exp = len(data)\n",
    "out_avg_ooi = np.zeros(num_exp)\n",
    "\n",
    "for i in range(num_exp):\n",
    "    out_avg_ooi[i] = data[i].mean()\n",
    "\n",
    "exp = pd.DataFrame(experiments)\n",
    "\n",
    "exp = exp.loc[ :, selected_uncertainties] "
   ]
  },
  {
   "cell_type": "markdown",
   "metadata": {
    "pycharm": {
     "name": "#%% md\n"
    }
   },
   "source": [
    ": 20-25% by 2025 on 2017. tariffs in 2017: ~21 c/KWh"
   ]
  },
  {
   "cell_type": "code",
   "execution_count": null,
   "metadata": {
    "ExecuteTime": {
     "end_time": "2020-09-17T08:55:33.801720Z",
     "start_time": "2020-09-17T08:55:22.626756Z"
    },
    "pycharm": {
     "name": "#%%\n"
    }
   },
   "outputs": [],
   "source": [
    "from EMAworkbench.ema_workbench.analysis.plotting import multiple_densities, PlotType\n",
    "from EMAworkbench.ema_workbench.analysis.plotting_util import Density\n",
    "\n",
    "fig, ax_env = multiple_densities(experiments, outcomes_filtered, outcomes_to_show = ooi,\n",
    "                                 points_in_time=points_of_interest,  density = Density.KDE,\n",
    "                                 grouping_specifiers=None , titles={ooi}, ylabels={ooi: \"c/KWh\"}, legend=True,\n",
    "                                 fill=False, plot_type=PlotType.ENV_LIN)\n",
    "\n",
    "#Change x labels to years\n",
    "ax_env[ooi]['main plot'].set_xticklabels(time[range(0,len(time),10)])\n",
    "#Add BAU in the plot with a black wide line\n",
    "ax_env[ooi]['main plot'].plot(outcomes_filtered[ooi][-1], 'k-',linewidth=5 )\n",
    "\n",
    "\n",
    "fig[0].suptitle(\"{}\".format(ooi), fontsize=15)\n",
    "fig[0].set_size_inches(18.5, 10.5)\n",
    "\n",
    "plt.savefig('{}/fig{}.png'.format(r'C:\\\\Users\\\\angel\\\\Documents\\\\GitHub\\\\gr4sp\\\\experiments\\\\notebookGr4sp\\\\outputs\\\\figs', '_hypopast_envelope_line_density_%s'%(ooi)),\n",
    "                dpi=300, bbox_inches='tight')"
   ]
  },
  {
   "cell_type": "code",
   "execution_count": null,
   "metadata": {
    "ExecuteTime": {
     "end_time": "2021-02-09T11:06:12.696783Z",
     "start_time": "2021-02-09T11:06:10.742979Z"
    },
    "pycharm": {
     "name": "#%%\n"
    },
    "scrolled": false
   },
   "outputs": [],
   "source": [
    "from EMAworkbench.ema_workbench.analysis.plotting import multiple_densities, PlotType\n",
    "from EMAworkbench.ema_workbench.analysis.plotting_util import Density\n",
    "\n",
    "fig, ax_env = multiple_densities(experiments, outcomes_filtered, outcomes_to_show = ooi,\n",
    "                                 points_in_time=points_of_interest,  density = Density.HIST,\n",
    "                                 grouping_specifiers=None , titles={ooi}, ylabels={ooi: \"c/KWh\"}, legend=True,\n",
    "                                 fill=True, plot_type=PlotType.ENVELOPE)\n",
    "\n",
    "#Change x labels to years\n",
    "ax_env[ooi]['main plot'].set_xticklabels(time[range(0,len(time),10)])\n",
    "#Add BAU in the plot with a red wide line\n",
    "ax_env[ooi]['main plot'].plot(outcomes_filtered[ooi][-1], 'r-',linewidth=2 )\n",
    "\n",
    "\n",
    "fig[0].suptitle(\"{}\".format(ooi), fontsize=15)\n",
    "fig[0].set_size_inches(18.5, 10.5)\n",
    "\n",
    "plt.savefig('{}/fig{}.png'.format(r'C:\\\\Users\\\\angel\\\\Documents\\\\GitHub\\\\gr4sp\\\\experiments\\\\notebookGr4sp\\\\outputs\\\\figs', '_hypopast_envelope_density_%s'%(ooi)),\n",
    "                dpi=300, bbox_inches='tight')\n"
   ]
  },
  {
   "cell_type": "markdown",
   "metadata": {},
   "source": [
    "### Renewable Energies in the System"
   ]
  },
  {
   "cell_type": "code",
   "execution_count": null,
   "metadata": {
    "ExecuteTime": {
     "end_time": "2021-02-09T11:07:00.821450Z",
     "start_time": "2021-02-09T11:07:00.275612Z"
    }
   },
   "outputs": [],
   "source": [
    "# Subset Sool levers/uncertainties\n",
    "\n",
    "selected_uncertainties = uncertainties\n",
    "\n",
    "ooi = 'renewableContributionYear'\n",
    "data = outcomes_filtered[ooi]\n",
    "\n",
    "num_exp = len(data)\n",
    "out_avg_ooi = np.zeros(num_exp)\n",
    "\n",
    "for i in range(num_exp):\n",
    "    out_avg_ooi[i] = data[i].mean()\n",
    "\n",
    "exp = pd.DataFrame(experiments)\n",
    "\n",
    "exp = exp.loc[ :, selected_uncertainties] "
   ]
  },
  {
   "cell_type": "code",
   "execution_count": null,
   "metadata": {},
   "outputs": [],
   "source": [
    "from EMAworkbench.ema_workbench.analysis.plotting import multiple_densities, PlotType\n",
    "from EMAworkbench.ema_workbench.analysis.plotting_util import Density\n",
    "\n",
    "fig, ax_env = multiple_densities(experiments, outcomes_filtered, outcomes_to_show = ooi,\n",
    "                                 points_in_time=points_of_interest,  density = Density.KDE,\n",
    "                                 grouping_specifiers=None , titles={ooi}, ylabels={ooi: \"% Renewable\"}, legend=True,\n",
    "                                 fill=False, plot_type=PlotType.ENV_LIN)\n",
    "\n",
    "#Change x labels to years\n",
    "ax_env[ooi]['main plot'].set_xticklabels(time[range(0,len(time),10)])\n",
    "#Add BAU in the plot with a black wide line\n",
    "ax_env[ooi]['main plot'].plot(outcomes_filtered[ooi][-1], 'k-',linewidth=5 )\n",
    "\n",
    "fig[0].suptitle(\"{}\".format(ooi), fontsize=15)\n",
    "fig[0].set_size_inches(18.5, 10.5)\n",
    "\n",
    "plt.savefig('{}/fig{}.png'.format(r'C:\\\\Users\\\\angel\\\\Documents\\\\GitHub\\\\gr4sp\\\\experiments\\\\notebookGr4sp\\\\outputs\\\\figs', '_hypopast_envelope_line_density_%s'%(ooi)),\n",
    "                dpi=300, bbox_inches='tight')"
   ]
  },
  {
   "cell_type": "code",
   "execution_count": null,
   "metadata": {
    "ExecuteTime": {
     "end_time": "2021-02-09T11:07:05.144299Z",
     "start_time": "2021-02-09T11:07:03.037915Z"
    }
   },
   "outputs": [],
   "source": [
    "from EMAworkbench.ema_workbench.analysis.plotting import multiple_densities, PlotType\n",
    "from EMAworkbench.ema_workbench.analysis.plotting_util import Density\n",
    "\n",
    "fig, ax_env = multiple_densities(experiments, outcomes_filtered, outcomes_to_show = ooi,\n",
    "                                 points_in_time=points_of_interest,  density = Density.HIST,\n",
    "                                 grouping_specifiers=None , titles={ooi}, ylabels={ooi: \"% Renewable\"}, legend=True,\n",
    "                                 fill=True, plot_type=PlotType.ENVELOPE)\n",
    "\n",
    "#Change x labels to years\n",
    "ax_env[ooi]['main plot'].set_xticklabels(time[range(0,len(time),10)])\n",
    "#Add BAU in the plot with a red wide line\n",
    "ax_env[ooi]['main plot'].plot(outcomes_filtered[ooi][-1], 'r-',linewidth=2 )\n",
    "\n",
    "fig[0].suptitle(\"{}\".format(ooi), fontsize=15)\n",
    "fig[0].set_size_inches(18.5, 10.5)\n",
    "\n",
    "plt.savefig('{}/fig{}.png'.format(r'C:\\\\Users\\\\angel\\\\Documents\\\\GitHub\\\\gr4sp\\\\experiments\\\\notebookGr4sp\\\\outputs\\\\figs', '_hypopast_envelope_density_%s'%(ooi)),\n",
    "                dpi=300, bbox_inches='tight')"
   ]
  },
  {
   "cell_type": "markdown",
   "metadata": {},
   "source": [
    "### Unmet Demand - Primary Unmet demand in MWh "
   ]
  },
  {
   "cell_type": "code",
   "execution_count": null,
   "metadata": {
    "ExecuteTime": {
     "end_time": "2021-02-09T11:07:25.516581Z",
     "start_time": "2021-02-09T11:07:24.943949Z"
    }
   },
   "outputs": [],
   "source": [
    "# Subset Sool levers\n",
    "selected_uncertainties = uncertainties\n",
    "\n",
    "ooi = 'primaryUnmetDemandMwh'\n",
    "data = outcomes_filtered[ooi]\n",
    "\n",
    "num_exp = len(data)\n",
    "out_avg_ooi = np.zeros(num_exp)\n",
    "\n",
    "for i in range(num_exp):\n",
    "    out_avg_ooi[i] = data[i].mean()\n",
    "\n",
    "exp = pd.DataFrame(experiments)\n",
    "\n",
    "exp = exp.loc[ :, selected_uncertainties] "
   ]
  },
  {
   "cell_type": "code",
   "execution_count": null,
   "metadata": {},
   "outputs": [],
   "source": [
    "from EMAworkbench.ema_workbench.analysis.plotting import multiple_densities, PlotType\n",
    "from EMAworkbench.ema_workbench.analysis.plotting_util import Density\n",
    "\n",
    "fig, ax_env = multiple_densities(experiments, outcomes_filtered, outcomes_to_show = ooi,\n",
    "                                 points_in_time=points_of_interest,  density = Density.KDE,\n",
    "                                 grouping_specifiers=None , titles={ooi}, ylabels={ooi: \"MWh\"}, legend=True,\n",
    "                                 fill=False, plot_type=PlotType.ENV_LIN)\n",
    "\n",
    "#Change x labels to years\n",
    "ax_env[ooi]['main plot'].set_xticklabels(time[range(0,len(time),10)])\n",
    "#Add BAU in the plot with a black wide line\n",
    "ax_env[ooi]['main plot'].plot(outcomes_filtered[ooi][-1], 'k-',linewidth=5 )\n",
    "\n",
    "fig[0].suptitle(\"{}\".format(ooi), fontsize=15)\n",
    "fig[0].set_size_inches(18.5, 10.5)\n",
    "\n",
    "plt.savefig('{}/fig{}.png'.format(r'C:\\\\Users\\\\angel\\\\Documents\\\\GitHub\\\\gr4sp\\\\experiments\\\\notebookGr4sp\\\\outputs\\\\figs', '_hypopast_envelope_line_density_%s'%(ooi)),\n",
    "                dpi=300, bbox_inches='tight')"
   ]
  },
  {
   "cell_type": "code",
   "execution_count": null,
   "metadata": {
    "ExecuteTime": {
     "end_time": "2021-02-09T11:07:41.974296Z",
     "start_time": "2021-02-09T11:07:27.726200Z"
    }
   },
   "outputs": [],
   "source": [
    "from EMAworkbench.ema_workbench.analysis.plotting import multiple_densities, PlotType\n",
    "from EMAworkbench.ema_workbench.analysis.plotting_util import Density\n",
    "\n",
    "fig, ax_env = multiple_densities(experiments, outcomes_filtered, outcomes_to_show = ooi,\n",
    "                                 points_in_time=points_of_interest,  density = Density.KDE,\n",
    "                                 grouping_specifiers=None , titles={ooi}, ylabels={ooi: \"MWh\"}, legend=True,\n",
    "                                 fill=True, plot_type=PlotType.ENVELOPE)\n",
    "\n",
    "#Change x labels to years\n",
    "ax_env[ooi]['main plot'].set_xticklabels(time[range(0,len(time),10)])\n",
    "#Add BAU in the plot with a red wide line\n",
    "ax_env[ooi]['main plot'].plot(outcomes_filtered[ooi][-1], 'r-',linewidth=2 )\n",
    "\n",
    "fig[0].suptitle(\"{}\".format(ooi), fontsize=15)\n",
    "fig[0].set_size_inches(18.5, 10.5)\n",
    "\n",
    "plt.savefig('{}/fig{}.png'.format(r'C:\\\\Users\\\\angel\\\\Documents\\\\GitHub\\\\gr4sp\\\\experiments\\\\notebookGr4sp\\\\outputs\\\\figs', '_hypopast_envelope_density_%s'%(ooi)),\n",
    "                dpi=300, bbox_inches='tight')"
   ]
  },
  {
   "cell_type": "markdown",
   "metadata": {},
   "source": [
    "### Unmet Demand - Primary unmet demand (hours)"
   ]
  },
  {
   "cell_type": "code",
   "execution_count": null,
   "metadata": {
    "ExecuteTime": {
     "end_time": "2021-02-09T11:08:10.572212Z",
     "start_time": "2021-02-09T11:08:10.014518Z"
    }
   },
   "outputs": [],
   "source": [
    "# Subset Sool levers\n",
    "selected_uncertainties = uncertainties\n",
    "\n",
    "ooi = 'primaryUnmetDemandHours'\n",
    "data = outcomes_filtered[ooi]\n",
    "\n",
    "num_exp = len(data)\n",
    "out_avg_ooi = np.zeros(num_exp)\n",
    "\n",
    "for i in range(num_exp):\n",
    "    out_avg_ooi[i] = data[i].mean()\n",
    "\n",
    "exp = pd.DataFrame(experiments)\n",
    "\n",
    "exp = exp.loc[ :, selected_uncertainties] "
   ]
  },
  {
   "cell_type": "code",
   "execution_count": null,
   "metadata": {},
   "outputs": [],
   "source": [
    "from EMAworkbench.ema_workbench.analysis.plotting import multiple_densities, PlotType\n",
    "from EMAworkbench.ema_workbench.analysis.plotting_util import Density\n",
    "\n",
    "fig, ax_env = multiple_densities(experiments, outcomes_filtered, outcomes_to_show = ooi,\n",
    "                                 points_in_time=points_of_interest,  density = Density.KDE,\n",
    "                                 grouping_specifiers=None , titles={ooi}, ylabels={ooi: \"hours\"}, legend=True,\n",
    "                                 fill=False, plot_type=PlotType.ENV_LIN)\n",
    "\n",
    "#Change x labels to years\n",
    "ax_env[ooi]['main plot'].set_xticklabels(time[range(0,len(time),10)])\n",
    "#Add BAU in the plot with a black wide line\n",
    "ax_env[ooi]['main plot'].plot(outcomes_filtered[ooi][-1], 'k-',linewidth=5 )\n",
    "\n",
    "fig[0].suptitle(\"{}\".format(ooi), fontsize=15)\n",
    "fig[0].set_size_inches(18.5, 10.5)\n",
    "\n",
    "plt.savefig('{}/fig{}.png'.format(r'C:\\\\Users\\\\angel\\\\Documents\\\\GitHub\\\\gr4sp\\\\experiments\\\\notebookGr4sp\\\\outputs\\\\figs', '_hypopast_envelope_line_density_%s'%(ooi)),\n",
    "                dpi=300, bbox_inches='tight')"
   ]
  },
  {
   "cell_type": "code",
   "execution_count": null,
   "metadata": {
    "ExecuteTime": {
     "end_time": "2021-02-09T11:08:21.750453Z",
     "start_time": "2021-02-09T11:08:12.285877Z"
    }
   },
   "outputs": [],
   "source": [
    "from EMAworkbench.ema_workbench.analysis.plotting import multiple_densities, PlotType\n",
    "from EMAworkbench.ema_workbench.analysis.plotting_util import Density\n",
    "\n",
    "fig, ax_env = multiple_densities(experiments, outcomes_filtered, outcomes_to_show = ooi,\n",
    "                                 points_in_time=points_of_interest,  density = Density.KDE,\n",
    "                                 grouping_specifiers=None , titles={ooi}, ylabels={ooi: \"hours\"}, legend=True,\n",
    "                                 fill=True, plot_type=PlotType.ENVELOPE)\n",
    "\n",
    "#Change x labels to years\n",
    "ax_env[ooi]['main plot'].set_xticklabels(time[range(0,len(time),10)])\n",
    "#Add BAU in the plot with a red wide line\n",
    "ax_env[ooi]['main plot'].plot(outcomes_filtered[ooi][-1], 'r-',linewidth=2 )\n",
    "\n",
    "fig[0].suptitle(\"{}\".format(ooi), fontsize=15)\n",
    "fig[0].set_size_inches(18.5, 10.5)\n",
    "\n",
    "plt.savefig('{}/fig{}.png'.format(r'C:\\\\Users\\\\angel\\\\Documents\\\\GitHub\\\\gr4sp\\\\experiments\\\\notebookGr4sp\\\\outputs\\\\figs', '_hypopast_envelope_density_%s'%(ooi)),\n",
    "                dpi=300, bbox_inches='tight')"
   ]
  },
  {
   "cell_type": "markdown",
   "metadata": {},
   "source": [
    "### Unmet Demand - Primary unmet demand (days)"
   ]
  },
  {
   "cell_type": "code",
   "execution_count": null,
   "metadata": {
    "ExecuteTime": {
     "end_time": "2021-02-09T11:08:22.633539Z",
     "start_time": "2021-02-09T11:08:21.987354Z"
    }
   },
   "outputs": [],
   "source": [
    "# Subset Sool levers\n",
    "selected_uncertainties = uncertainties\n",
    "\n",
    "ooi = 'primaryUnmetDemandDays'\n",
    "data = outcomes_filtered[ooi]\n",
    "\n",
    "num_exp = len(data)\n",
    "out_avg_ooi = np.zeros(num_exp)\n",
    "\n",
    "for i in range(num_exp):\n",
    "    out_avg_ooi[i] = data[i].mean()\n",
    "\n",
    "exp = pd.DataFrame(experiments)\n",
    "\n",
    "exp = exp.loc[ :, selected_uncertainties] "
   ]
  },
  {
   "cell_type": "code",
   "execution_count": null,
   "metadata": {},
   "outputs": [],
   "source": [
    "from EMAworkbench.ema_workbench.analysis.plotting import multiple_densities, PlotType\n",
    "from EMAworkbench.ema_workbench.analysis.plotting_util import Density\n",
    "\n",
    "fig, ax_env = multiple_densities(experiments, outcomes_filtered, outcomes_to_show = ooi,\n",
    "                                 points_in_time=points_of_interest,  density = Density.KDE,\n",
    "                                 grouping_specifiers=None , titles={ooi}, ylabels={ooi: \"days\"}, legend=True,\n",
    "                                 fill=False, plot_type=PlotType.ENV_LIN)\n",
    "\n",
    "#Change x labels to years\n",
    "ax_env[ooi]['main plot'].set_xticklabels(time[range(0,len(time),10)])\n",
    "#Add BAU in the plot with a black wide line\n",
    "ax_env[ooi]['main plot'].plot(outcomes_filtered[ooi][-1], 'k-',linewidth=5 )\n",
    "\n",
    "fig[0].suptitle(\"{}\".format(ooi), fontsize=15)\n",
    "fig[0].set_size_inches(18.5, 10.5)\n",
    "\n",
    "plt.savefig('{}/fig{}.png'.format(r'C:\\\\Users\\\\angel\\\\Documents\\\\GitHub\\\\gr4sp\\\\experiments\\\\notebookGr4sp\\\\outputs\\\\figs', '_hypopast_envelope_line_density_%s'%(ooi)),\n",
    "                dpi=300, bbox_inches='tight')"
   ]
  },
  {
   "cell_type": "code",
   "execution_count": null,
   "metadata": {
    "ExecuteTime": {
     "end_time": "2021-02-09T11:08:30.560358Z",
     "start_time": "2021-02-09T11:08:22.867918Z"
    }
   },
   "outputs": [],
   "source": [
    "from EMAworkbench.ema_workbench.analysis.plotting import multiple_densities, PlotType\n",
    "from EMAworkbench.ema_workbench.analysis.plotting_util import Density\n",
    "\n",
    "fig, ax_env = multiple_densities(experiments, outcomes_filtered, outcomes_to_show = ooi,\n",
    "                                 points_in_time=points_of_interest,  density = Density.KDE,\n",
    "                                 grouping_specifiers=None , titles={ooi}, ylabels={ooi: \"days\"}, legend=True,\n",
    "                                 fill=True, plot_type=PlotType.ENVELOPE)\n",
    "\n",
    "#Change x labels to years\n",
    "ax_env[ooi]['main plot'].set_xticklabels(time[range(0,len(time),10)])\n",
    "#Add BAU in the plot with a red wide line\n",
    "ax_env[ooi]['main plot'].plot(outcomes_filtered[ooi][-1], 'r-',linewidth=2 )\n",
    "\n",
    "fig[0].suptitle(\"{}\".format(ooi), fontsize=15)\n",
    "fig[0].set_size_inches(18.5, 10.5)\n",
    "\n",
    "plt.savefig('{}/fig{}.png'.format(r'C:\\\\Users\\\\angel\\\\Documents\\\\GitHub\\\\gr4sp\\\\experiments\\\\notebookGr4sp\\\\outputs\\\\figs', '_hypopast_envelope_density_%s'%(ooi)),\n",
    "                dpi=300, bbox_inches='tight')"
   ]
  },
  {
   "cell_type": "markdown",
   "metadata": {},
   "source": [
    "### Unmet Demand - Primary max unmet demand per hour"
   ]
  },
  {
   "cell_type": "code",
   "execution_count": null,
   "metadata": {
    "ExecuteTime": {
     "end_time": "2021-02-09T11:08:31.497827Z",
     "start_time": "2021-02-09T11:08:30.829971Z"
    }
   },
   "outputs": [],
   "source": [
    "# Subset Sool levers\n",
    "selected_uncertainties = uncertainties\n",
    "\n",
    "ooi = 'primaryMaxUnmetDemandMwhPerHour'\n",
    "data = outcomes_filtered[ooi]\n",
    "\n",
    "num_exp = len(data)\n",
    "out_avg_ooi = np.zeros(num_exp)\n",
    "\n",
    "for i in range(num_exp):\n",
    "    out_avg_ooi[i] = data[i].mean()\n",
    "\n",
    "exp = pd.DataFrame(experiments)\n",
    "\n",
    "exp = exp.loc[ :, selected_uncertainties] "
   ]
  },
  {
   "cell_type": "code",
   "execution_count": null,
   "metadata": {},
   "outputs": [],
   "source": [
    "from EMAworkbench.ema_workbench.analysis.plotting import multiple_densities, PlotType\n",
    "from EMAworkbench.ema_workbench.analysis.plotting_util import Density\n",
    "\n",
    "fig, ax_env = multiple_densities(experiments, outcomes_filtered, outcomes_to_show = ooi,\n",
    "                                 points_in_time=points_of_interest,  density = Density.KDE,\n",
    "                                 grouping_specifiers=None , titles={ooi}, ylabels={ooi: \"max MWh in an hour\"}, legend=True,\n",
    "                                 fill=False, plot_type=PlotType.ENV_LIN)\n",
    "\n",
    "#Change x labels to years\n",
    "ax_env[ooi]['main plot'].set_xticklabels(time[range(0,len(time),10)])\n",
    "#Add BAU in the plot with a black wide line\n",
    "ax_env[ooi]['main plot'].plot(outcomes_filtered[ooi][-1], 'k-',linewidth=5 )\n",
    "\n",
    "fig[0].suptitle(\"{}\".format(ooi), fontsize=15)\n",
    "fig[0].set_size_inches(18.5, 10.5)\n",
    "\n",
    "plt.savefig('{}/fig{}.png'.format(r'C:\\\\Users\\\\angel\\\\Documents\\\\GitHub\\\\gr4sp\\\\experiments\\\\notebookGr4sp\\\\outputs\\\\figs', '_hypopast_envelope_line_density_%s'%(ooi)),\n",
    "                dpi=300, bbox_inches='tight')"
   ]
  },
  {
   "cell_type": "code",
   "execution_count": null,
   "metadata": {
    "ExecuteTime": {
     "end_time": "2021-02-09T11:08:38.543046Z",
     "start_time": "2021-02-09T11:08:31.706263Z"
    }
   },
   "outputs": [],
   "source": [
    "from EMAworkbench.ema_workbench.analysis.plotting import multiple_densities, PlotType\n",
    "from EMAworkbench.ema_workbench.analysis.plotting_util import Density\n",
    "\n",
    "fig, ax_env = multiple_densities(experiments, outcomes_filtered, outcomes_to_show = ooi,\n",
    "                                 points_in_time=points_of_interest,  density = Density.KDE,\n",
    "                                 grouping_specifiers=None , titles={ooi}, ylabels={ooi: \"max MWh in an hour\"}, legend=True,\n",
    "                                 fill=True, plot_type=PlotType.ENVELOPE)\n",
    "\n",
    "#Change x labels to years\n",
    "ax_env[ooi]['main plot'].set_xticklabels(time[range(0,len(time),10)])\n",
    "#Add BAU in the plot with a red wide line\n",
    "ax_env[ooi]['main plot'].plot(outcomes_filtered[ooi][-1], 'r-',linewidth=2 )\n",
    "\n",
    "\n",
    "fig[0].suptitle(\"{}\".format(ooi), fontsize=15)\n",
    "fig[0].set_size_inches(18.5, 10.5)\n",
    "\n",
    "plt.savefig('{}/fig{}.png'.format(r'C:\\\\Users\\\\angel\\\\Documents\\\\GitHub\\\\gr4sp\\\\experiments\\\\notebookGr4sp\\\\outputs\\\\figs', '_hypopast_envelope_density_%s'%(ooi)),\n",
    "                dpi=300, bbox_inches='tight')"
   ]
  },
  {
   "cell_type": "markdown",
   "metadata": {},
   "source": [
    "### Unmet Demand - Secondary market unmet demand MWh"
   ]
  },
  {
   "cell_type": "code",
   "execution_count": null,
   "metadata": {
    "ExecuteTime": {
     "end_time": "2021-02-09T11:08:39.601876Z",
     "start_time": "2021-02-09T11:08:38.820359Z"
    }
   },
   "outputs": [],
   "source": [
    "# Subset Sool levers\n",
    "selected_uncertainties = uncertainties\n",
    "\n",
    "ooi = 'secondaryUnmetDemandMwh'\n",
    "data = outcomes_filtered[ooi]\n",
    "\n",
    "num_exp = len(data)\n",
    "out_avg_ooi = np.zeros(num_exp)\n",
    "\n",
    "for i in range(num_exp):\n",
    "    out_avg_ooi[i] = data[i].mean()\n",
    "\n",
    "exp = pd.DataFrame(experiments)\n",
    "\n",
    "exp = exp.loc[ :, selected_uncertainties] "
   ]
  },
  {
   "cell_type": "code",
   "execution_count": null,
   "metadata": {
    "ExecuteTime": {
     "end_time": "2021-02-09T11:14:15.876103Z",
     "start_time": "2021-02-09T11:10:41.153778Z"
    }
   },
   "outputs": [],
   "source": [
    "from EMAworkbench.ema_workbench.analysis.plotting import multiple_densities, PlotType\n",
    "from EMAworkbench.ema_workbench.analysis.plotting_util import Density\n",
    "\n",
    "fig, ax_env = multiple_densities(experiments, outcomes_filtered, outcomes_to_show = ooi,\n",
    "                                 points_in_time=points_of_interest,  density = Density.KDE,\n",
    "                                 grouping_specifiers=None , titles={ooi}, ylabels={ooi: \"MWh\"}, legend=True,\n",
    "                                 fill=False, plot_type=PlotType.ENV_LIN)\n",
    "\n",
    "#Change x labels to years\n",
    "ax_env[ooi]['main plot'].set_xticklabels(time[range(0,len(time),10)])\n",
    "#Add BAU in the plot with a black wide line\n",
    "ax_env[ooi]['main plot'].plot(outcomes_filtered[ooi][-1], 'k-',linewidth=5 )\n",
    "\n",
    "fig[0].suptitle(\"{}\".format(ooi), fontsize=15)\n",
    "fig[0].set_size_inches(18.5, 10.5)\n",
    "\n",
    "plt.savefig('{}/fig{}.png'.format(r'C:\\\\Users\\\\angel\\\\Documents\\\\GitHub\\\\gr4sp\\\\experiments\\\\notebookGr4sp\\\\outputs\\\\figs', '_hypopast_envelope_line_density_%s'%(ooi)),\n",
    "                dpi=300, bbox_inches='tight')"
   ]
  },
  {
   "cell_type": "code",
   "execution_count": null,
   "metadata": {
    "ExecuteTime": {
     "end_time": "2021-02-09T11:08:50.818168Z",
     "start_time": "2021-02-09T11:08:39.863369Z"
    }
   },
   "outputs": [],
   "source": [
    "from EMAworkbench.ema_workbench.analysis.plotting import multiple_densities, PlotType\n",
    "from EMAworkbench.ema_workbench.analysis.plotting_util import Density\n",
    "\n",
    "fig, ax_env = multiple_densities(experiments, outcomes_filtered, outcomes_to_show = ooi,\n",
    "                                 points_in_time=points_of_interest,  density = Density.KDE,\n",
    "                                 grouping_specifiers=None , titles={ooi}, ylabels={ooi: \"MWh\"}, legend=True,\n",
    "                                 fill=True, plot_type=PlotType.ENVELOPE)\n",
    "\n",
    "#Change x labels to years\n",
    "ax_env[ooi]['main plot'].set_xticklabels(time[range(0,len(time),10)])\n",
    "#Add BAU in the plot with a red wide line\n",
    "ax_env[ooi]['main plot'].plot(outcomes_filtered[ooi][-1], 'r-',linewidth=2 )\n",
    "\n",
    "fig[0].suptitle(\"{}\".format(ooi), fontsize=15)\n",
    "fig[0].set_size_inches(18.5, 10.5)\n",
    "\n",
    "plt.savefig('{}/fig{}.png'.format(r'C:\\\\Users\\\\angel\\\\Documents\\\\GitHub\\\\gr4sp\\\\experiments\\\\notebookGr4sp\\\\outputs\\\\figs', '_hypopast_envelope_density_%s'%(ooi)),\n",
    "                dpi=300, bbox_inches='tight')"
   ]
  },
  {
   "cell_type": "markdown",
   "metadata": {},
   "source": [
    "### Unmet Demand - Secondary market unmet demand (hours)"
   ]
  },
  {
   "cell_type": "markdown",
   "metadata": {},
   "source": [
    "### Unmet Demand - Secondary unmet demand (days)"
   ]
  },
  {
   "cell_type": "markdown",
   "metadata": {},
   "source": [
    "### Unmet Demand - Secondary market max unmet demand per hour"
   ]
  },
  {
   "cell_type": "code",
   "execution_count": null,
   "metadata": {},
   "outputs": [],
   "source": []
  },
  {
   "cell_type": "code",
   "execution_count": null,
   "metadata": {},
   "outputs": [],
   "source": []
  },
  {
   "cell_type": "markdown",
   "metadata": {
    "pycharm": {
     "name": "#%% md\n"
    }
   },
   "source": [
    ": 20-25% by 2025 on 2017. tariffs in 2017: ~21 c/KWh"
   ]
  },
  {
   "cell_type": "markdown",
   "metadata": {
    "pycharm": {
     "name": "#%% md\n"
    }
   },
   "source": [
    "As the envelope shows, there are two main groups at the first years of analysis where GHG emissions either increase or decrease. However, as time passes, GHG emissions can vary widely. \n",
    "Taking the first year of analysis, year 2020, we can investigate the cases where GHG emissions per year per household fall below 30.89 MtonsCO2-e. This is 20% lower than the emissions in BAU for 2005, which were 38.62 MtCO2-e"
   ]
  },
  {
   "cell_type": "markdown",
   "metadata": {
    "pycharm": {
     "name": "#%% md\n"
    }
   },
   "source": [
    "## Directed Search: Prim - Low Carbon Scenario\n",
    "* Low carbon emissions is the objective. Therefore, low emissions scenarios, with a high generation autonomy (in primary and secondary markets) and high percentage of renewable energy in the system are going to be explored. "
   ]
  },
  {
   "cell_type": "markdown",
   "metadata": {
    "pycharm": {
     "name": "#%% md\n"
    }
   },
   "source": [
    "This section has two parts: the hypothetical past and the future pathways. \n",
    "1. Hypothetical past: Fins out what Victoria could have done to get into the lower cluster of pathways with low carbon emissions.\n",
    "\n",
    "2. Victoria's Climate Change Act 2017: “These targets build on the progress that Victoria is already making; emissions are projected to fall to 18% below 2005 levels in 2020.”\n",
    "The Panel recommends interim targets of:\n",
    "•\t32-39% below 2005 levels in 2025\n",
    "•\t45-60% below 2005 levels in 2030"
   ]
  },
  {
   "cell_type": "code",
   "execution_count": null,
   "metadata": {
    "ExecuteTime": {
     "end_time": "2021-02-16T01:00:20.773770Z",
     "start_time": "2021-02-16T00:59:59.489536Z"
    },
    "pycharm": {
     "name": "#%%\n"
    }
   },
   "outputs": [],
   "source": [
    "from EMAworkbench.ema_workbench.analysis import prim\n",
    "from EMAworkbench.ema_workbench.util import ema_logging\n",
    "ema_logging.log_to_stderr(ema_logging.INFO);\n",
    "\n",
    "x = exp\n",
    "\"\"\"\n",
    "Paris trajectory to 1.5 C\n",
    "Filter by GHG (below 39% value of 2005 by 2025)\n",
    "\"\"\"    \n",
    "ooi = 'GHGYear'\n",
    "\n",
    "reference = bau_results_df[bau_results_df['Time (Year)'] == 2005]['GHGYear'].values\n",
    "\n",
    "reduction = 0.39\n",
    "ylc_e1 = target_at_year( outcomes_filtered, ooi, 2025, reference - (reference * reduction), False) #False is below target\n",
    "\n",
    "reduction = 0.60\n",
    "ylc_e2 = target_at_year( outcomes_filtered, ooi, 2030, reference - (reference * reduction), False) #False is below target\n",
    "\n",
    "reduction = 0.7\n",
    "ylc_e3 = target_at_year( outcomes_filtered, ooi, 2050, reference - (reference * reduction), False) #False is below target\n",
    "\n",
    "ylc_e = ylc_e1 &  ylc_e2 #& ylc_e3 \n",
    "\n",
    "\"\"\"\n",
    "Filter by renewableContributionYear (above 50%)\n",
    "\"\"\"\n",
    "\n",
    "ooi = 'renewableContributionYear'    \n",
    "\n",
    "#y = out_avg_ooi > 20\n",
    "\n",
    "ylc_re1 = target_at_year( outcomes_filtered, ooi, 2030, 0.40, True) #False is below target\n",
    "#y = target_at_year( outcomes_filtered, ooi, 2030, 21, False) #False is below target\n",
    "ylc_re2 = target_at_year( outcomes_filtered, ooi, 2050, 0.50, True) #False is below target\n",
    "\n",
    "\n",
    "ylc_re= ylc_re1 & ylc_re2\n",
    "\n",
    "\"\"\"\"\n",
    "Filter by GA of Primary Wholesale Market (below 70% value of 2019, which is the year with Max unmet demand per hour)\n",
    "\"\"\"\n",
    "\n",
    "ooi = 'primaryUnmetDemandMwh'    \n",
    "\n",
    "#y = out_avg_ooi > 20\n",
    "\n",
    "ylc_gap1 = target_at_year( outcomes_filtered, ooi, 2040, 41346.343, False) #False is below target\n",
    "#y = target_at_year( outcomes_filtered, ooi, 2030, 21, False) #False is below target\n",
    "\n",
    "\n",
    "# \"\"\"\n",
    "# Combine Filters\n",
    "# \"\"\"\n",
    "y = ylc_e & ylc_re & ylc_gap1\n",
    "\n",
    "\"\"\"\n",
    "Run PRIM\n",
    "\"\"\"\n",
    "prim_alg = prim.Prim(x, y, threshold=0.1, threshold_type=prim.ABOVE)\n",
    "box1 = prim_alg.find_box()"
   ]
  },
  {
   "cell_type": "code",
   "execution_count": null,
   "metadata": {
    "ExecuteTime": {
     "end_time": "2021-02-16T02:45:01.703106Z",
     "start_time": "2021-02-16T02:45:01.439813Z"
    },
    "pycharm": {
     "name": "#%%\n"
    }
   },
   "outputs": [],
   "source": [
    "box1.inspect_tradeoff()"
   ]
  },
  {
   "cell_type": "code",
   "execution_count": null,
   "metadata": {
    "ExecuteTime": {
     "end_time": "2021-02-16T02:22:53.561615Z",
     "start_time": "2021-02-16T02:22:53.307282Z"
    },
    "pycharm": {
     "name": "#%%\n"
    },
    "scrolled": false
   },
   "outputs": [],
   "source": [
    "#%matplotlib inline\n",
    "selected_box = 22\n",
    "\n",
    "box_1 = box1.inspect(selected_box)\n",
    "box_1 = box1.inspect(selected_box, style='graph')\n"
   ]
  },
  {
   "cell_type": "markdown",
   "metadata": {
    "pycharm": {
     "name": "#%% md\n"
    }
   },
   "source": [
    "\"The quasi-p-value test, essentially a one sided binomial test, is an estimate of the likelihood that a given uncertainty is included in the definition of the subspace purely by chance.\" (Bryant and Lempert, 2010)\n",
    "\"\n",
    "“qp-value” test thus answers the question: what is the probability that Tpoints drawn from the above binomial distribution would have H or more high valued points? When the ratio $H_{-j}$/$T_{-j}$ is close to H/T this number is high, the additional contribution of parameter $r_j$ is low, and thus possibly due to chance. The opposite is the case when H/T is much larger than  $H_{-j}$/$T_{-j}$.\" (Bryant and Lempert, 2010)"
   ]
  },
  {
   "cell_type": "code",
   "execution_count": null,
   "metadata": {
    "ExecuteTime": {
     "end_time": "2021-02-16T02:33:25.669106Z",
     "start_time": "2021-02-16T02:22:57.571951Z"
    }
   },
   "outputs": [],
   "source": [
    "box1.select(selected_box)\n",
    "fig = box1.show_pairs_scatter(selected_box)\n",
    "\n",
    "plt.show()\n"
   ]
  },
  {
   "cell_type": "markdown",
   "metadata": {},
   "source": [
    "### BAU vs LCT"
   ]
  },
  {
   "cell_type": "code",
   "execution_count": null,
   "metadata": {
    "ExecuteTime": {
     "end_time": "2021-02-16T02:48:02.721171Z",
     "start_time": "2021-02-16T02:48:02.654336Z"
    }
   },
   "outputs": [],
   "source": [
    "lct_results_df = pd.read_csv(r'C:/Users/angel/Documents/GitHub/gr4sp/csv/LCTVIC/LCTVICSimDataYearSummary_seed_1613443578132.csv')\n",
    "\n",
    "\"\"\" Converts household data in tCO2e into total residential data in MtCO2e\"\"\"\n",
    "data_GHG_residential_lct = (lct_results_df['GHG Emissions (tCO2-e) per household'] * lct_results_df['Number of Domestic Consumers (households)']) / 1000000.0\n",
    "\n",
    "\"\"\" Applies scaling factor used in simulation, so that data represents total emissions, not only residential (30%)\"\"\"\n",
    "data_GHG_total_lct = data_GHG_residential_lct / 0.3\n",
    "\n",
    "\"\"\"Overwrite GHG with the data of interest\"\"\"\n",
    "lct_results_df['GHGYear'] = data_GHG_total_lct"
   ]
  },
  {
   "cell_type": "code",
   "execution_count": null,
   "metadata": {
    "ExecuteTime": {
     "end_time": "2021-02-16T02:48:03.068248Z",
     "start_time": "2021-02-16T02:48:02.803952Z"
    }
   },
   "outputs": [],
   "source": [
    "plt.figure(figsize=(18,10))\n",
    "years = [DT.datetime.strptime(str(int(date)),'%Y') for date in bau_results_df['Time (Year)'].values]\n",
    "years =  bau_results_df['Time (Year)'].values\n",
    "plt.plot( years, bau_results_df['GHGYear'], markerfacecolor='lightblue', color='lightblue', linewidth=4, label='GHG Emissions (MtCO2-e) BAU')\n",
    "plt.plot( years, lct_results_df['GHGYear'], markerfacecolor='darkgoldenrod',  color='burlywood', linewidth=4, label='GHG Emissions (MtCO2-e) LCT')\n",
    "\n",
    "# Add dot and corresponding text\n",
    "reference = bau_results_df[bau_results_df['Time (Year)'] == 2005]['GHGYear'].values\n",
    "\n",
    "reduction = 0.39\n",
    "\n",
    "plt.axhline(  (reference - (reference * reduction)) ,ls='--',color='red')\n",
    "plt.text(years[0], reference - (reference * reduction)+2, f'2025 Target: {((reference - (reference * reduction))[0]):.2f}',color='red')\n",
    "plt.plot(2025, (reference - (reference * reduction)), 'ro')\n",
    "\n",
    "\n",
    "reduction = 0.60\n",
    "\n",
    "plt.axhline(  (reference - (reference * reduction)) ,ls='--',color='green')\n",
    "plt.text(years[0], reference - (reference * reduction)+2, f'2030 Target: {((reference - (reference * reduction))[0]):.2f}',color='green')\n",
    "plt.plot(2030, (reference - (reference * reduction)), 'go')\n",
    "\n",
    "reduction = 0.7\n",
    "plt.axhline(  (reference - (reference * reduction)) ,ls='--',color='blue')\n",
    "plt.text(years[0], reference - (reference * reduction)+2, f'2050 Target: {((reference - (reference * reduction))[0]):.2f}',color='blue')\n",
    "plt.plot(2050, (reference - (reference * reduction)), 'bo')\n",
    "\n",
    "#plt.grid( linestyle='-', linewidth=1)\n",
    "plt.xlabel('Year', size=16)\n",
    "plt.ylabel('GHGe', size=16)\n",
    "plt.xticks(size = 14)\n",
    "plt.yticks(size = 14)\n",
    "plt.legend(prop={'size':16})"
   ]
  },
  {
   "cell_type": "code",
   "execution_count": null,
   "metadata": {
    "ExecuteTime": {
     "end_time": "2021-02-16T02:48:05.024067Z",
     "start_time": "2021-02-16T02:48:04.708897Z"
    }
   },
   "outputs": [],
   "source": [
    "plt.figure(figsize=(18,10))\n",
    "years = [DT.datetime.strptime(str(int(date)),'%Y') for date in bau_results_df['Time (Year)'].values]\n",
    "years =  bau_results_df['Time (Year)'].values\n",
    "plt.plot( years, bau_results_df['Percentage Renewable Production'], markerfacecolor='lightblue', color='lightblue', linewidth=4, label='Percentage Renewable Production BAU')\n",
    "plt.plot( years, lct_results_df['Percentage Renewable Production'], markerfacecolor='darkgoldenrod',  color='burlywood', linewidth=4, label='Percentage Renewable Production LCT')\n",
    "\n",
    "# Add dot and corresponding text\n",
    "\n",
    "target = 0.40\n",
    "\n",
    "plt.axhline(  target ,ls='--',color='green')\n",
    "plt.text(years[0], target+0.01, f'2030 Target: {target:.2f}',color='green')\n",
    "plt.plot(2030, target, 'go')\n",
    "\n",
    "target = 0.5\n",
    "plt.axhline(  target ,ls='--',color='blue')\n",
    "plt.text(years[0], target+0.01, f'2050 Target: {target:.2f}',color='blue')\n",
    "plt.plot(2050, target, 'bo')\n",
    "\n",
    "#plt.grid( linestyle='-', linewidth=1)\n",
    "plt.xlabel('Year', size=16)\n",
    "plt.ylabel('renewableContributionYear', size=16)\n",
    "plt.xticks(size = 14)\n",
    "plt.yticks(size = 14)\n",
    "plt.legend(prop={'size':16})"
   ]
  },
  {
   "cell_type": "markdown",
   "metadata": {
    "pycharm": {
     "name": "#%% md\n"
    }
   },
   "source": [
    "### Feature Scoring"
   ]
  },
  {
   "cell_type": "code",
   "execution_count": null,
   "metadata": {
    "ExecuteTime": {
     "end_time": "2021-02-16T02:40:49.658885Z",
     "start_time": "2021-02-16T02:40:49.364684Z"
    },
    "pycharm": {
     "name": "#%%\n"
    }
   },
   "outputs": [],
   "source": [
    "from EMAworkbench.ema_workbench.analysis import feature_scoring\n",
    "\n",
    "fs, alg = feature_scoring.get_ex_feature_scores(x, y, mode=feature_scoring.RuleInductionType.CLASSIFICATION)\n",
    "fs.sort_values(ascending=False, by=1)\n",
    "\n"
   ]
  },
  {
   "cell_type": "code",
   "execution_count": null,
   "metadata": {
    "ExecuteTime": {
     "end_time": "2020-09-02T14:03:19.828534Z",
     "start_time": "2020-09-02T14:03:11.557144Z"
    },
    "pycharm": {
     "name": "#%%\n"
    },
    "scrolled": true
   },
   "outputs": [],
   "source": [
    "x = exp\n",
    "y_all = {}\n",
    "\n",
    "#plot using ALL simulations\n",
    "#y_all['GHGYear'] = data\n",
    "\n",
    "#plot using average of ALL simulations\n",
    "#y_all['GHGYear'] = out_avg_ooi\n",
    "\n",
    "#Plot using only target simulations\n",
    "y_all['GHGYear'] = y\n",
    "\n",
    "fig, ax = plt.subplots(figsize=(10,10))\n",
    "fs = feature_scoring.get_feature_scores_all(x, y_all)\n",
    "sns.heatmap(fs, cmap='viridis', annot=True, ax=ax)\n",
    "plt.show()"
   ]
  },
  {
   "cell_type": "markdown",
   "metadata": {
    "pycharm": {
     "name": "#%% md\n"
    }
   },
   "source": [
    "### Dimensional Stacking\n"
   ]
  },
  {
   "cell_type": "code",
   "execution_count": null,
   "metadata": {
    "ExecuteTime": {
     "end_time": "2020-09-02T14:04:02.935242Z",
     "start_time": "2020-09-02T14:03:54.858363Z"
    },
    "pycharm": {
     "name": "#%%\n"
    },
    "scrolled": true
   },
   "outputs": [],
   "source": [
    "\n",
    "from EMAworkbench.ema_workbench.analysis import dimensional_stacking\n",
    "\n",
    "x = exp\n",
    "dimensional_stacking.create_pivot_plot(x,y, 1, nbins=3)\n",
    "plt.show()\n",
    "\n"
   ]
  },
  {
   "cell_type": "markdown",
   "metadata": {},
   "source": [
    "## Direct search: PRIM - Just Transition\n",
    "Includes trajectories with low tarifffs, EV and good autonomy of secondary markets"
   ]
  },
  {
   "cell_type": "code",
   "execution_count": null,
   "metadata": {
    "ExecuteTime": {
     "end_time": "2021-02-15T12:57:13.361007Z",
     "start_time": "2021-02-15T12:56:58.459514Z"
    },
    "pycharm": {
     "name": "#%%\n"
    }
   },
   "outputs": [],
   "source": [
    "from EMAworkbench.ema_workbench.analysis import prim\n",
    "from EMAworkbench.ema_workbench.util import ema_logging\n",
    "ema_logging.log_to_stderr(ema_logging.INFO);\n",
    "\n",
    "x = exp\n",
    "\n",
    "\"\"\"\n",
    "Filter by Energy Vulnerability (below 70% of 2017 value)\n",
    "\"\"\"\n",
    "ooi = 'Energy Vulnerability Percentage'    \n",
    "\n",
    "#y = out_avg_ooi > 20\n",
    "\n",
    "yjt_ev1= target_at_year( outcomes_filtered, ooi, 2030, 0.3, False) #False is below target\n",
    "#y = target_at_year( outcomes_filtered, ooi, 2030, 21, False) #False is below target\n",
    "\n",
    "\n",
    "\"\"\"\"\n",
    "Filter by GA of Primary Wholesale Market (below 70% value of 2019, which is the year with Max unmet demand per hour)\n",
    "\"\"\"\n",
    "\n",
    "ooi = 'secondaryUnmetDemandMwh'    \n",
    "\n",
    "#y = out_avg_ooi > 20\n",
    "\n",
    "yjt_gas1 = target_at_year( outcomes_filtered, ooi, 2030, 4223.991784, False) #False is below target\n",
    "#y = target_at_year( outcomes_filtered, ooi, 2030, 21, False) #False is below target\n",
    "\n",
    "\n",
    "# \"\"\"\n",
    "# Combine Filters\n",
    "# \"\"\"\n",
    "y = yjt_ev1 #& yjt_gas1\n",
    "\n",
    "\"\"\"\n",
    "Run PRIM\n",
    "\"\"\"\n",
    "prim_alg = prim.Prim(x, y, threshold=0.1, threshold_type=prim.ABOVE)\n",
    "box1 = prim_alg.find_box()\n"
   ]
  },
  {
   "cell_type": "code",
   "execution_count": null,
   "metadata": {
    "ExecuteTime": {
     "end_time": "2021-02-15T12:57:16.493215Z",
     "start_time": "2021-02-15T12:57:16.187567Z"
    }
   },
   "outputs": [],
   "source": [
    "box1.inspect_tradeoff()"
   ]
  },
  {
   "cell_type": "markdown",
   "metadata": {},
   "source": [
    "We can see that the targets are __not ambitious enough__, and is sufficient to __delay slightly the rollout of renewables__, and **avoid the earliest retirement of brown coal**"
   ]
  },
  {
   "cell_type": "code",
   "execution_count": null,
   "metadata": {
    "ExecuteTime": {
     "end_time": "2020-08-10T02:31:14.254539Z",
     "start_time": "2020-08-10T02:31:14.032593Z"
    }
   },
   "outputs": [],
   "source": [
    "%matplotlib inline\n",
    "box_1 = box1.inspect(3)\n",
    "box_1 = box1.inspect(3, style='graph')"
   ]
  },
  {
   "cell_type": "markdown",
   "metadata": {
    "heading_collapsed": true,
    "pycharm": {
     "name": "#%% md\n"
    }
   },
   "source": [
    "### Feature Scoring"
   ]
  },
  {
   "cell_type": "code",
   "execution_count": null,
   "metadata": {
    "ExecuteTime": {
     "end_time": "2020-08-10T02:31:22.333616Z",
     "start_time": "2020-08-10T02:31:17.562648Z"
    },
    "hidden": true,
    "pycharm": {
     "name": "#%%\n"
    }
   },
   "outputs": [],
   "source": [
    "from EMAworkbench.ema_workbench.analysis import feature_scoring\n",
    "\n",
    "fs, alg = feature_scoring.get_ex_feature_scores(x, y, mode=feature_scoring.RuleInductionType.CLASSIFICATION)\n",
    "fs.sort_values(ascending=False, by=1)\n"
   ]
  },
  {
   "cell_type": "code",
   "execution_count": null,
   "metadata": {
    "ExecuteTime": {
     "end_time": "2020-08-10T02:31:30.466043Z",
     "start_time": "2020-08-10T02:31:25.609944Z"
    },
    "hidden": true
   },
   "outputs": [],
   "source": [
    "x = exp\n",
    "y_all = {}\n",
    "\n",
    "#plot using ALL simulations\n",
    "#y_all['GHGYear'] = data\n",
    "\n",
    "#plot using average of ALL simulations\n",
    "#y_all['GHGYear'] = out_avg_ooi\n",
    "\n",
    "#Plot using only target simulations\n",
    "y_all['WholesalePrice'] = y\n",
    "\n",
    "fig, ax = plt.subplots(figsize=(5,10))\n",
    "fs = feature_scoring.get_feature_scores_all(x, y_all)\n",
    "sns.heatmap(fs, cmap='viridis', annot=True, ax=ax)\n",
    "plt.show()"
   ]
  },
  {
   "cell_type": "markdown",
   "metadata": {
    "heading_collapsed": true,
    "pycharm": {
     "name": "#%% md\n"
    }
   },
   "source": [
    "### Dimensional stacking"
   ]
  },
  {
   "cell_type": "code",
   "execution_count": null,
   "metadata": {
    "ExecuteTime": {
     "end_time": "2020-08-10T02:31:36.595079Z",
     "start_time": "2020-08-10T02:31:31.195992Z"
    },
    "hidden": true
   },
   "outputs": [],
   "source": [
    "\n",
    "from EMAworkbench.ema_workbench.analysis import dimensional_stacking\n",
    "\n",
    "x = exp\n",
    "dimensional_stacking.create_pivot_plot(x,y, 1, nbins=3)\n",
    "plt.show()\n",
    "\n"
   ]
  },
  {
   "cell_type": "markdown",
   "metadata": {
    "heading_collapsed": true,
    "pycharm": {
     "name": "#%% md\n"
    }
   },
   "source": [
    "### A more ambitious target\n",
    "Wholesale prices: 50% by 2025 on 2017 levels\n",
    "Spot price in 2017 ~103 $/MWh (OpenNem) in simulation BAU VIC 48.05. In 2025 should be below 24.02 (50%)"
   ]
  },
  {
   "cell_type": "code",
   "execution_count": null,
   "metadata": {
    "ExecuteTime": {
     "end_time": "2020-08-10T02:33:33.637392Z",
     "start_time": "2020-08-10T02:33:28.122862Z"
    },
    "hidden": true
   },
   "outputs": [],
   "source": [
    "from EMAworkbench.ema_workbench.analysis import prim\n",
    "from EMAworkbench.ema_workbench.util import ema_logging\n",
    "ema_logging.log_to_stderr(ema_logging.INFO);\n",
    " \n",
    "x = exp\n",
    "#y = out_avg_ooi > 80\n",
    "\n",
    "y = target_at_year( outcomes_filtered, ooi, 2040, 50, False) #False is below target\n",
    "\n",
    "prim_alg = prim.Prim(x, y, threshold=.35, threshold_type=prim.ABOVE)\n",
    "box1 = prim_alg.find_box()"
   ]
  },
  {
   "cell_type": "code",
   "execution_count": null,
   "metadata": {
    "ExecuteTime": {
     "end_time": "2020-08-10T02:33:34.769284Z",
     "start_time": "2020-08-10T02:33:34.357317Z"
    },
    "hidden": true
   },
   "outputs": [],
   "source": [
    "box1.inspect_tradeoff()"
   ]
  },
  {
   "cell_type": "code",
   "execution_count": null,
   "metadata": {
    "ExecuteTime": {
     "end_time": "2020-07-21T04:23:28.272041Z",
     "start_time": "2020-07-21T04:23:28.066591Z"
    },
    "hidden": true,
    "pycharm": {
     "name": "#%%\n"
    }
   },
   "outputs": [],
   "source": [
    "%matplotlib inline\n",
    "box_1 = box1.inspect(3)\n",
    "box_1 = box1.inspect(13, style='graph')\n"
   ]
  },
  {
   "cell_type": "code",
   "execution_count": null,
   "metadata": {
    "ExecuteTime": {
     "end_time": "2020-07-21T04:23:37.667561Z",
     "start_time": "2020-07-21T04:23:28.492480Z"
    },
    "hidden": true
   },
   "outputs": [],
   "source": [
    "box1.select(13)\n",
    "fig = box1.show_pairs_scatter(13)\n",
    "\n",
    "plt.show()"
   ]
  },
  {
   "cell_type": "markdown",
   "metadata": {
    "heading_collapsed": true,
    "pycharm": {
     "name": "#%% md\n"
    }
   },
   "source": [
    "### Feature Scoring"
   ]
  },
  {
   "cell_type": "code",
   "execution_count": null,
   "metadata": {
    "ExecuteTime": {
     "end_time": "2020-07-21T04:23:41.072478Z",
     "start_time": "2020-07-21T04:23:37.844091Z"
    },
    "hidden": true,
    "pycharm": {
     "name": "#%%\n"
    }
   },
   "outputs": [],
   "source": [
    "from EMAworkbench.ema_workbench.analysis import feature_scoring\n",
    "\n",
    "fs, alg = feature_scoring.get_ex_feature_scores(x, y, mode=feature_scoring.RuleInductionType.CLASSIFICATION)\n",
    "fs.sort_values(ascending=False, by=1)\n"
   ]
  },
  {
   "cell_type": "code",
   "execution_count": null,
   "metadata": {
    "ExecuteTime": {
     "end_time": "2020-07-21T04:23:44.266424Z",
     "start_time": "2020-07-21T04:23:41.073476Z"
    },
    "hidden": true,
    "pycharm": {
     "name": "#%%\n"
    }
   },
   "outputs": [],
   "source": [
    "x = exp\n",
    "y_all = {}\n",
    "\n",
    "#plot using ALL simulations\n",
    "#y_all['GHGYear'] = data\n",
    "\n",
    "#plot using average of ALL simulations\n",
    "#y_all['GHGYear'] = out_avg_ooi\n",
    "\n",
    "#Plot using only target simulations\n",
    "y_all['WholesalePrice'] = y\n",
    "\n",
    "fig, ax = plt.subplots(figsize=(5,10))\n",
    "fs = feature_scoring.get_feature_scores_all(x, y_all)\n",
    "sns.heatmap(fs, cmap='viridis', annot=True, ax=ax)\n",
    "plt.show()"
   ]
  },
  {
   "cell_type": "markdown",
   "metadata": {
    "heading_collapsed": true,
    "pycharm": {
     "name": "#%% md\n"
    }
   },
   "source": [
    "### Dimensional stacking"
   ]
  },
  {
   "cell_type": "code",
   "execution_count": null,
   "metadata": {
    "ExecuteTime": {
     "end_time": "2020-07-21T04:23:48.375567Z",
     "start_time": "2020-07-21T04:23:44.652370Z"
    },
    "hidden": true
   },
   "outputs": [],
   "source": [
    "\n",
    "from EMAworkbench.ema_workbench.analysis import dimensional_stacking\n",
    "\n",
    "x = exp\n",
    "dimensional_stacking.create_pivot_plot(x,y, 1, nbins=3)\n",
    "plt.show()\n",
    "\n"
   ]
  },
  {
   "cell_type": "markdown",
   "metadata": {
    "pycharm": {
     "name": "#%% md\n"
    }
   },
   "source": [
    "## Tariffs"
   ]
  },
  {
   "cell_type": "markdown",
   "metadata": {},
   "source": [
    "#### Filter trajectories away from the BAU"
   ]
  },
  {
   "cell_type": "code",
   "execution_count": null,
   "metadata": {
    "ExecuteTime": {
     "end_time": "2020-09-17T09:01:37.274082Z",
     "start_time": "2020-09-17T09:01:37.266102Z"
    }
   },
   "outputs": [],
   "source": [
    "filter_below = target_at_year( outcomes_filtered, ooi, 2000, 30, False) #True means above target\n",
    "#outcomes_filtered = {k:v[:, startYearShift:] for k,v in outcomes.items() if k != 'seedExperimentCsv'}\n",
    "\n",
    "outcomes_bau_cluster = {k:v[filter_below, :] for k,v in outcomes_filtered.items()}"
   ]
  },
  {
   "cell_type": "code",
   "execution_count": null,
   "metadata": {
    "ExecuteTime": {
     "end_time": "2020-09-17T09:01:40.296981Z",
     "start_time": "2020-09-17T09:01:37.797188Z"
    }
   },
   "outputs": [],
   "source": [
    "from EMAworkbench.ema_workbench.analysis.plotting import multiple_densities, PlotType\n",
    "from EMAworkbench.ema_workbench.analysis.plotting_util import Density \n",
    "\n",
    "fig, ax_env = multiple_densities(experiments, outcomes_bau_cluster, outcomes_to_show = ooi,\n",
    "                                 points_in_time=points_of_interest, density = Density.KDE, grouping_specifiers=None, \n",
    "                                 titles={ooi}, ylabels={ooi: \"c/KWh\"}, legend=True,\n",
    "                                 fill=False, plot_type=PlotType.ENV_LIN)\n",
    "\n",
    "#Change x labels to years\n",
    "ax_env[ooi]['main plot'].set_xticklabels(time[range(0,len(time),10)])\n",
    "\n",
    "#Add BAU in the plot with a gray wide line\n",
    "ax_env[ooi]['main plot'].plot(outcomes_filtered[ooi][-1], 'k-',linewidth=5 )\n",
    "\n",
    "## Show labels\n",
    "# labels = ax_env['F']['main plot'].get_xticklabels()\n",
    "# for l in labels:\n",
    "#     print (l.get_text)\n",
    "\n",
    "fig[0].suptitle(\"{}\".format(ooi), fontsize=15)\n",
    "fig[0].set_size_inches(18.5, 10.5)\n",
    "\n",
    "plt.savefig('{}/fig{}.png'.format(r'C:\\\\Users\\\\angel\\\\Documents\\\\GitHub\\\\gr4sp\\\\experiments\\\\notebookGr4sp\\\\outputs\\\\figs', 'filtered_envelope_line_density_%s'%(ooi)),\n",
    "                dpi=300, bbox_inches='tight')"
   ]
  },
  {
   "cell_type": "code",
   "execution_count": null,
   "metadata": {
    "ExecuteTime": {
     "end_time": "2020-09-17T09:01:42.680696Z",
     "start_time": "2020-09-17T09:01:40.510409Z"
    },
    "pycharm": {
     "name": "#%%\n"
    }
   },
   "outputs": [],
   "source": [
    "from EMAworkbench.ema_workbench.analysis.plotting import multiple_densities, PlotType\n",
    "from EMAworkbench.ema_workbench.analysis.plotting_util import Density\n",
    "\n",
    "# fig, ax_env = multiple_densities(experiments, outcomes_filtered, outcomes_to_show = ooi,\n",
    "#                                  points_in_time=points_of_interest,  density = Density.HIST,\n",
    "#                                  grouping_specifiers=None , titles={ooi}, ylabels={ooi: \"$/MWh\"}, legend=True,\n",
    "#                                  fill=True, plot_type=PlotType.ENVELOPE)\n",
    "\n",
    "fig, ax_env = multiple_densities(experiments, outcomes_filtered, outcomes_to_show = ooi,\n",
    "                                 points_in_time=points_of_interest,  density = Density.HIST,\n",
    "                                 grouping_specifiers=None , titles={ooi}, ylabels={ooi: \"c/KWh\"}, legend=True,\n",
    "                                 fill=True, plot_type=PlotType.ENVELOPE)\n",
    "\n",
    "#Change x labels to years\n",
    "ax_env[ooi]['main plot'].set_xticklabels(time[range(0,len(time),10)])\n",
    "#Add BAU in the plot with a red wide line\n",
    "ax_env[ooi]['main plot'].plot(outcomes_filtered[ooi][-1], 'r-',linewidth=3 )\n",
    "\n",
    "fig[0].suptitle(\"{}\".format(ooi), fontsize=15)\n",
    "fig[0].set_size_inches(18.5, 10.5)\n",
    "\n",
    "plt.savefig('{}/fig{}.png'.format(r'C:\\\\Users\\\\angel\\\\Documents\\\\GitHub\\\\gr4sp\\\\experiments\\\\notebookGr4sp\\\\outputs\\\\figs', '_envelope_density_%s'%(ooi)),\n",
    "                dpi=300, bbox_inches='tight')\n",
    "\n"
   ]
  },
  {
   "cell_type": "code",
   "execution_count": null,
   "metadata": {
    "ExecuteTime": {
     "end_time": "2020-09-17T08:58:29.983561Z",
     "start_time": "2020-09-17T08:58:29.937659Z"
    },
    "pycharm": {
     "name": "#%%\n"
    }
   },
   "outputs": [],
   "source": [
    "from EMAworkbench.ema_workbench.analysis import prim\n",
    "from EMAworkbench.ema_workbench.util import ema_logging\n",
    "ema_logging.log_to_stderr(ema_logging.INFO);\n",
    "\n",
    "x = exp\n",
    "\"\"\"\n",
    "Filter by GHG\n",
    "\"\"\"    \n",
    "ooi = 'GHGYear'\n",
    "#y = (out_avg_ooi < 4.)\n",
    "#y = target_at_year( outcomes_filtered, ooi, 2030, 24, False) #False is below target\n",
    "y1 = target_at_year( outcomes_filtered, ooi, 2030, 25, False) #False is below target\n",
    "\n",
    "\"\"\"\n",
    "Filter by Wholesale price\n",
    "\"\"\"\n",
    "\n",
    "ooi = 'wholesalePriceYear'    \n",
    "\n",
    "#y = out_avg_ooi > 20\n",
    "\n",
    "y2 = target_at_year( outcomes_filtered, ooi, 2030, 50, False) #False is below target\n",
    "#y = target_at_year( outcomes_filtered, ooi, 2030, 21, False) #False is below target\n",
    "\n",
    "\"\"\"\n",
    "Filter by Tariff\n",
    "\"\"\"\n",
    "\n",
    "ooi = 'tariffsYear'    \n",
    "\n",
    "#y = out_avg_ooi > 20\n",
    "\n",
    "y3 = target_at_year( outcomes_filtered, ooi, 2030, 21, False) #False is below target\n",
    "#y = target_at_year( outcomes_filtered, ooi, 2030, 21, False) #False is below target\n",
    "\n",
    "\"\"\"\n",
    "Combine Filters\n",
    "\"\"\"\n",
    "y = y1 & y2 & y3\n",
    "\n",
    "\"\"\"\n",
    "Run PRIM\n",
    "\"\"\"\n",
    "prim_alg = prim.Prim(x, y, threshold=0.1, threshold_type=prim.ABOVE)\n",
    "box1 = prim_alg.find_box()"
   ]
  },
  {
   "cell_type": "code",
   "execution_count": null,
   "metadata": {
    "ExecuteTime": {
     "end_time": "2020-08-10T02:48:48.922905Z",
     "start_time": "2020-08-10T02:48:48.292017Z"
    },
    "pycharm": {
     "name": "#%%\n"
    }
   },
   "outputs": [],
   "source": [
    "box1.inspect_tradeoff()"
   ]
  },
  {
   "cell_type": "code",
   "execution_count": null,
   "metadata": {
    "ExecuteTime": {
     "end_time": "2020-08-10T02:52:13.724544Z",
     "start_time": "2020-08-10T02:52:13.362423Z"
    },
    "pycharm": {
     "name": "#%%\n"
    }
   },
   "outputs": [],
   "source": [
    "%matplotlib inline\n",
    "box_1 = box1.inspect(32)\n",
    "box_1 = box1.inspect(32, style='graph')"
   ]
  },
  {
   "cell_type": "markdown",
   "metadata": {
    "heading_collapsed": true
   },
   "source": [
    "### Dimensional stacking"
   ]
  },
  {
   "cell_type": "code",
   "execution_count": null,
   "metadata": {
    "ExecuteTime": {
     "end_time": "2020-08-10T03:08:04.158578Z",
     "start_time": "2020-08-10T03:07:59.490714Z"
    },
    "hidden": true,
    "pycharm": {
     "name": "#%%\n"
    }
   },
   "outputs": [],
   "source": [
    "\n",
    "from EMAworkbench.ema_workbench.analysis import dimensional_stacking\n",
    "\n",
    "x = exp\n",
    "dimensional_stacking.create_pivot_plot(x,y, 2, nbins=3)\n",
    "plt.show()\n",
    "\n"
   ]
  },
  {
   "cell_type": "code",
   "execution_count": null,
   "metadata": {
    "ExecuteTime": {
     "end_time": "2020-08-10T02:54:02.084176Z",
     "start_time": "2020-08-10T02:53:55.396151Z"
    },
    "hidden": true,
    "pycharm": {
     "name": "#%%\n"
    }
   },
   "outputs": [],
   "source": [
    "box1.select(12)\n",
    "fig = box1.show_pairs_scatter(12)\n",
    "plt.show()"
   ]
  },
  {
   "cell_type": "code",
   "execution_count": null,
   "metadata": {
    "ExecuteTime": {
     "end_time": "2020-08-25T08:31:37.845370Z",
     "start_time": "2020-08-25T08:31:37.841382Z"
    },
    "hidden": true,
    "pycharm": {
     "name": "#%%\n"
    }
   },
   "outputs": [],
   "source": [
    "## Primary Spot Production"
   ]
  },
  {
   "cell_type": "code",
   "execution_count": null,
   "metadata": {
    "ExecuteTime": {
     "end_time": "2020-08-10T01:49:07.028927Z",
     "start_time": "2020-08-10T01:49:01.453126Z"
    },
    "hidden": true
   },
   "outputs": [],
   "source": [
    "from EMAworkbench.ema_workbench.analysis import prim\n",
    "from EMAworkbench.ema_workbench.util import ema_logging\n",
    "ema_logging.log_to_stderr(ema_logging.INFO);\n",
    " \n",
    "\"\"\"\n",
    "Filter by GHG\n",
    "\"\"\"    \n",
    "#ooi = 'GHGYear'\n",
    "#y = (out_avg_ooi < 4.)\n",
    "#y = target_at_year( outcomes_filtered, ooi, 2030, 24, False) #False is below target\n",
    "#y1 = target_at_year( outcomes_filtered, ooi, 2020, 38, False) #False is below target\n",
    "\n",
    "\"\"\"\n",
    "Filter by Tariff\n",
    "\"\"\"\n",
    "\n",
    "ooi = 'tariffsYear'    \n",
    "x = exp\n",
    "#y = out_avg_ooi > 20\n",
    "\n",
    "#y2 = target_at_year( outcomes_filtered, ooi, 2030, 50, True) #False is below target\n",
    "y = target_at_year( outcomes_filtered, ooi, 2030, 21, False) #False is below target\n",
    "\n",
    "\"\"\"\n",
    "Combine Filters\n",
    "\"\"\"\n",
    "#y = y1 & y2\n",
    "\n",
    "\"\"\"\n",
    "Run PRIM\n",
    "\"\"\"\n",
    "prim_alg = prim.Prim(x, y, threshold=0.5, threshold_type=prim.ABOVE)\n",
    "box1 = prim_alg.find_box()"
   ]
  },
  {
   "cell_type": "code",
   "execution_count": null,
   "metadata": {
    "ExecuteTime": {
     "end_time": "2020-08-09T14:06:50.513306Z",
     "start_time": "2020-08-09T14:06:49.995689Z"
    },
    "hidden": true
   },
   "outputs": [],
   "source": [
    "box1.inspect_tradeoff()"
   ]
  },
  {
   "cell_type": "code",
   "execution_count": null,
   "metadata": {
    "ExecuteTime": {
     "end_time": "2020-08-09T14:03:40.048650Z",
     "start_time": "2020-08-09T14:03:39.847189Z"
    },
    "hidden": true,
    "pycharm": {
     "name": "#%%\n"
    }
   },
   "outputs": [],
   "source": [
    "%matplotlib inline\n",
    "box_1 = box1.inspect(11)\n",
    "box_1 = box1.inspect(11, style='graph')"
   ]
  },
  {
   "cell_type": "markdown",
   "metadata": {
    "pycharm": {
     "name": "#%% md\n"
    }
   },
   "source": [
    "### Dimensional stacking"
   ]
  },
  {
   "cell_type": "code",
   "execution_count": null,
   "metadata": {
    "ExecuteTime": {
     "end_time": "2020-08-09T14:03:57.504178Z",
     "start_time": "2020-08-09T14:03:51.807788Z"
    }
   },
   "outputs": [],
   "source": [
    "\n",
    "from EMAworkbench.ema_workbench.analysis import dimensional_stacking\n",
    "\n",
    "x = exp\n",
    "dimensional_stacking.create_pivot_plot(x,y, 1, nbins=3)\n",
    "plt.show()\n",
    "\n"
   ]
  },
  {
   "cell_type": "code",
   "execution_count": null,
   "metadata": {
    "ExecuteTime": {
     "end_time": "2020-08-09T14:04:05.448490Z",
     "start_time": "2020-08-09T14:03:58.263640Z"
    },
    "pycharm": {
     "name": "#%%\n"
    },
    "scrolled": false
   },
   "outputs": [],
   "source": [
    "box1.select(11)\n",
    "fig = box1.show_pairs_scatter(11)\n",
    "plt.show()"
   ]
  },
  {
   "cell_type": "code",
   "execution_count": null,
   "metadata": {
    "ExecuteTime": {
     "end_time": "2020-08-25T14:38:18.305878Z",
     "start_time": "2020-08-25T14:38:17.550306Z"
    }
   },
   "outputs": [],
   "source": [
    "# Subset Sool levers\n",
    "selected_uncertainties = uncertainties\n",
    "\n",
    "ooi = 'secondaryMaxUnmetDemandMwhPerHour'\n",
    "data = outcomes_filtered[ooi]\n",
    "\n",
    "num_exp = len(data)\n",
    "out_avg_ooi = np.zeros(num_exp)\n",
    "\n",
    "for i in range(num_exp):\n",
    "    out_avg_ooi[i] = data[i].mean()\n",
    "\n",
    "exp = pd.DataFrame(experiments)\n",
    "\n",
    "exp = exp.loc[ :, selected_uncertainties] "
   ]
  },
  {
   "cell_type": "markdown",
   "metadata": {
    "heading_collapsed": true,
    "pycharm": {
     "name": "#%% md\n"
    }
   },
   "source": [
    "### Open Exploration: Visual Analysis"
   ]
  },
  {
   "cell_type": "code",
   "execution_count": null,
   "metadata": {
    "ExecuteTime": {
     "end_time": "2020-08-25T14:44:57.159202Z",
     "start_time": "2020-08-25T14:38:18.780619Z"
    },
    "hidden": true,
    "pycharm": {
     "name": "#%%\n"
    }
   },
   "outputs": [],
   "source": [
    "from EMAworkbench.ema_workbench.analysis.plotting import multiple_densities, PlotType\n",
    "from EMAworkbench.ema_workbench.analysis.plotting_util import Density\n",
    "\n",
    "fig, ax_env = multiple_densities(experiments, outcomes_filtered, outcomes_to_show = ooi,\n",
    "                                 points_in_time=points_of_interest,  density = Density.KDE,\n",
    "                                 grouping_specifiers=None , titles={ooi}, ylabels={ooi: \"max MWh in an hour\"}, legend=True,\n",
    "                                 fill=False, plot_type=PlotType.ENV_LIN)\n",
    "\n",
    "#Change x labels to years\n",
    "ax_env[ooi]['main plot'].set_xticklabels(time[range(0,len(time),10)])\n",
    "#Add BAU in the plot with a black wide line\n",
    "ax_env[ooi]['main plot'].plot(outcomes_filtered[ooi][-1], 'k-',linewidth=5 )\n",
    "\n",
    "fig[0].suptitle(\"{}\".format(ooi), fontsize=15)\n",
    "fig[0].set_size_inches(18.5, 10.5)\n",
    "\n",
    "plt.savefig('{}/fig{}.png'.format(r'C:\\\\Users\\\\angel\\\\Documents\\\\GitHub\\\\gr4sp\\\\experiments\\\\notebookGr4sp\\\\outputs\\\\figs', '_envelope_line_density_%s'%(ooi)),\n",
    "                dpi=300, bbox_inches='tight')"
   ]
  },
  {
   "cell_type": "code",
   "execution_count": null,
   "metadata": {
    "ExecuteTime": {
     "end_time": "2020-08-25T14:45:06.298414Z",
     "start_time": "2020-08-25T14:44:57.693748Z"
    },
    "hidden": true,
    "pycharm": {
     "name": "#%%\n"
    }
   },
   "outputs": [],
   "source": [
    "from EMAworkbench.ema_workbench.analysis.plotting import multiple_densities, PlotType\n",
    "from EMAworkbench.ema_workbench.analysis.plotting_util import Density\n",
    "\n",
    "fig, ax_env = multiple_densities(experiments, outcomes_filtered, outcomes_to_show = ooi,\n",
    "                                 points_in_time=points_of_interest,  density = Density.KDE,\n",
    "                                 grouping_specifiers=None , titles={ooi}, ylabels={ooi: \"max MWh in an hour\"}, legend=True,\n",
    "                                 fill=True, plot_type=PlotType.ENVELOPE)\n",
    "\n",
    "#Change x labels to years\n",
    "ax_env[ooi]['main plot'].set_xticklabels(time[range(0,len(time),10)])\n",
    "#Add BAU in the plot with a red wide line\n",
    "ax_env[ooi]['main plot'].plot(outcomes_filtered[ooi][-1], 'r-',linewidth=2 )\n",
    "\n",
    "fig[0].suptitle(\"{}\".format(ooi), fontsize=15)\n",
    "fig[0].set_size_inches(18.5, 10.5)\n",
    "\n",
    "plt.savefig('{}/fig{}.png'.format(r'C:\\\\Users\\\\angel\\\\Documents\\\\GitHub\\\\gr4sp\\\\experiments\\\\notebookGr4sp\\\\outputs\\\\figs', '_envelope_density_%s'%(ooi)),\n",
    "                dpi=300, bbox_inches='tight')"
   ]
  },
  {
   "cell_type": "code",
   "execution_count": null,
   "metadata": {
    "ExecuteTime": {
     "end_time": "2020-07-21T00:22:10.886985Z",
     "start_time": "2020-07-21T00:22:10.788251Z"
    },
    "hidden": true
   },
   "outputs": [],
   "source": [
    "from EMAworkbench.ema_workbench.analysis import prim\n",
    "from EMAworkbench.ema_workbench.util import ema_logging\n",
    "ema_logging.log_to_stderr(ema_logging.INFO);\n",
    " \n",
    "x = exp\n",
    "#y = out_avg_ooi > 40000000\n",
    "y = target_at_year( outcomes_filtered, ooi, 2035, 40000000, False) #False is below target\n",
    "\n",
    "prim_alg = prim.Prim(x, y, threshold=0.3)\n",
    "box1 = prim_alg.find_box()"
   ]
  },
  {
   "cell_type": "code",
   "execution_count": null,
   "metadata": {
    "ExecuteTime": {
     "end_time": "2020-07-20T13:45:07.214072Z",
     "start_time": "2020-07-20T13:34:04.192Z"
    },
    "hidden": true
   },
   "outputs": [],
   "source": [
    "box1.inspect_tradeoff()"
   ]
  },
  {
   "cell_type": "code",
   "execution_count": null,
   "metadata": {
    "ExecuteTime": {
     "end_time": "2020-07-20T13:45:07.215071Z",
     "start_time": "2020-07-20T13:34:04.198Z"
    },
    "hidden": true
   },
   "outputs": [],
   "source": [
    "%matplotlib inline\n",
    "box_1 = box1.inspect(2)\n",
    "box_1 = box1.inspect(2, style='graph')"
   ]
  },
  {
   "cell_type": "code",
   "execution_count": null,
   "metadata": {
    "ExecuteTime": {
     "end_time": "2020-07-20T13:45:07.216067Z",
     "start_time": "2020-07-20T13:34:04.203Z"
    },
    "hidden": true,
    "scrolled": true
   },
   "outputs": [],
   "source": [
    "box1.select(2)\n",
    "fig = box1.show_pairs_scatter(2)\n",
    "plt.show()"
   ]
  }
 ],
 "metadata": {
  "celltoolbar": "Initialization Cell",
  "kernelspec": {
   "display_name": "Python 3",
   "language": "python",
   "name": "python3"
  },
  "language_info": {
   "codemirror_mode": {
    "name": "ipython",
    "version": 3
   },
   "file_extension": ".py",
   "mimetype": "text/x-python",
   "name": "python",
   "nbconvert_exporter": "python",
   "pygments_lexer": "ipython3",
   "version": "3.7.3"
  },
  "toc": {
   "base_numbering": 1,
   "nav_menu": {
    "height": "333.767px",
    "width": "261.771px"
   },
   "number_sections": true,
   "sideBar": true,
   "skip_h1_title": false,
   "title_cell": "Table of Contents",
   "title_sidebar": "Contents",
   "toc_cell": false,
   "toc_position": {
    "height": "calc(100% - 180px)",
    "left": "10px",
    "top": "150px",
    "width": "422.813px"
   },
   "toc_section_display": true,
   "toc_window_display": true
  },
  "varInspector": {
   "cols": {
    "lenName": 16,
    "lenType": 16,
    "lenVar": 40
   },
   "kernels_config": {
    "python": {
     "delete_cmd_postfix": "",
     "delete_cmd_prefix": "del ",
     "library": "var_list.py",
     "varRefreshCmd": "print(var_dic_list())"
    },
    "r": {
     "delete_cmd_postfix": ") ",
     "delete_cmd_prefix": "rm(",
     "library": "var_list.r",
     "varRefreshCmd": "cat(var_dic_list()) "
    }
   },
   "position": {
    "height": "792.963px",
    "left": "2089.54px",
    "right": "20px",
    "top": "116.975px",
    "width": "354.75px"
   },
   "types_to_exclude": [
    "module",
    "function",
    "builtin_function_or_method",
    "instance",
    "_Feature"
   ],
   "window_display": true
  }
 },
 "nbformat": 4,
 "nbformat_minor": 2
}
