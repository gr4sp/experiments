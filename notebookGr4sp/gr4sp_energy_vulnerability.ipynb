{
 "cells": [
  {
   "cell_type": "markdown",
   "source": [
    "<h1>Table of Contents<span class=\"tocSkip\"></span></h1>\n",
    "<div class=\"toc\"><ul class=\"toc-item\"><li><span><a href=\"#Initial-setup\" data-toc-modified-id=\"Initial-setup-1\"><span class=\"toc-item-num\">1&nbsp;&nbsp;</span>Initial setup</a></span><ul class=\"toc-item\"><li><span><a href=\"#Load-the-results\" data-toc-modified-id=\"Load-the-results-1.1\"><span class=\"toc-item-num\">1.1&nbsp;&nbsp;</span>Load the results</a></span></li><li><span><a href=\"#Load-population-data\" data-toc-modified-id=\"Load-population-data-1.2\"><span class=\"toc-item-num\">1.2&nbsp;&nbsp;</span>Load population data</a></span></li></ul></li><li><span><a href=\"#Seting-up-the-indicator-components\" data-toc-modified-id=\"Seting-up-the-indicator-components-2\"><span class=\"toc-item-num\">2&nbsp;&nbsp;</span>Seting up the indicator components</a></span><ul class=\"toc-item\"><li><span><a href=\"#Energy-Requirements-($R_t$)-depending-on-Household-Characteristics\" data-toc-modified-id=\"Energy-Requirements-($R_t$)-depending-on-Household-Characteristics-2.1\"><span class=\"toc-item-num\">2.1&nbsp;&nbsp;</span>Energy Requirements ($R_t$) depending on Household Characteristics</a></span></li><li><span><a href=\"#Compute-Energy-Cost-($F_t^j$)\" data-toc-modified-id=\"Compute-Energy-Cost-($F_t^j$)-2.2\"><span class=\"toc-item-num\">2.2&nbsp;&nbsp;</span>Compute Energy Cost ($F_t^j$)</a></span></li><li><span><a href=\"#Plot-envelope-$F_t^j$\" data-toc-modified-id=\"Plot-envelope-$F_t^j$-2.3\"><span class=\"toc-item-num\">2.3&nbsp;&nbsp;</span>Plot envelope $F_t^j$</a></span></li></ul></li><li><span><a href=\"#Analysis\" data-toc-modified-id=\"Analysis-3\"><span class=\"toc-item-num\">3&nbsp;&nbsp;</span>Analysis</a></span></li></ul></div>"
   ],
   "metadata": {
    "collapsed": false
   }
  },
  {
   "cell_type": "markdown",
   "source": [
    "# Initial setup"
   ],
   "metadata": {
    "collapsed": false
   }
  },
  {
   "cell_type": "code",
   "execution_count": null,
   "outputs": [],
   "source": [
    "\n",
    "'''\n",
    "Created by Angela M. Rojas A. <angelara@student.unimelb.edu.au>\n",
    "\n",
    "\n",
    "Created on February 2020\n",
    "\n",
    "'''\n",
    "import sys\n",
    "import os\n",
    "\n",
    "sys.path.append(r'C:\\Users\\angel\\Documents\\GitHub\\gr4sp\\experiments\\EMAworkbench')\n",
    "\n",
    "sys.path.append(r'C:\\Users\\angel\\Documents\\GitHub\\gr4sp\\experiments')\n",
    "\n",
    "#from ema_workbench.analysis.plotting_util import BOXPLOT, KDE, VIOLIN\n",
    "from ema_workbench.analysis.plotting import envelopes\n",
    "import matplotlib.pyplot as plt\n",
    "import numpy as np\n",
    "import pandas as pd\n",
    "import matplotlib.cm as cm\n",
    "import seaborn as sns\n",
    "from ema_workbench.analysis import prim\n",
    "#import pareto\n",
    "import os\n",
    "import glob\n",
    "import numpy as np\n",
    "import pandas as pd\n",
    "import os\n",
    "import glob\n",
    "\n"
   ],
   "metadata": {
    "collapsed": false,
    "pycharm": {
     "name": "#%%\n"
    }
   }
  },
  {
   "cell_type": "markdown",
   "source": [
    "## Load the results"
   ],
   "metadata": {
    "collapsed": false
   }
  },
  {
   "cell_type": "code",
   "execution_count": null,
   "outputs": [],
   "source": [
    "from ema_workbench import load_results\n",
    "\n",
    "#results = load_results(r'C:\\Users\\angel\\Documents\\GitHub\\gr4sp\\experiments\\data\\gr4sp_2020-Feb-20-years.tar.gz')\n",
    "#results = load_results(r'C:\\Users\\angel\\Documents\\GitHub\\gr4sp\\experiments\\data\\gr4sp_2020-Feb-07_EET_allV3.tar.gz')\n",
    "results = load_results(r'C:\\Users\\angel\\Documents\\GitHub\\gr4sp\\experiments\\data\\gr4sp_2020-Mar-05-SOBOL.tar.gz')\n"
   ],
   "metadata": {
    "collapsed": false,
    "pycharm": {
     "name": "#%%\n"
    }
   }
  },
  {
   "cell_type": "code",
   "execution_count": null,
   "outputs": [],
   "source": [
    "experiments, outcomes = results\n",
    "\n",
    "# Create a temporary copy of dictionary, with Outcomes Year\n",
    "outcomesYear = dict(outcomes)\n",
    "\n",
    "keysToRemove = [] \n",
    "# Iterate over the temporary dictionary and delete corresponding key from original dictionary\n",
    "for (key, value) in outcomesYear.items() :\n",
    "    if 'Month' in key:\n",
    "        keysToRemove.append(key)\n",
    "        \n",
    "for k in keysToRemove:        \n",
    "    del outcomesYear[k]   \n",
    "    \n",
    "        "
   ],
   "metadata": {
    "collapsed": false,
    "pycharm": {
     "name": "#%%\n"
    }
   }
  },
  {
   "cell_type": "code",
   "execution_count": null,
   "outputs": [],
   "source": [
    "experiments.head()"
   ],
   "metadata": {
    "collapsed": false,
    "pycharm": {
     "name": "#%%\n"
    }
   }
  },
  {
   "cell_type": "code",
   "execution_count": null,
   "outputs": [],
   "source": [
    "#outcomes Options: wholesalePriceYear, GHGYear, tariffsYear, primarySpotProductionYear,\n",
    "# secondarySpotProductionYear, offSpotProductionYear, rooftopPvProductionYear\n",
    "# numActorsYear\n",
    "outcomes_to_show = ['GHGYear','wholesalePriceYear', 'tariffsYear','primarySpotProductionYear', 'secondarySpotProductionYear', \n",
    "                    'offSpotProductionYear', 'rooftopPVProductionYear' ]\n",
    "\n",
    "# 22 levers selected after EET\n",
    "levers = ['consumption', 'energyEfficiency', 'rooftopPV', 'solarUptake','annualCpi','annualInflation',\n",
    "          'includePublicallyAnnouncedGen','generationRolloutPeriod','generatorRetirement','technologicalImprovement',\n",
    "          'priceChangePercentageBrownCoal','priceChangePercentageWind','priceChangePercentageWater','capacityFactorChangeBrownCoal','capacityFactorChangeWater',\n",
    "          'distributionUsageChange','retailUsageChange',\n",
    "          'semiScheduleGenSpotMarket','semiScheduleMinCapMarketGen', 'nonScheduleGenSpotMarket', 'nonScheduleMinCapMarketGen', \n",
    "          'learningCurve' ]\n",
    "\n",
    "#from startYear\n",
    "startYear = 1998\n",
    "startYearShift = (startYear - 1998)\n",
    "#startYearShift = (startYear - 1997) * 12\n",
    "simulationYears = outcomes['TIMEYear'][0, startYearShift:]\n",
    "#index = pd.to_datetime(time, format = '%Y-%m-%d')\n",
    "simulationYears_dateTime = pd.to_datetime(simulationYears, format = '%Y')\n"
   ],
   "metadata": {
    "collapsed": false,
    "pycharm": {
     "name": "#%%\n"
    }
   }
  },
  {
   "cell_type": "markdown",
   "source": [
    "## Load population data"
   ],
   "metadata": {
    "collapsed": false
   }
  },
  {
   "cell_type": "markdown",
   "source": [
    "Filter by area code"
   ],
   "metadata": {
    "collapsed": false
   }
  },
  {
   "cell_type": "code",
   "execution_count": null,
   "outputs": [],
   "source": [
    "region = 'VIC'\n",
    "\n",
    "household_type = pd.read_csv('postgres_public_household_forecast_victoria.csv')\n",
    "region_household_type = household_type[ household_type['region'] == region]\n",
    "region_household_type.head()"
   ],
   "metadata": {
    "collapsed": false,
    "pycharm": {
     "name": "#%%\n"
    }
   }
  },
  {
   "cell_type": "markdown",
   "source": [
    "Perform linear interpolation to fill missing years"
   ],
   "metadata": {
    "collapsed": false
   }
  },
  {
   "cell_type": "code",
   "execution_count": null,
   "outputs": [],
   "source": [
    "#Create new years from startYear to max, and Interpolate missing values\n",
    "years_interpolate = pd.DataFrame({\"TIMEYear\" : np.arange(region_household_type['TIMEYear'].min(), region_household_type['TIMEYear'].max()+1, 1)})\n",
    "merged = pd.merge(years_interpolate, region_household_type, how='left',on='TIMEYear')\n",
    "region_household_type = merged.interpolate(method='linear', limit_direction='forward', axis=0)\n",
    "region_household_type = region_household_type.ffill()\n",
    "region_household_type = region_household_type.set_index(region_household_type['TIMEYear'])\n",
    "region_household_type.head(10)"
   ],
   "metadata": {
    "collapsed": false,
    "pycharm": {
     "name": "#%%\n"
    }
   }
  },
  {
   "cell_type": "markdown",
   "source": [
    "Show percentage of familiy composition as a function of total number of households"
   ],
   "metadata": {
    "collapsed": false
   }
  },
  {
   "cell_type": "code",
   "execution_count": null,
   "outputs": [],
   "source": [
    "region_household_type_percentage = region_household_type.copy()\n",
    "for col in ['couple_with_children', 'couple_without_children', 'one_parent_family','other_family','group_household','lone_person']:\n",
    "    region_household_type_percentage[col] /= region_household_type_percentage['all_household_types']\n",
    "\n",
    "region_household_type_percentage.head()"
   ],
   "metadata": {
    "collapsed": false,
    "pycharm": {
     "name": "#%%\n"
    }
   }
  },
  {
   "cell_type": "markdown",
   "source": [
    "# Seting up the indicator components\n",
    "\n",
    "![caption](LIHC_Modified.png)\n",
    "\n"
   ],
   "metadata": {
    "collapsed": false
   }
  },
  {
   "cell_type": "markdown",
   "source": [
    "## Energy Requirements ($R_t$) depending on Household Characteristics\n",
    "\n",
    "$C_t^j = R_t^j * P where $R_t^j$ is energy requirement  for space conditioning, water heating, lights, appliances and cooking used in year $t$ in simulation run $j$. This energy requirement depend on household characteristics of size, age of property, occupancy level, fuel mix, and family type. \n",
    "\n",
    "Note that $R_t$ is the minimum energy requirement and remains constant across simulations. For any two simulation runs $j$ and $i$, where $j\\neq i$, any change in $C_t^j \\neq C_t^i$ affects only the household characteristics value $A_t^j$. This is consistent with the interventions modeled in the simulation, as they affect only the building energy efficiency and belong to $A_t^j$.\n",
    "\n",
    "Lets first convert household consumption $C_t^j$ expressed in $KWh$ into total residential consumtion in $MJ$"
   ],
   "metadata": {
    "collapsed": false
   }
  },
  {
   "cell_type": "code",
   "execution_count": null,
   "outputs": [],
   "source": [
    "kwh_to_mj = 3.6\n",
    "mj_to_kwh = 1/kwh_to_mj\n",
    "\n",
    "mj_to_mwh = mj_to_kwh / 1000\n",
    "mwh_to_mj = 1 / mj_to_mwh\n",
    "\n",
    "mj_to_pj = 10 ** -9\n",
    "pj_to_mj = 1/ mj_to_pj\n",
    "\n",
    "pj_to_mwh = pj_to_mj * mj_to_mwh\n",
    "pj_to_kwh = pj_to_mj * mj_to_kwh\n",
    "\n",
    "mwh_to_pj = 1 / pj_to_mwh\n",
    "kwh_to_pj = 1 / pj_to_kwh"
   ],
   "metadata": {
    "collapsed": false,
    "pycharm": {
     "name": "#%%\n"
    }
   }
  },
  {
   "cell_type": "code",
   "execution_count": null,
   "outputs": [],
   "source": [
    "#Columns are years from 0,..,t\n",
    "C_j = (outcomes['consumptionYear'] * outcomes['numConsumersYear']) * kwh_to_mj\n",
    "C_j_df = pd.DataFrame( C_j, columns=outcomes['TIMEYear'][0])\n",
    "C_j_df.head()"
   ],
   "metadata": {
    "collapsed": false,
    "pycharm": {
     "name": "#%%\n"
    }
   }
  },
  {
   "cell_type": "markdown",
   "source": [
    "Consumption in the simulation can vary depedning on the forecasts from ISP on:\n",
    "\n",
    "* consumption: ISP Forecast # consumptions = OpSentOut + PV + EE + ONSG\n",
    "* energyEfficiency (EE): ISP Forecast # consumption = consumption - EE\n",
    "* onsiteGeneration (ONSG): ISP Forecast # consumption = consumption - ONSG\n",
    "* solarUptake (PV): ISP Forecast #Slow change\n",
    "\n",
    "ISP Forecast scenarios are: Central, Step, Slow, Fast and Hight DER"
   ],
   "metadata": {
    "collapsed": false
   }
  },
  {
   "cell_type": "code",
   "execution_count": null,
   "outputs": [],
   "source": [
    "\n",
    "from EMAworkbench.ema_workbench.analysis.plotting import multiple_densities, PlotType\n",
    "from EMAworkbench.ema_workbench.analysis.plotting_util import Density \n",
    "ooi = 'consumptionYear'\n",
    "\n",
    "fig, ax_env = multiple_densities(experiments, outcomes, outcomes_to_show = ooi,\n",
    "                                 points_in_time=[2000-startYear,2010-startYear,2020-startYear,2030-startYear,2035-startYear], \n",
    "                                 density = Density.KDE, grouping_specifiers=None , titles={ooi}, ylabels={ooi: \"KWh\"}, legend=True,\n",
    "                                 fill=False, plot_type=PlotType.ENV_LIN)\n",
    "\n",
    "#Change x labels to years\n",
    "ax_env[ooi]['main plot'].set_xticklabels(simulationYears[range(0,len(simulationYears),5)])\n",
    "\n",
    "## Show labels\n",
    "# labels = ax_env['F']['main plot'].get_xticklabels()\n",
    "# for l in labels:\n",
    "#     print (l.get_text)\n",
    "\n",
    "\n",
    "fig[0].suptitle(\"{}\".format(ooi), fontsize=15)\n",
    "fig[0].set_size_inches(18.5, 10.5)"
   ],
   "metadata": {
    "collapsed": false,
    "pycharm": {
     "name": "#%%\n"
    }
   }
  },
  {
   "cell_type": "markdown",
   "source": [
    "$B_t$ is taken from th Australian report excel spreadsheet on tabs \"Energy.Elec.EndUse-State\" and \"Energy.Fuel-State\" which contains the \"Total Electric Energy by End Use - Australia and States (PJ)\" and \"Total Energy by Fuel - Australia and States (PJ)\" -including gas, LPG and wood- from the year 2000 to 2030. We assumed that this will be the energy requirement."
   ],
   "metadata": {
    "collapsed": false
   }
  },
  {
   "cell_type": "code",
   "execution_count": null,
   "outputs": [],
   "source": [
    "B_df = pd.read_csv('energy_use_vic_pj.csv')"
   ],
   "metadata": {
    "collapsed": false,
    "pycharm": {
     "name": "#%%\n"
    }
   }
  },
  {
   "cell_type": "markdown",
   "source": [
    "Convert from _PJ_ to _MJ_ all columns but the year"
   ],
   "metadata": {
    "collapsed": false
   }
  },
  {
   "cell_type": "code",
   "execution_count": null,
   "outputs": [],
   "source": [
    "B_df.loc[:, B_df.columns != 'TIMEYear'] = B_df.loc[:, B_df.columns != 'TIMEYear'] * pj_to_mj"
   ],
   "metadata": {
    "collapsed": false,
    "pycharm": {
     "name": "#%%\n"
    }
   }
  },
  {
   "cell_type": "markdown",
   "source": [
    "[This approach using pandas](https://www.machinelearningplus.com/time-series/time-series-analysis-python/) was tried, section 15: How to treat missing values in a time series?, but didn't work, as it simply copied the last values forward and backward using `ffill()` and `bfill()`. Interpolation didn't work either `df.interpolate(method='linear', limit_direction='forward', axis=0)`.\n",
    "\n",
    "Instead, [Prophet](https://facebook.github.io/prophet/docs/quick_start.html#python-api) library was used. \n",
    "\n",
    "Add missing years in `B_j` dataframe to match simulation years (will be NaN for missing values), and fill the missing backward values with `bfill()` as prophet doesn't backcast. In this example is only 2 time points _1996-1998_."
   ],
   "metadata": {
    "collapsed": false
   }
  },
  {
   "cell_type": "code",
   "execution_count": null,
   "outputs": [],
   "source": [
    "years_interpolate = pd.DataFrame( {\"TIMEYear\" : simulationYears} )\n",
    "merged = pd.merge(years_interpolate, B_df, how='left',on='TIMEYear')\n",
    "\n",
    "merged = merged.bfill()"
   ],
   "metadata": {
    "collapsed": false,
    "pycharm": {
     "name": "#%%\n"
    }
   }
  },
  {
   "cell_type": "markdown",
   "source": [
    "The data is formatted so we can do the forecast. A column `ds` for dates, and a column `y` for data.  Fit a model to the historical data of the columns."
   ],
   "metadata": {
    "collapsed": false
   }
  },
  {
   "cell_type": "code",
   "execution_count": null,
   "outputs": [],
   "source": [
    "from fbprophet import Prophet\n",
    "\n",
    "#Use Date format\n",
    "merged[\"TIMEYear\"] = simulationYears_dateTime\n",
    "merged.rename(columns={\"TIMEYear\": \"ds\"}, inplace=True)\n",
    "\n",
    "columns_prediction = [\"Appliances\",\"Cooking\",\"Lighting\",\"Space conditioning\",\n",
    "                      \"Water heating\", \"Natural Gas\",\"LPG\",\"Wood\"]\n",
    "\n",
    "for col in columns_prediction:\n",
    "    #Rename Column of interest\n",
    "    merged.rename(columns={col:\"y\"}, inplace=True)\n",
    "    \n",
    "    #Fit the model\n",
    "    m = Prophet(weekly_seasonality=False, daily_seasonality=False)\n",
    "    m.fit(merged)    \n",
    "    \n",
    "    #make prediction\n",
    "    future = m.make_future_dataframe(periods=0, freq='Y',include_history=True)\n",
    "    forecast = m.predict(future)    \n",
    "    #fig1 = m.plot(forecast)\n",
    "    \n",
    "    #Incorporate the prediction only for the NaN values\n",
    "    nans = merged.isnull().any(axis=1)\n",
    "    merged['y'][nans] = forecast['yhat'][nans]\n",
    "    \n",
    "    #Rename the column back to original name\n",
    "    merged.rename(columns={\"y\":col}, inplace=True)\n",
    "    \n",
    "#Recover original Date format\n",
    "merged.rename(columns={\"ds\":\"TIMEYear\"}, inplace=True)\n",
    "merged[\"TIMEYear\"] = simulationYears"
   ],
   "metadata": {
    "collapsed": false,
    "pycharm": {
     "name": "#%%\n"
    }
   }
  },
  {
   "cell_type": "markdown",
   "source": [
    "__Total Electricity__ cannot be predicted, as it will not match the sum over the previous columns. Those predictions are summed to get the __Total Electricity__ prediction"
   ],
   "metadata": {
    "collapsed": false
   }
  },
  {
   "cell_type": "code",
   "execution_count": null,
   "outputs": [],
   "source": [
    "merged[\"Total Electricity\"] = merged[ [\"Appliances\",\"Cooking\",\"Lighting\",\"Space conditioning\",\"Water heating\"] ].sum(axis=1)  "
   ],
   "metadata": {
    "collapsed": false,
    "pycharm": {
     "name": "#%%\n"
    }
   }
  },
  {
   "cell_type": "markdown",
   "source": [
    "Copy the predicted values back to $B_t$"
   ],
   "metadata": {
    "collapsed": false
   }
  },
  {
   "cell_type": "code",
   "execution_count": null,
   "outputs": [],
   "source": [
    "B_df = merged.round(decimals=2)\n",
    "B_df.tail()"
   ],
   "metadata": {
    "collapsed": false,
    "pycharm": {
     "name": "#%%\n"
    }
   }
  },
  {
   "cell_type": "markdown",
   "source": [
    "$A_t^j = C_t^j - B_t$"
   ],
   "metadata": {
    "collapsed": false
   }
  },
  {
   "cell_type": "code",
   "execution_count": null,
   "outputs": [],
   "source": [
    "A_j_df = C_j_df - list(B_df['Total Electricity'])\n",
    "\n",
    "A_j_df.head(10)"
   ],
   "metadata": {
    "collapsed": false,
    "pycharm": {
     "name": "#%%\n"
    }
   }
  },
  {
   "cell_type": "markdown",
   "source": [
    "<div class=\"alert alert-block alert-info\"><b>Tip:</b> \n",
    "$A_t^j$ is now ready to be used according to household characteristics using building stock data (Size, Age, etc.). In this way we can recompute $C_t^j$ given the distribution of households\n",
    "\n",
    "</div>"
   ],
   "metadata": {
    "collapsed": false
   }
  },
  {
   "cell_type": "markdown",
   "source": [
    "## Compute Energy Cost ($F_t^j$)\n",
    "\n",
    "$F_t^j = E_t^j * C_t^j$, where $F_t^j$ stands for the energy cost in year $t$ for simulation $j$. \n",
    "\n",
    "$C_t^j$ is given in _MJ_, and $E_t^j$ in _c/KWh_.\n",
    "\n",
    "Load all tariffs $E_t^j$, where $t$ is the year, and $j$ is the jth simulation run, and convert $E_t^j$ from _c/KWh_ to _$/MJ_\n"
   ],
   "metadata": {
    "collapsed": false
   }
  },
  {
   "cell_type": "code",
   "execution_count": null,
   "outputs": [],
   "source": [
    "ooi = 'tariffsYear'\n",
    "\n",
    "data_tariffs = outcomesYear[ooi][:, :]\n",
    "years = outcomesYear['TIMEYear'][0]\n",
    "#Load E\n",
    "E_j_df = pd.DataFrame(data_tariffs,columns=years)\n",
    "#Convert units of E\n",
    "E_j_df = E_j_df * cents_to_dollars/kwh_to_mj\n",
    "E_j_df.head()"
   ],
   "metadata": {
    "collapsed": false,
    "pycharm": {
     "name": "#%%\n"
    }
   }
  },
  {
   "cell_type": "markdown",
   "source": [
    "$F_t^j = E_t^j * C_t^j$"
   ],
   "metadata": {
    "collapsed": false
   }
  },
  {
   "cell_type": "code",
   "execution_count": null,
   "outputs": [],
   "source": [
    "F_j_df = E_j_df * C_j_df\n",
    "F_j_df.head()"
   ],
   "metadata": {
    "collapsed": false,
    "pycharm": {
     "name": "#%%\n"
    }
   }
  },
  {
   "cell_type": "markdown",
   "source": [
    "$F_t^j$ represents the total variable electricity cost (fixed costs not included) for all households. Lets compute now the cost for an individual household"
   ],
   "metadata": {
    "collapsed": false
   }
  },
  {
   "cell_type": "code",
   "execution_count": null,
   "outputs": [],
   "source": [
    "households_year_list = list(area_population.loc[ range(startYear,simulationYears.max() + 1) ,'all_household_types'])\n",
    "F_j_house_df = F_j_df / households_year_list\n",
    "F_j_house_df.head()"
   ],
   "metadata": {
    "collapsed": false,
    "pycharm": {
     "name": "#%%\n"
    }
   }
  },
  {
   "cell_type": "markdown",
   "source": [
    "## Plot envelope $F_t^j$"
   ],
   "metadata": {
    "collapsed": false
   }
  },
  {
   "cell_type": "code",
   "execution_count": null,
   "outputs": [],
   "source": [
    "from EMAworkbench.ema_workbench.analysis.plotting import multiple_densities, PlotType\n",
    "from EMAworkbench.ema_workbench.analysis.plotting_util import Density \n",
    "ooi = 'F'\n",
    "outcomes[ooi] = F_j_house_df.values\n",
    "fig, ax_env = multiple_densities(experiments, outcomes, outcomes_to_show = ooi,\n",
    "                                 points_in_time=[2000-startYear,2010-startYear,2020-startYear,2030-startYear,2035-startYear], \n",
    "                                 density = Density.KDE, grouping_specifiers=None , titles={ooi}, ylabels={ooi: \"$\"}, legend=True,\n",
    "                                 fill=False, plot_type=PlotType.ENV_LIN)\n",
    "\n",
    "#Change x labels to years\n",
    "ax_env['F']['main plot'].set_xticklabels(simulationYears[range(0,len(simulationYears),5)])\n",
    "\n",
    "## Show labels\n",
    "# labels = ax_env['F']['main plot'].get_xticklabels()\n",
    "# for l in labels:\n",
    "#     print (l.get_text)\n",
    "\n",
    "\n",
    "fig[0].suptitle(\"{}\".format(ooi), fontsize=15)\n",
    "fig[0].set_size_inches(18.5, 10.5)"
   ],
   "metadata": {
    "collapsed": false,
    "pycharm": {
     "name": "#%%\n"
    }
   }
  },
  {
   "cell_type": "code",
   "execution_count": null,
   "outputs": [],
   "source": [
    "population = pd.read_csv('postgres_public_household_forecast_victoria.csv')\n"
   ],
   "metadata": {
    "collapsed": false,
    "pycharm": {
     "name": "#%%\n"
    }
   }
  },
  {
   "cell_type": "code",
   "execution_count": null,
   "outputs": [],
   "source": [
    "# Analysis\n",
    "\n",
    "<img src=\"classification.png\" alt=\"Drawing\" style=\"width: 600px;\"/>\n"
   ],
   "metadata": {
    "collapsed": false,
    "pycharm": {
     "name": "#%%\n"
    }
   }
  },
  {
   "cell_type": "code",
   "execution_count": null,
   "outputs": [],
   "source": [],
   "metadata": {
    "collapsed": false,
    "pycharm": {
     "name": "#%%\n"
    }
   }
  }
 ],
 "metadata": {
  "celltoolbar": "Initialization Cell",
  "kernelspec": {
   "display_name": "Python 3",
   "language": "python",
   "name": "python3"
  },
  "language_info": {
   "codemirror_mode": {
    "name": "ipython",
    "version": 3
   },
   "file_extension": ".py",
   "mimetype": "text/x-python",
   "name": "python",
   "nbconvert_exporter": "python",
   "pygments_lexer": "ipython3",
   "version": "3.7.3"
  },
  "toc": {
   "base_numbering": 1,
   "nav_menu": {},
   "number_sections": true,
   "sideBar": true,
   "skip_h1_title": false,
   "title_cell": "Table of Contents",
   "title_sidebar": "Contents",
   "toc_cell": true,
   "toc_position": {
    "height": "calc(100% - 180px)",
    "left": "10px",
    "top": "150px",
    "width": "294.4px"
   },
   "toc_section_display": true,
   "toc_window_display": true
  },
  "varInspector": {
   "cols": {
    "lenName": 16,
    "lenType": 16,
    "lenVar": 40
   },
   "kernels_config": {
    "python": {
     "delete_cmd_postfix": "",
     "delete_cmd_prefix": "del ",
     "library": "var_list.py",
     "varRefreshCmd": "print(var_dic_list())"
    },
    "r": {
     "delete_cmd_postfix": ") ",
     "delete_cmd_prefix": "rm(",
     "library": "var_list.r",
     "varRefreshCmd": "cat(var_dic_list()) "
    }
   },
   "position": {
    "height": "727.85px",
    "left": "1556px",
    "right": "20px",
    "top": "121px",
    "width": "352px"
   },
   "types_to_exclude": [
    "module",
    "function",
    "builtin_function_or_method",
    "instance",
    "_Feature"
   ],
   "window_display": true
  }
 },
 "nbformat": 4,
 "nbformat_minor": 2
}