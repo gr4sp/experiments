{
 "cells": [
  {
   "cell_type": "markdown",
   "metadata": {},
   "source": [
    "## Initial setup\n",
    "This analysis using ema is based on the work of Enayat A. Moallemi created on 22 May 2018 at the Fraunhofer ISI, Karlsruhe. In that instance, the analysis was done for the MATISSE model."
   ]
  },
  {
   "cell_type": "code",
   "execution_count": 2,
   "metadata": {
    "ExecuteTime": {
     "end_time": "2020-06-29T12:41:08.944506Z",
     "start_time": "2020-06-29T12:41:08.939519Z"
    },
    "pycharm": {
     "is_executing": false,
     "name": "#%%\n"
    }
   },
   "outputs": [],
   "source": [
    "\n",
    "'''\n",
    "Based on Enayat A. Moallemi version from May 2018\n",
    "\n",
    "edited by Angela M. Rojas A. <angelara@student.unimelb.edu.au>\n",
    "\n",
    "Created on 18 December 2019\n",
    "\n",
    "'''\n",
    "import sys\n",
    "import os\n",
    "\n",
    "sys.path.append(r'C:\\Users\\angel\\Documents\\GitHub\\gr4sp\\experiments\\EMAworkbench')\n",
    "\n",
    "sys.path.append(r'C:\\Users\\angel\\Documents\\GitHub\\gr4sp\\experiments')\n",
    "\n",
    "#from ema_workbench.analysis.plotting_util import BOXPLOT, KDE, VIOLIN\n",
    "from EMAworkbench.ema_workbench.analysis.plotting import envelopes\n",
    "import matplotlib.pyplot as plt\n",
    "import numpy as np\n",
    "import pandas as pd\n",
    "import matplotlib.cm as cm\n",
    "import seaborn as sns\n",
    "from EMAworkbench.ema_workbench.analysis import prim\n",
    "#import pareto\n",
    "import os\n",
    "import glob\n",
    "import numpy as np\n",
    "import pandas as pd\n",
    "import os\n",
    "import glob\n",
    "\n"
   ]
  },
  {
   "cell_type": "markdown",
   "metadata": {},
   "source": [
    "## Load the results"
   ]
  },
  {
   "cell_type": "code",
   "execution_count": 3,
   "metadata": {
    "ExecuteTime": {
     "end_time": "2020-06-29T12:41:22.775005Z",
     "start_time": "2020-06-29T12:41:10.067168Z"
    },
    "pycharm": {
     "is_executing": false,
     "name": "#%%\n"
    }
   },
   "outputs": [],
   "source": [
    "from EMAworkbench.ema_workbench import load_results\n",
    "\n",
    "results = load_results(r'C:\\Users\\angel\\Documents\\GitHub\\gr4sp\\experiments\\simulationData\\gr4sp_2020-Jun-29-SOBOL.tar.gz')\n"
   ]
  },
  {
   "cell_type": "code",
   "execution_count": 4,
   "metadata": {
    "ExecuteTime": {
     "end_time": "2020-06-29T12:41:22.892953Z",
     "start_time": "2020-06-29T12:41:22.888954Z"
    },
    "pycharm": {
     "is_executing": false,
     "name": "#%%\n"
    }
   },
   "outputs": [],
   "source": [
    "experiments, outcomes = results\n",
    "\n",
    "# Create a temporary copy of dictionary, with Outcomes Year\n",
    "outcomesYear = dict(outcomes)\n",
    "\n",
    "keysToRemove = [] \n",
    "# Iterate over the temporary dictionary and delete corresponding key from original dictionary\n",
    "for (key, value) in outcomesYear.items() :\n",
    "    if 'Month' in key:\n",
    "        keysToRemove.append(key)\n",
    "        \n",
    "for k in keysToRemove:        \n",
    "    del outcomesYear[k]   \n",
    "    \n",
    "        "
   ]
  },
  {
   "cell_type": "code",
   "execution_count": 5,
   "metadata": {
    "ExecuteTime": {
     "end_time": "2020-06-29T12:41:23.170362Z",
     "start_time": "2020-06-29T12:41:23.136455Z"
    },
    "pycharm": {
     "is_executing": false,
     "name": "#%%\n"
    },
    "scrolled": true
   },
   "outputs": [
    {
     "name": "stdout",
     "output_type": "stream",
     "text": [
      "<class 'pandas.core.frame.DataFrame'>\n",
      "RangeIndex: 45056 entries, 0 to 45055\n",
      "Data columns (total 24 columns):\n",
      "annualCpi                         45056 non-null float64\n",
      "annualInflation                   45056 non-null float64\n",
      "capacityFactorChangeBrownCoal     45056 non-null float64\n",
      "capacityFactorChangeWater         45056 non-null float64\n",
      "consumption                       45056 non-null category\n",
      "energyEfficiency                  45056 non-null category\n",
      "generationRolloutPeriod           45056 non-null float64\n",
      "generatorRetirement               45056 non-null float64\n",
      "includePublicallyAnnouncedGen     45056 non-null float64\n",
      "learningCurve                     45056 non-null float64\n",
      "nonScheduleGenSpotMarket          45056 non-null category\n",
      "nonScheduleMinCapMarketGen        45056 non-null float64\n",
      "priceChangePercentageBrownCoal    45056 non-null float64\n",
      "priceChangePercentageWater        45056 non-null float64\n",
      "priceChangePercentageWind         45056 non-null float64\n",
      "rooftopPV                         45056 non-null category\n",
      "semiScheduleGenSpotMarket         45056 non-null category\n",
      "semiScheduleMinCapMarketGen       45056 non-null float64\n",
      "solarUptake                       45056 non-null category\n",
      "technologicalImprovement          45056 non-null float64\n",
      "wholesaleTariffContribution       45056 non-null float64\n",
      "scenario                          45056 non-null category\n",
      "policy                            45056 non-null category\n",
      "model                             45056 non-null category\n",
      "dtypes: category(9), float64(15)\n",
      "memory usage: 7.3 MB\n"
     ]
    }
   ],
   "source": [
    "experiments.info()"
   ]
  },
  {
   "cell_type": "code",
   "execution_count": 6,
   "metadata": {
    "ExecuteTime": {
     "end_time": "2020-06-29T12:41:23.463607Z",
     "start_time": "2020-06-29T12:41:23.389858Z"
    }
   },
   "outputs": [
    {
     "data": {
      "text/html": [
       "<div>\n",
       "<style scoped>\n",
       "    .dataframe tbody tr th:only-of-type {\n",
       "        vertical-align: middle;\n",
       "    }\n",
       "\n",
       "    .dataframe tbody tr th {\n",
       "        vertical-align: top;\n",
       "    }\n",
       "\n",
       "    .dataframe thead th {\n",
       "        text-align: right;\n",
       "    }\n",
       "</style>\n",
       "<table border=\"1\" class=\"dataframe\">\n",
       "  <thead>\n",
       "    <tr style=\"text-align: right;\">\n",
       "      <th></th>\n",
       "      <th>annualCpi</th>\n",
       "      <th>annualInflation</th>\n",
       "      <th>capacityFactorChangeBrownCoal</th>\n",
       "      <th>capacityFactorChangeWater</th>\n",
       "      <th>generationRolloutPeriod</th>\n",
       "      <th>generatorRetirement</th>\n",
       "      <th>includePublicallyAnnouncedGen</th>\n",
       "      <th>learningCurve</th>\n",
       "      <th>nonScheduleMinCapMarketGen</th>\n",
       "      <th>priceChangePercentageBrownCoal</th>\n",
       "      <th>priceChangePercentageWater</th>\n",
       "      <th>priceChangePercentageWind</th>\n",
       "      <th>semiScheduleMinCapMarketGen</th>\n",
       "      <th>technologicalImprovement</th>\n",
       "      <th>wholesaleTariffContribution</th>\n",
       "    </tr>\n",
       "  </thead>\n",
       "  <tbody>\n",
       "    <tr>\n",
       "      <th>count</th>\n",
       "      <td>45056.000000</td>\n",
       "      <td>45056.000000</td>\n",
       "      <td>45056.000000</td>\n",
       "      <td>45056.000000</td>\n",
       "      <td>45056.000000</td>\n",
       "      <td>45056.000000</td>\n",
       "      <td>45056.000000</td>\n",
       "      <td>45056.000000</td>\n",
       "      <td>45056.000000</td>\n",
       "      <td>45056.000000</td>\n",
       "      <td>45056.000000</td>\n",
       "      <td>45056.000000</td>\n",
       "      <td>45056.000000</td>\n",
       "      <td>45056.000000</td>\n",
       "      <td>45056.000000</td>\n",
       "    </tr>\n",
       "    <tr>\n",
       "      <th>mean</th>\n",
       "      <td>0.029988</td>\n",
       "      <td>0.030016</td>\n",
       "      <td>-0.006836</td>\n",
       "      <td>0.000000</td>\n",
       "      <td>4.997070</td>\n",
       "      <td>-0.002441</td>\n",
       "      <td>0.500000</td>\n",
       "      <td>0.025005</td>\n",
       "      <td>7.551307</td>\n",
       "      <td>-0.011719</td>\n",
       "      <td>-0.041992</td>\n",
       "      <td>0.001953</td>\n",
       "      <td>15.044297</td>\n",
       "      <td>0.049998</td>\n",
       "      <td>27.490234</td>\n",
       "    </tr>\n",
       "    <tr>\n",
       "      <th>std</th>\n",
       "      <td>0.011547</td>\n",
       "      <td>0.011546</td>\n",
       "      <td>6.057326</td>\n",
       "      <td>6.057813</td>\n",
       "      <td>3.160458</td>\n",
       "      <td>3.162235</td>\n",
       "      <td>0.500006</td>\n",
       "      <td>0.014433</td>\n",
       "      <td>4.301485</td>\n",
       "      <td>17.608506</td>\n",
       "      <td>17.607045</td>\n",
       "      <td>17.610340</td>\n",
       "      <td>8.631535</td>\n",
       "      <td>0.028867</td>\n",
       "      <td>9.807527</td>\n",
       "    </tr>\n",
       "    <tr>\n",
       "      <th>min</th>\n",
       "      <td>0.010020</td>\n",
       "      <td>0.010020</td>\n",
       "      <td>-10.000000</td>\n",
       "      <td>-10.000000</td>\n",
       "      <td>0.000000</td>\n",
       "      <td>-5.000000</td>\n",
       "      <td>0.000000</td>\n",
       "      <td>0.000024</td>\n",
       "      <td>0.107275</td>\n",
       "      <td>-30.000000</td>\n",
       "      <td>-30.000000</td>\n",
       "      <td>-30.000000</td>\n",
       "      <td>0.114600</td>\n",
       "      <td>0.000049</td>\n",
       "      <td>11.000000</td>\n",
       "    </tr>\n",
       "    <tr>\n",
       "      <th>25%</th>\n",
       "      <td>0.020010</td>\n",
       "      <td>0.020010</td>\n",
       "      <td>-5.000000</td>\n",
       "      <td>-5.000000</td>\n",
       "      <td>2.000000</td>\n",
       "      <td>-3.000000</td>\n",
       "      <td>0.000000</td>\n",
       "      <td>0.012512</td>\n",
       "      <td>3.828638</td>\n",
       "      <td>-15.000000</td>\n",
       "      <td>-15.000000</td>\n",
       "      <td>-15.000000</td>\n",
       "      <td>7.582300</td>\n",
       "      <td>0.025024</td>\n",
       "      <td>19.000000</td>\n",
       "    </tr>\n",
       "    <tr>\n",
       "      <th>50%</th>\n",
       "      <td>0.030000</td>\n",
       "      <td>0.030000</td>\n",
       "      <td>0.000000</td>\n",
       "      <td>0.000000</td>\n",
       "      <td>5.000000</td>\n",
       "      <td>0.000000</td>\n",
       "      <td>0.500000</td>\n",
       "      <td>0.025000</td>\n",
       "      <td>7.550000</td>\n",
       "      <td>0.000000</td>\n",
       "      <td>0.000000</td>\n",
       "      <td>0.000000</td>\n",
       "      <td>15.050000</td>\n",
       "      <td>0.050000</td>\n",
       "      <td>27.500000</td>\n",
       "    </tr>\n",
       "    <tr>\n",
       "      <th>75%</th>\n",
       "      <td>0.039990</td>\n",
       "      <td>0.039990</td>\n",
       "      <td>5.000000</td>\n",
       "      <td>5.000000</td>\n",
       "      <td>8.000000</td>\n",
       "      <td>3.000000</td>\n",
       "      <td>1.000000</td>\n",
       "      <td>0.037488</td>\n",
       "      <td>11.271362</td>\n",
       "      <td>15.000000</td>\n",
       "      <td>15.000000</td>\n",
       "      <td>15.000000</td>\n",
       "      <td>22.517700</td>\n",
       "      <td>0.074976</td>\n",
       "      <td>36.000000</td>\n",
       "    </tr>\n",
       "    <tr>\n",
       "      <th>max</th>\n",
       "      <td>0.049980</td>\n",
       "      <td>0.049980</td>\n",
       "      <td>10.000000</td>\n",
       "      <td>10.000000</td>\n",
       "      <td>10.000000</td>\n",
       "      <td>5.000000</td>\n",
       "      <td>1.000000</td>\n",
       "      <td>0.049976</td>\n",
       "      <td>14.992725</td>\n",
       "      <td>30.000000</td>\n",
       "      <td>30.000000</td>\n",
       "      <td>30.000000</td>\n",
       "      <td>29.985400</td>\n",
       "      <td>0.099951</td>\n",
       "      <td>44.000000</td>\n",
       "    </tr>\n",
       "  </tbody>\n",
       "</table>\n",
       "</div>"
      ],
      "text/plain": [
       "          annualCpi  annualInflation  capacityFactorChangeBrownCoal  \\\n",
       "count  45056.000000     45056.000000                   45056.000000   \n",
       "mean       0.029988         0.030016                      -0.006836   \n",
       "std        0.011547         0.011546                       6.057326   \n",
       "min        0.010020         0.010020                     -10.000000   \n",
       "25%        0.020010         0.020010                      -5.000000   \n",
       "50%        0.030000         0.030000                       0.000000   \n",
       "75%        0.039990         0.039990                       5.000000   \n",
       "max        0.049980         0.049980                      10.000000   \n",
       "\n",
       "       capacityFactorChangeWater  generationRolloutPeriod  \\\n",
       "count               45056.000000             45056.000000   \n",
       "mean                    0.000000                 4.997070   \n",
       "std                     6.057813                 3.160458   \n",
       "min                   -10.000000                 0.000000   \n",
       "25%                    -5.000000                 2.000000   \n",
       "50%                     0.000000                 5.000000   \n",
       "75%                     5.000000                 8.000000   \n",
       "max                    10.000000                10.000000   \n",
       "\n",
       "       generatorRetirement  includePublicallyAnnouncedGen  learningCurve  \\\n",
       "count         45056.000000                   45056.000000   45056.000000   \n",
       "mean             -0.002441                       0.500000       0.025005   \n",
       "std               3.162235                       0.500006       0.014433   \n",
       "min              -5.000000                       0.000000       0.000024   \n",
       "25%              -3.000000                       0.000000       0.012512   \n",
       "50%               0.000000                       0.500000       0.025000   \n",
       "75%               3.000000                       1.000000       0.037488   \n",
       "max               5.000000                       1.000000       0.049976   \n",
       "\n",
       "       nonScheduleMinCapMarketGen  priceChangePercentageBrownCoal  \\\n",
       "count                45056.000000                    45056.000000   \n",
       "mean                     7.551307                       -0.011719   \n",
       "std                      4.301485                       17.608506   \n",
       "min                      0.107275                      -30.000000   \n",
       "25%                      3.828638                      -15.000000   \n",
       "50%                      7.550000                        0.000000   \n",
       "75%                     11.271362                       15.000000   \n",
       "max                     14.992725                       30.000000   \n",
       "\n",
       "       priceChangePercentageWater  priceChangePercentageWind  \\\n",
       "count                45056.000000               45056.000000   \n",
       "mean                    -0.041992                   0.001953   \n",
       "std                     17.607045                  17.610340   \n",
       "min                    -30.000000                 -30.000000   \n",
       "25%                    -15.000000                 -15.000000   \n",
       "50%                      0.000000                   0.000000   \n",
       "75%                     15.000000                  15.000000   \n",
       "max                     30.000000                  30.000000   \n",
       "\n",
       "       semiScheduleMinCapMarketGen  technologicalImprovement  \\\n",
       "count                 45056.000000              45056.000000   \n",
       "mean                     15.044297                  0.049998   \n",
       "std                       8.631535                  0.028867   \n",
       "min                       0.114600                  0.000049   \n",
       "25%                       7.582300                  0.025024   \n",
       "50%                      15.050000                  0.050000   \n",
       "75%                      22.517700                  0.074976   \n",
       "max                      29.985400                  0.099951   \n",
       "\n",
       "       wholesaleTariffContribution  \n",
       "count                 45056.000000  \n",
       "mean                     27.490234  \n",
       "std                       9.807527  \n",
       "min                      11.000000  \n",
       "25%                      19.000000  \n",
       "50%                      27.500000  \n",
       "75%                      36.000000  \n",
       "max                      44.000000  "
      ]
     },
     "execution_count": 6,
     "metadata": {},
     "output_type": "execute_result"
    }
   ],
   "source": [
    "experiments.describe()"
   ]
  },
  {
   "cell_type": "code",
   "execution_count": 7,
   "metadata": {
    "ExecuteTime": {
     "end_time": "2020-06-29T12:41:23.701972Z",
     "start_time": "2020-06-29T12:41:23.697014Z"
    }
   },
   "outputs": [
    {
     "data": {
      "text/plain": [
       "dict_keys(['TIMEYear', 'consumptionYear', 'tariffsYear', 'wholesalePriceYear', 'GHGYear', 'numConsumersYear', 'primarySpotProductionYear', 'secondarySpotProductionYear', 'offSpotProductionYear', 'renewableContributionYear', 'rooftopPVProductionYear', 'coalProductionYear', 'waterProductionYear', 'windProductionYear', 'gasProductionYear', 'solarProductionYear', 'BatteryProductionYear', 'numActorsYear', 'seedExperimentCsv'])"
      ]
     },
     "execution_count": 7,
     "metadata": {},
     "output_type": "execute_result"
    }
   ],
   "source": [
    "outcomes.keys()"
   ]
  },
  {
   "cell_type": "code",
   "execution_count": 8,
   "metadata": {
    "ExecuteTime": {
     "end_time": "2020-06-29T12:41:23.943346Z",
     "start_time": "2020-06-29T12:41:23.936346Z"
    },
    "pycharm": {
     "is_executing": false,
     "name": "#%%\n"
    }
   },
   "outputs": [],
   "source": [
    "outcomes_to_show = ['consumptionYear', 'tariffsYear', 'wholesalePriceYear', 'GHGYear', 'numConsumersYear', \n",
    "                    'primarySpotProductionYear', 'secondarySpotProductionYear', 'offSpotProductionYear', \n",
    "                    'renewableContributionYear', 'rooftopPVProductionYear', 'coalProductionYear', \n",
    "                    'waterProductionYear', 'windProductionYear', 'gasProductionYear', 'solarProductionYear', \n",
    "                    'BatteryProductionYear', 'numActorsYear']\n",
    "\n",
    "# 21 levers selected after EET\n",
    "levers = ['annualCpi', 'annualInflation', 'capacityFactorChangeBrownCoal',\n",
    "       'capacityFactorChangeWater', 'consumption', 'energyEfficiency',\n",
    "       'generationRolloutPeriod', 'generatorRetirement',\n",
    "       'includePublicallyAnnouncedGen', 'learningCurve',\n",
    "       'nonScheduleGenSpotMarket', 'nonScheduleMinCapMarketGen',\n",
    "       'priceChangePercentageBrownCoal', 'priceChangePercentageWater',\n",
    "       'priceChangePercentageWind', 'rooftopPV', 'semiScheduleGenSpotMarket',\n",
    "       'semiScheduleMinCapMarketGen', 'solarUptake',\n",
    "       'technologicalImprovement', 'wholesaleTariffContribution']\n",
    "\n",
    "#from startYear\n",
    "\n",
    "\n",
    "simulationYears = outcomes['TIMEYear'][0, :]\n",
    "simulationYears_dateTime = pd.to_datetime(simulationYears, format = '%Y')\n",
    "\n",
    "startYear = simulationYears[0]\n",
    "\n"
   ]
  },
  {
   "cell_type": "markdown",
   "metadata": {},
   "source": [
    "## Envelopes"
   ]
  },
  {
   "cell_type": "code",
   "execution_count": null,
   "metadata": {
    "ExecuteTime": {
     "start_time": "2020-06-29T12:42:06.231Z"
    },
    "pycharm": {
     "is_executing": false,
     "name": "#%%\n"
    },
    "scrolled": false
   },
   "outputs": [
    {
     "name": "stderr",
     "output_type": "stream",
     "text": [
      "singular matrix\n",
      "singular matrix\n",
      "C:\\Users\\angel\\Documents\\GitHub\\gr4sp\\experiments\\EMAworkbench\\ema_workbench\\analysis\\plotting.py:750: RuntimeWarning: More than 20 figures have been opened. Figures created through the pyplot interface (`matplotlib.pyplot.figure`) are retained until explicitly closed and may consume too much memory. (To control this warning, see the rcParam `figure.max_open_warning`).\n",
      "  fig = plt.figure()\n",
      "singular matrix\n",
      "singular matrix\n",
      "singular matrix\n",
      "singular matrix\n",
      "singular matrix\n",
      "singular matrix\n",
      "singular matrix\n"
     ]
    }
   ],
   "source": [
    "%matplotlib inline\n",
    "\n",
    "from EMAworkbench.ema_workbench.analysis.plotting import multiple_densities, PlotType\n",
    "from EMAworkbench.ema_workbench.analysis.plotting_util import Density \n",
    "\n",
    "#Create envelope plot\n",
    "\n",
    "#l = 'semiScheduleGenSpotMarket'\n",
    "# group_by='rooftopPV', density = Density.KDE, grouping_specifiers={'residential', 'business', 'both'}\n",
    "# group_by='onsiteGeneration', density = Density.KDE, grouping_specifiers={'Central', 'Slow change', 'Fast change', 'Step change', 'High DER'}\n",
    "#, group_by=l\n",
    "\n",
    "for ooi in outcomes_to_show:\n",
    "    fig, ax_env = multiple_densities(experiments, outcomesYear, outcomes_to_show = ooi, \n",
    "                                     points_in_time=[2000-startYear,2010-startYear,2020-startYear,2030-startYear,2034-startYear], \n",
    "                                     density = Density.KDE, grouping_specifiers=None , titles={ooi}, ylabels={ooi: ooi}, \n",
    "                                     legend=True, fill=True, plot_type=PlotType.ENVELOPE)\n",
    "    \n",
    "    \n",
    "    fig[0].suptitle(\"{}\".format(ooi), fontsize=15)\n",
    "    fig[0].set_size_inches(18.5, 10.5)\n",
    "    ax_env[ooi]['main plot'].set_xticklabels(simulationYears[range(0,len(simulationYears),5)])\n",
    "\n",
    "    plt.savefig('{}/fig{}.png'.format(r'C:\\\\Users\\\\angel\\\\Documents\\\\GitHub\\\\gr4sp\\\\experiments\\\\notebookGr4sp\\\\outputs\\\\figs', '_envelope_density_%s'%(ooi)), \n",
    "                dpi=300, bbox_inches='tight')\n",
    "    \n",
    "    fig, ax_env = multiple_densities(experiments, outcomesYear, outcomes_to_show = ooi, \n",
    "                                     points_in_time=[2000-startYear,2010-startYear,2020-startYear,2030-startYear,2034-startYear], \n",
    "                                     density = Density.HIST, grouping_specifiers=None , titles={ooi}, ylabels={ooi: ooi}, \n",
    "                                     legend=True, fill=False, plot_type=PlotType.ENV_LIN)\n",
    "    \n",
    "    \n",
    "    fig[0].suptitle(\"{}\".format(ooi), fontsize=15)\n",
    "    fig[0].set_size_inches(18.5, 10.5)\n",
    "    ax_env[ooi]['main plot'].set_xticklabels(simulationYears[range(0,len(simulationYears),5)])\n",
    "\n",
    "    plt.savefig('{}/fig{}.png'.format(r'C:\\\\Users\\\\angel\\\\Documents\\\\GitHub\\\\gr4sp\\\\experiments\\\\notebookGr4sp\\\\outputs\\\\figs', '_envelope_line_density_%s'%(ooi)), \n",
    "                dpi=300, bbox_inches='tight')\n",
    "    \n",
    "    \n"
   ]
  },
  {
   "cell_type": "code",
   "execution_count": null,
   "metadata": {
    "pycharm": {
     "name": "#%%\n"
    }
   },
   "outputs": [],
   "source": [
    "\n"
   ]
  }
 ],
 "metadata": {
  "kernelspec": {
   "display_name": "Python 3",
   "language": "python",
   "name": "python3"
  },
  "language_info": {
   "codemirror_mode": {
    "name": "ipython",
    "version": 3
   },
   "file_extension": ".py",
   "mimetype": "text/x-python",
   "name": "python",
   "nbconvert_exporter": "python",
   "pygments_lexer": "ipython3",
   "version": "3.7.3"
  },
  "pycharm": {
   "stem_cell": {
    "cell_type": "raw",
    "metadata": {
     "collapsed": false
    },
    "source": []
   }
  },
  "toc": {
   "base_numbering": 1,
   "nav_menu": {},
   "number_sections": true,
   "sideBar": true,
   "skip_h1_title": false,
   "title_cell": "Table of Contents",
   "title_sidebar": "Contents",
   "toc_cell": false,
   "toc_position": {},
   "toc_section_display": true,
   "toc_window_display": true
  },
  "varInspector": {
   "cols": {
    "lenName": 16,
    "lenType": 16,
    "lenVar": 40
   },
   "kernels_config": {
    "python": {
     "delete_cmd_postfix": "",
     "delete_cmd_prefix": "del ",
     "library": "var_list.py",
     "varRefreshCmd": "print(var_dic_list())"
    },
    "r": {
     "delete_cmd_postfix": ") ",
     "delete_cmd_prefix": "rm(",
     "library": "var_list.r",
     "varRefreshCmd": "cat(var_dic_list()) "
    }
   },
   "types_to_exclude": [
    "module",
    "function",
    "builtin_function_or_method",
    "instance",
    "_Feature"
   ],
   "window_display": true
  }
 },
 "nbformat": 4,
 "nbformat_minor": 2
}
