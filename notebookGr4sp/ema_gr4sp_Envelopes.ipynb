{
 "cells": [
  {
   "cell_type": "markdown",
   "metadata": {},
   "source": [
    "## Initial setup\n",
    "This analysis using ema is based on the work of Enayat A. Moallemi created on 22 May 2018 at the Fraunhofer ISI, Karlsruhe. In that instance, the analysis was done for the MATISSE model."
   ]
  },
  {
   "cell_type": "code",
   "execution_count": 1,
   "metadata": {
    "ExecuteTime": {
     "end_time": "2021-01-13T12:10:58.593518Z",
     "start_time": "2021-01-13T12:10:55.016258Z"
    },
    "pycharm": {
     "name": "#%%\n"
    }
   },
   "outputs": [
    {
     "name": "stderr",
     "output_type": "stream",
     "text": [
      "C:\\Users\\angel\\Anaconda3\\lib\\importlib\\_bootstrap.py:219: ImportWarning:\n",
      "\n",
      "can't resolve package from __spec__ or __package__, falling back on __name__ and __path__\n",
      "\n"
     ]
    }
   ],
   "source": [
    "\n",
    "'''\n",
    "Based on Enayat A. Moallemi version from May 2018\n",
    "\n",
    "edited by Angela M. Rojas A. <angelara@student.unimelb.edu.au>\n",
    "\n",
    "Created on 18 December 2019\n",
    "\n",
    "'''\n",
    "import sys\n",
    "import os\n",
    "\n",
    "sys.path.append(r'C:\\Users\\angel\\Documents\\GitHub\\gr4sp\\experiments\\EMAworkbench')\n",
    "\n",
    "sys.path.append(r'C:\\Users\\angel\\Documents\\GitHub\\gr4sp\\experiments')\n",
    "\n",
    "#from ema_workbench.analysis.plotting_util import BOXPLOT, KDE, VIOLIN\n",
    "from EMAworkbench.ema_workbench.analysis.plotting import envelopes\n",
    "import matplotlib.pyplot as plt\n",
    "import numpy as np\n",
    "import pandas as pd\n",
    "import matplotlib.cm as cm\n",
    "import seaborn as sns\n",
    "from EMAworkbench.ema_workbench.analysis import prim\n",
    "#import pareto\n",
    "import os\n",
    "import glob\n",
    "import numpy as np\n",
    "import pandas as pd\n",
    "import os\n",
    "import glob\n",
    "\n"
   ]
  },
  {
   "cell_type": "markdown",
   "metadata": {},
   "source": [
    "## Load the results"
   ]
  },
  {
   "cell_type": "code",
   "execution_count": 9,
   "metadata": {
    "ExecuteTime": {
     "end_time": "2021-01-13T12:33:52.343324Z",
     "start_time": "2021-01-13T12:33:01.927151Z"
    },
    "pycharm": {
     "name": "#%%\n"
    }
   },
   "outputs": [],
   "source": [
    "from EMAworkbench.ema_workbench import load_results\n",
    "\n",
    "#results = load_results(r'C:\\Users\\angel\\Documents\\GitHub\\gr4sp\\experiments\\simulationData\\gr4sp_2020-Jul-11-SOBOL.tar.gz')\n",
    "results = load_results(r'C:/Users/angel/Documents/GitHub/gr4sp/experiments/simulationData/gr4sp_SOBOL2020-Dec-23.tar.gz')\n"
   ]
  },
  {
   "cell_type": "code",
   "execution_count": 3,
   "metadata": {
    "ExecuteTime": {
     "end_time": "2021-01-13T12:11:01.699156Z",
     "start_time": "2021-01-13T12:11:01.695166Z"
    },
    "pycharm": {
     "name": "#%%\n"
    }
   },
   "outputs": [],
   "source": [
    "experiments, outcomes = results\n",
    "\n",
    "# Create a temporary copy of dictionary, with Outcomes Year\n",
    "outcomesYear = dict(outcomes)\n",
    "\n",
    "keysToRemove = [] \n",
    "# Iterate over the temporary dictionary and delete corresponding key from original dictionary\n",
    "for (key, value) in outcomesYear.items() :\n",
    "    if 'Month' in key:\n",
    "        keysToRemove.append(key)\n",
    "        \n",
    "for k in keysToRemove:        \n",
    "    del outcomesYear[k]   \n",
    "    \n",
    "        "
   ]
  },
  {
   "cell_type": "code",
   "execution_count": 4,
   "metadata": {
    "ExecuteTime": {
     "end_time": "2021-01-13T12:11:01.914617Z",
     "start_time": "2021-01-13T12:11:01.901618Z"
    },
    "pycharm": {
     "name": "#%%\n"
    },
    "scrolled": true
   },
   "outputs": [
    {
     "name": "stdout",
     "output_type": "stream",
     "text": [
      "<class 'pandas.core.frame.DataFrame'>\n",
      "RangeIndex: 7000 entries, 0 to 6999\n",
      "Data columns (total 37 columns):\n",
      "annualCpi                           7000 non-null float64\n",
      "annualInflation                     7000 non-null float64\n",
      "consumption                         7000 non-null category\n",
      "domesticConsumptionPercentage       7000 non-null float64\n",
      "energyEfficiency                    7000 non-null category\n",
      "generationRolloutPeriod             7000 non-null float64\n",
      "generatorRetirement                 7000 non-null float64\n",
      "importPriceFactor                   7000 non-null float64\n",
      "includePublicallyAnnouncedGen       7000 non-null float64\n",
      "learningCurve                       7000 non-null float64\n",
      "nameplateCapacityChangeBattery      7000 non-null float64\n",
      "nameplateCapacityChangeBrownCoal    7000 non-null float64\n",
      "nameplateCapacityChangeCcgt         7000 non-null float64\n",
      "nameplateCapacityChangeOcgt         7000 non-null float64\n",
      "nameplateCapacityChangeSolar        7000 non-null float64\n",
      "nameplateCapacityChangeWater        7000 non-null float64\n",
      "nameplateCapacityChangeWind         7000 non-null float64\n",
      "nonScheduleGenSpotMarket            7000 non-null category\n",
      "nonScheduleMinCapMarketGen          7000 non-null float64\n",
      "onsiteGeneration                    7000 non-null category\n",
      "priceChangePercentageBattery        7000 non-null float64\n",
      "priceChangePercentageBrownCoal      7000 non-null float64\n",
      "priceChangePercentageCcgt           7000 non-null float64\n",
      "priceChangePercentageOcgt           7000 non-null float64\n",
      "priceChangePercentageSolar          7000 non-null float64\n",
      "priceChangePercentageWater          7000 non-null float64\n",
      "priceChangePercentageWind           7000 non-null float64\n",
      "rooftopPV                           7000 non-null category\n",
      "scheduleMinCapMarketGen             7000 non-null float64\n",
      "semiScheduleGenSpotMarket           7000 non-null category\n",
      "semiScheduleMinCapMarketGen         7000 non-null float64\n",
      "solarUptake                         7000 non-null category\n",
      "technologicalImprovement            7000 non-null float64\n",
      "wholesaleTariffContribution         7000 non-null float64\n",
      "scenario                            7000 non-null category\n",
      "policy                              7000 non-null category\n",
      "model                               7000 non-null category\n",
      "dtypes: category(10), float64(27)\n",
      "memory usage: 1.9 MB\n"
     ]
    }
   ],
   "source": [
    "experiments.info()"
   ]
  },
  {
   "cell_type": "code",
   "execution_count": 5,
   "metadata": {
    "ExecuteTime": {
     "end_time": "2021-01-13T12:11:07.046412Z",
     "start_time": "2021-01-13T12:11:06.962090Z"
    }
   },
   "outputs": [
    {
     "data": {
      "text/html": [
       "<div>\n",
       "<style scoped>\n",
       "    .dataframe tbody tr th:only-of-type {\n",
       "        vertical-align: middle;\n",
       "    }\n",
       "\n",
       "    .dataframe tbody tr th {\n",
       "        vertical-align: top;\n",
       "    }\n",
       "\n",
       "    .dataframe thead th {\n",
       "        text-align: right;\n",
       "    }\n",
       "</style>\n",
       "<table border=\"1\" class=\"dataframe\">\n",
       "  <thead>\n",
       "    <tr style=\"text-align: right;\">\n",
       "      <th></th>\n",
       "      <th>annualCpi</th>\n",
       "      <th>annualInflation</th>\n",
       "      <th>domesticConsumptionPercentage</th>\n",
       "      <th>generationRolloutPeriod</th>\n",
       "      <th>generatorRetirement</th>\n",
       "      <th>importPriceFactor</th>\n",
       "      <th>includePublicallyAnnouncedGen</th>\n",
       "      <th>learningCurve</th>\n",
       "      <th>nameplateCapacityChangeBattery</th>\n",
       "      <th>nameplateCapacityChangeBrownCoal</th>\n",
       "      <th>...</th>\n",
       "      <th>priceChangePercentageBrownCoal</th>\n",
       "      <th>priceChangePercentageCcgt</th>\n",
       "      <th>priceChangePercentageOcgt</th>\n",
       "      <th>priceChangePercentageSolar</th>\n",
       "      <th>priceChangePercentageWater</th>\n",
       "      <th>priceChangePercentageWind</th>\n",
       "      <th>scheduleMinCapMarketGen</th>\n",
       "      <th>semiScheduleMinCapMarketGen</th>\n",
       "      <th>technologicalImprovement</th>\n",
       "      <th>wholesaleTariffContribution</th>\n",
       "    </tr>\n",
       "  </thead>\n",
       "  <tbody>\n",
       "    <tr>\n",
       "      <th>count</th>\n",
       "      <td>7000.000000</td>\n",
       "      <td>7000.000000</td>\n",
       "      <td>7000.00000</td>\n",
       "      <td>7000.000000</td>\n",
       "      <td>7000.000000</td>\n",
       "      <td>7000.000000</td>\n",
       "      <td>7000.000000</td>\n",
       "      <td>7000.000000</td>\n",
       "      <td>7000.000000</td>\n",
       "      <td>7000.000000</td>\n",
       "      <td>...</td>\n",
       "      <td>7000.000000</td>\n",
       "      <td>7000.000000</td>\n",
       "      <td>7000.000000</td>\n",
       "      <td>7000.000000</td>\n",
       "      <td>7000.000000</td>\n",
       "      <td>7000.000000</td>\n",
       "      <td>7000.000000</td>\n",
       "      <td>7000.000000</td>\n",
       "      <td>7000.000000</td>\n",
       "      <td>7000.000000</td>\n",
       "    </tr>\n",
       "    <tr>\n",
       "      <th>mean</th>\n",
       "      <td>2.664714</td>\n",
       "      <td>2.709286</td>\n",
       "      <td>38.06400</td>\n",
       "      <td>4.950286</td>\n",
       "      <td>-0.032286</td>\n",
       "      <td>-0.351429</td>\n",
       "      <td>0.257000</td>\n",
       "      <td>7.248857</td>\n",
       "      <td>1.340000</td>\n",
       "      <td>-1.848571</td>\n",
       "      <td>...</td>\n",
       "      <td>0.617143</td>\n",
       "      <td>-0.060000</td>\n",
       "      <td>-0.634286</td>\n",
       "      <td>-0.985714</td>\n",
       "      <td>-0.574286</td>\n",
       "      <td>-0.622857</td>\n",
       "      <td>20.257143</td>\n",
       "      <td>14.847534</td>\n",
       "      <td>8.156143</td>\n",
       "      <td>26.250000</td>\n",
       "    </tr>\n",
       "    <tr>\n",
       "      <th>std</th>\n",
       "      <td>1.445692</td>\n",
       "      <td>1.463340</td>\n",
       "      <td>12.66755</td>\n",
       "      <td>3.748614</td>\n",
       "      <td>3.643977</td>\n",
       "      <td>37.688490</td>\n",
       "      <td>0.437011</td>\n",
       "      <td>5.343287</td>\n",
       "      <td>35.933116</td>\n",
       "      <td>35.541008</td>\n",
       "      <td>...</td>\n",
       "      <td>35.866858</td>\n",
       "      <td>36.219345</td>\n",
       "      <td>35.419200</td>\n",
       "      <td>35.270470</td>\n",
       "      <td>36.450789</td>\n",
       "      <td>35.593240</td>\n",
       "      <td>7.227936</td>\n",
       "      <td>11.116881</td>\n",
       "      <td>5.479003</td>\n",
       "      <td>12.724411</td>\n",
       "    </tr>\n",
       "    <tr>\n",
       "      <th>min</th>\n",
       "      <td>1.000000</td>\n",
       "      <td>1.000000</td>\n",
       "      <td>20.00000</td>\n",
       "      <td>0.000000</td>\n",
       "      <td>-5.000000</td>\n",
       "      <td>-50.000000</td>\n",
       "      <td>0.000000</td>\n",
       "      <td>0.000000</td>\n",
       "      <td>-50.000000</td>\n",
       "      <td>-50.000000</td>\n",
       "      <td>...</td>\n",
       "      <td>-50.000000</td>\n",
       "      <td>-50.000000</td>\n",
       "      <td>-50.000000</td>\n",
       "      <td>-50.000000</td>\n",
       "      <td>-50.000000</td>\n",
       "      <td>-50.000000</td>\n",
       "      <td>10.000000</td>\n",
       "      <td>0.100000</td>\n",
       "      <td>0.000000</td>\n",
       "      <td>10.000000</td>\n",
       "    </tr>\n",
       "    <tr>\n",
       "      <th>25%</th>\n",
       "      <td>1.000000</td>\n",
       "      <td>2.000000</td>\n",
       "      <td>34.00000</td>\n",
       "      <td>0.000000</td>\n",
       "      <td>-5.000000</td>\n",
       "      <td>-50.000000</td>\n",
       "      <td>0.000000</td>\n",
       "      <td>0.000000</td>\n",
       "      <td>-10.000000</td>\n",
       "      <td>-50.000000</td>\n",
       "      <td>...</td>\n",
       "      <td>-10.000000</td>\n",
       "      <td>-50.000000</td>\n",
       "      <td>-50.000000</td>\n",
       "      <td>-50.000000</td>\n",
       "      <td>-50.000000</td>\n",
       "      <td>-50.000000</td>\n",
       "      <td>18.000000</td>\n",
       "      <td>0.100000</td>\n",
       "      <td>6.000000</td>\n",
       "      <td>10.000000</td>\n",
       "    </tr>\n",
       "    <tr>\n",
       "      <th>50%</th>\n",
       "      <td>3.000000</td>\n",
       "      <td>2.000000</td>\n",
       "      <td>41.00000</td>\n",
       "      <td>6.000000</td>\n",
       "      <td>1.000000</td>\n",
       "      <td>-10.000000</td>\n",
       "      <td>0.000000</td>\n",
       "      <td>6.000000</td>\n",
       "      <td>10.000000</td>\n",
       "      <td>-10.000000</td>\n",
       "      <td>...</td>\n",
       "      <td>10.000000</td>\n",
       "      <td>-10.000000</td>\n",
       "      <td>10.000000</td>\n",
       "      <td>10.000000</td>\n",
       "      <td>10.000000</td>\n",
       "      <td>10.000000</td>\n",
       "      <td>22.000000</td>\n",
       "      <td>12.060000</td>\n",
       "      <td>9.000000</td>\n",
       "      <td>24.000000</td>\n",
       "    </tr>\n",
       "    <tr>\n",
       "      <th>75%</th>\n",
       "      <td>3.000000</td>\n",
       "      <td>3.000000</td>\n",
       "      <td>55.00000</td>\n",
       "      <td>10.000000</td>\n",
       "      <td>5.000000</td>\n",
       "      <td>50.000000</td>\n",
       "      <td>1.000000</td>\n",
       "      <td>9.000000</td>\n",
       "      <td>50.000000</td>\n",
       "      <td>10.000000</td>\n",
       "      <td>...</td>\n",
       "      <td>10.000000</td>\n",
       "      <td>50.000000</td>\n",
       "      <td>10.000000</td>\n",
       "      <td>10.000000</td>\n",
       "      <td>10.000000</td>\n",
       "      <td>10.000000</td>\n",
       "      <td>30.000000</td>\n",
       "      <td>30.000000</td>\n",
       "      <td>15.000000</td>\n",
       "      <td>31.000000</td>\n",
       "    </tr>\n",
       "    <tr>\n",
       "      <th>max</th>\n",
       "      <td>5.000000</td>\n",
       "      <td>5.000000</td>\n",
       "      <td>55.00000</td>\n",
       "      <td>10.000000</td>\n",
       "      <td>5.000000</td>\n",
       "      <td>50.000000</td>\n",
       "      <td>1.000000</td>\n",
       "      <td>15.000000</td>\n",
       "      <td>50.000000</td>\n",
       "      <td>50.000000</td>\n",
       "      <td>...</td>\n",
       "      <td>50.000000</td>\n",
       "      <td>50.000000</td>\n",
       "      <td>50.000000</td>\n",
       "      <td>50.000000</td>\n",
       "      <td>50.000000</td>\n",
       "      <td>50.000000</td>\n",
       "      <td>30.000000</td>\n",
       "      <td>30.000000</td>\n",
       "      <td>15.000000</td>\n",
       "      <td>45.000000</td>\n",
       "    </tr>\n",
       "  </tbody>\n",
       "</table>\n",
       "<p>8 rows × 27 columns</p>\n",
       "</div>"
      ],
      "text/plain": [
       "         annualCpi  annualInflation  domesticConsumptionPercentage  \\\n",
       "count  7000.000000      7000.000000                     7000.00000   \n",
       "mean      2.664714         2.709286                       38.06400   \n",
       "std       1.445692         1.463340                       12.66755   \n",
       "min       1.000000         1.000000                       20.00000   \n",
       "25%       1.000000         2.000000                       34.00000   \n",
       "50%       3.000000         2.000000                       41.00000   \n",
       "75%       3.000000         3.000000                       55.00000   \n",
       "max       5.000000         5.000000                       55.00000   \n",
       "\n",
       "       generationRolloutPeriod  generatorRetirement  importPriceFactor  \\\n",
       "count              7000.000000          7000.000000        7000.000000   \n",
       "mean                  4.950286            -0.032286          -0.351429   \n",
       "std                   3.748614             3.643977          37.688490   \n",
       "min                   0.000000            -5.000000         -50.000000   \n",
       "25%                   0.000000            -5.000000         -50.000000   \n",
       "50%                   6.000000             1.000000         -10.000000   \n",
       "75%                  10.000000             5.000000          50.000000   \n",
       "max                  10.000000             5.000000          50.000000   \n",
       "\n",
       "       includePublicallyAnnouncedGen  learningCurve  \\\n",
       "count                    7000.000000    7000.000000   \n",
       "mean                        0.257000       7.248857   \n",
       "std                         0.437011       5.343287   \n",
       "min                         0.000000       0.000000   \n",
       "25%                         0.000000       0.000000   \n",
       "50%                         0.000000       6.000000   \n",
       "75%                         1.000000       9.000000   \n",
       "max                         1.000000      15.000000   \n",
       "\n",
       "       nameplateCapacityChangeBattery  nameplateCapacityChangeBrownCoal  ...  \\\n",
       "count                     7000.000000                       7000.000000  ...   \n",
       "mean                         1.340000                         -1.848571  ...   \n",
       "std                         35.933116                         35.541008  ...   \n",
       "min                        -50.000000                        -50.000000  ...   \n",
       "25%                        -10.000000                        -50.000000  ...   \n",
       "50%                         10.000000                        -10.000000  ...   \n",
       "75%                         50.000000                         10.000000  ...   \n",
       "max                         50.000000                         50.000000  ...   \n",
       "\n",
       "       priceChangePercentageBrownCoal  priceChangePercentageCcgt  \\\n",
       "count                     7000.000000                7000.000000   \n",
       "mean                         0.617143                  -0.060000   \n",
       "std                         35.866858                  36.219345   \n",
       "min                        -50.000000                 -50.000000   \n",
       "25%                        -10.000000                 -50.000000   \n",
       "50%                         10.000000                 -10.000000   \n",
       "75%                         10.000000                  50.000000   \n",
       "max                         50.000000                  50.000000   \n",
       "\n",
       "       priceChangePercentageOcgt  priceChangePercentageSolar  \\\n",
       "count                7000.000000                 7000.000000   \n",
       "mean                   -0.634286                   -0.985714   \n",
       "std                    35.419200                   35.270470   \n",
       "min                   -50.000000                  -50.000000   \n",
       "25%                   -50.000000                  -50.000000   \n",
       "50%                    10.000000                   10.000000   \n",
       "75%                    10.000000                   10.000000   \n",
       "max                    50.000000                   50.000000   \n",
       "\n",
       "       priceChangePercentageWater  priceChangePercentageWind  \\\n",
       "count                 7000.000000                7000.000000   \n",
       "mean                    -0.574286                  -0.622857   \n",
       "std                     36.450789                  35.593240   \n",
       "min                    -50.000000                 -50.000000   \n",
       "25%                    -50.000000                 -50.000000   \n",
       "50%                     10.000000                  10.000000   \n",
       "75%                     10.000000                  10.000000   \n",
       "max                     50.000000                  50.000000   \n",
       "\n",
       "       scheduleMinCapMarketGen  semiScheduleMinCapMarketGen  \\\n",
       "count              7000.000000                  7000.000000   \n",
       "mean                 20.257143                    14.847534   \n",
       "std                   7.227936                    11.116881   \n",
       "min                  10.000000                     0.100000   \n",
       "25%                  18.000000                     0.100000   \n",
       "50%                  22.000000                    12.060000   \n",
       "75%                  30.000000                    30.000000   \n",
       "max                  30.000000                    30.000000   \n",
       "\n",
       "       technologicalImprovement  wholesaleTariffContribution  \n",
       "count               7000.000000                  7000.000000  \n",
       "mean                   8.156143                    26.250000  \n",
       "std                    5.479003                    12.724411  \n",
       "min                    0.000000                    10.000000  \n",
       "25%                    6.000000                    10.000000  \n",
       "50%                    9.000000                    24.000000  \n",
       "75%                   15.000000                    31.000000  \n",
       "max                   15.000000                    45.000000  \n",
       "\n",
       "[8 rows x 27 columns]"
      ]
     },
     "execution_count": 5,
     "metadata": {},
     "output_type": "execute_result"
    }
   ],
   "source": [
    "experiments.describe()"
   ]
  },
  {
   "cell_type": "code",
   "execution_count": 6,
   "metadata": {
    "ExecuteTime": {
     "end_time": "2021-01-13T12:11:07.891527Z",
     "start_time": "2021-01-13T12:11:07.885543Z"
    }
   },
   "outputs": [
    {
     "data": {
      "text/plain": [
       "dict_keys(['TIMEYear', 'consumptionYear', 'tariffsYear', 'wholesalePriceYear', 'GHGYear', 'numConsumersYear', 'primarySpotProductionYear', 'secondarySpotProductionYear', 'offSpotProductionYear', 'renewableContributionYear', 'rooftopPVProductionYear', 'coalProductionYear', 'waterProductionYear', 'windProductionYear', 'gasProductionYear', 'solarProductionYear', 'BatteryProductionYear', 'numActorsYear', 'primaryUnmetDemandMwh', 'primaryUnmetDemandHours', 'primaryUnmetDemandDays', 'primaryMaxUnmetDemandMwhPerHour', 'secondaryUnmetDemandMwh', 'secondaryUnmetDemandHours', 'secondaryUnmetDemandDays', 'secondaryMaxUnmetDemandMwhPerHour', 'seedExperimentCsv'])"
      ]
     },
     "execution_count": 6,
     "metadata": {},
     "output_type": "execute_result"
    }
   ],
   "source": [
    "outcomes.keys()"
   ]
  },
  {
   "cell_type": "code",
   "execution_count": 7,
   "metadata": {
    "ExecuteTime": {
     "end_time": "2021-01-13T12:11:08.552122Z",
     "start_time": "2021-01-13T12:11:08.466483Z"
    },
    "pycharm": {
     "name": "#%%\n"
    }
   },
   "outputs": [
    {
     "ename": "NameError",
     "evalue": "name 'points_of_interest' is not defined",
     "output_type": "error",
     "traceback": [
      "\u001b[1;31m---------------------------------------------------------------------------\u001b[0m",
      "\u001b[1;31mNameError\u001b[0m                                 Traceback (most recent call last)",
      "\u001b[1;32m<ipython-input-7-3c2acda7466b>\u001b[0m in \u001b[0;36m<module>\u001b[1;34m\u001b[0m\n\u001b[0;32m     16\u001b[0m \u001b[0mstartYear\u001b[0m \u001b[1;33m=\u001b[0m \u001b[0msimulationYears\u001b[0m\u001b[1;33m[\u001b[0m\u001b[1;36m0\u001b[0m\u001b[1;33m]\u001b[0m\u001b[1;33m\u001b[0m\u001b[1;33m\u001b[0m\u001b[0m\n\u001b[0;32m     17\u001b[0m \u001b[1;33m\u001b[0m\u001b[0m\n\u001b[1;32m---> 18\u001b[1;33m \u001b[0mpoints_of_interest\u001b[0m \u001b[1;33m=\u001b[0m \u001b[1;33m[\u001b[0m \u001b[0mx\u001b[0m \u001b[1;33m-\u001b[0m \u001b[0mstartYear\u001b[0m \u001b[1;32mfor\u001b[0m \u001b[0mx\u001b[0m \u001b[1;32min\u001b[0m \u001b[0mpoints_of_interest\u001b[0m\u001b[1;33m]\u001b[0m\u001b[1;33m\u001b[0m\u001b[1;33m\u001b[0m\u001b[0m\n\u001b[0m\u001b[0;32m     19\u001b[0m \u001b[1;33m\u001b[0m\u001b[0m\n\u001b[0;32m     20\u001b[0m \u001b[1;33m\u001b[0m\u001b[0m\n",
      "\u001b[1;31mNameError\u001b[0m: name 'points_of_interest' is not defined"
     ]
    }
   ],
   "source": [
    "outcomes_to_show = ['consumptionYear', 'tariffsYear', 'wholesalePriceYear', 'GHGYear', \n",
    "                    'primarySpotProductionYear', 'secondarySpotProductionYear', \n",
    "                    'offSpotProductionYear', 'renewableContributionYear', 'rooftopPVProductionYear', \n",
    "                    'coalProductionYear', 'waterProductionYear', 'windProductionYear', 'gasProductionYear', \n",
    "                    'solarProductionYear', 'BatteryProductionYear']\n",
    "\n",
    "\n",
    "uncertainties = experiments.columns[:-3]\n",
    "\n",
    "#from startYear\n",
    "\n",
    "\n",
    "simulationYears = outcomes['TIMEYear'][0, :]\n",
    "simulationYears_dateTime = pd.to_datetime(simulationYears, format = '%Y')\n",
    "\n",
    "startYear = simulationYears[0]\n",
    "\n",
    "points_of_interest = [ x - startYear for x in points_of_interest]\n",
    "\n",
    "\n",
    "\n"
   ]
  },
  {
   "cell_type": "markdown",
   "metadata": {},
   "source": [
    "## Envelopes"
   ]
  },
  {
   "cell_type": "code",
   "execution_count": 8,
   "metadata": {
    "ExecuteTime": {
     "end_time": "2021-01-13T12:11:10.227095Z",
     "start_time": "2021-01-13T12:11:10.196164Z"
    },
    "pycharm": {
     "is_executing": true,
     "name": "#%%\n"
    },
    "scrolled": true
   },
   "outputs": [
    {
     "ename": "NameError",
     "evalue": "name 'points_of_interest' is not defined",
     "output_type": "error",
     "traceback": [
      "\u001b[1;31m---------------------------------------------------------------------------\u001b[0m",
      "\u001b[1;31mNameError\u001b[0m                                 Traceback (most recent call last)",
      "\u001b[1;32m<ipython-input-8-ed8ab0c6ba89>\u001b[0m in \u001b[0;36m<module>\u001b[1;34m\u001b[0m\n\u001b[0;32m     13\u001b[0m \u001b[1;32mfor\u001b[0m \u001b[0mooi\u001b[0m \u001b[1;32min\u001b[0m \u001b[0moutcomes_to_show\u001b[0m\u001b[1;33m:\u001b[0m\u001b[1;33m\u001b[0m\u001b[1;33m\u001b[0m\u001b[0m\n\u001b[0;32m     14\u001b[0m     fig, ax_env = multiple_densities(experiments, outcomesYear, outcomes_to_show = ooi,\n\u001b[1;32m---> 15\u001b[1;33m                                      \u001b[0mpoints_in_time\u001b[0m\u001b[1;33m=\u001b[0m\u001b[0mpoints_of_interest\u001b[0m\u001b[1;33m,\u001b[0m\u001b[1;33m\u001b[0m\u001b[1;33m\u001b[0m\u001b[0m\n\u001b[0m\u001b[0;32m     16\u001b[0m                                      \u001b[0mdensity\u001b[0m \u001b[1;33m=\u001b[0m \u001b[0mDensity\u001b[0m\u001b[1;33m.\u001b[0m\u001b[0mKDE\u001b[0m\u001b[1;33m,\u001b[0m \u001b[0mgrouping_specifiers\u001b[0m\u001b[1;33m=\u001b[0m\u001b[1;32mNone\u001b[0m \u001b[1;33m,\u001b[0m \u001b[0mtitles\u001b[0m\u001b[1;33m=\u001b[0m\u001b[1;33m{\u001b[0m\u001b[0mooi\u001b[0m\u001b[1;33m}\u001b[0m\u001b[1;33m,\u001b[0m \u001b[0mylabels\u001b[0m\u001b[1;33m=\u001b[0m\u001b[1;33m{\u001b[0m\u001b[0mooi\u001b[0m\u001b[1;33m:\u001b[0m \u001b[0mooi\u001b[0m\u001b[1;33m}\u001b[0m\u001b[1;33m,\u001b[0m\u001b[1;33m\u001b[0m\u001b[1;33m\u001b[0m\u001b[0m\n\u001b[0;32m     17\u001b[0m                                      legend=True, fill=True, plot_type=PlotType.ENVELOPE)\n",
      "\u001b[1;31mNameError\u001b[0m: name 'points_of_interest' is not defined"
     ]
    }
   ],
   "source": [
    "%matplotlib inline\n",
    "\n",
    "from EMAworkbench.ema_workbench.analysis.plotting import multiple_densities, PlotType\n",
    "from EMAworkbench.ema_workbench.analysis.plotting_util import Density \n",
    "\n",
    "#Create envelope plot\n",
    "\n",
    "#l = 'semiScheduleGenSpotMarket'\n",
    "# group_by='rooftopPV', density = Density.KDE, grouping_specifiers={'residential', 'business', 'both'}\n",
    "# group_by='onsiteGeneration', density = Density.KDE, grouping_specifiers={'Central', 'Slow change', 'Fast change', 'Step change', 'High DER'}\n",
    "#, group_by=l\n",
    "\n",
    "for ooi in outcomes_to_show:\n",
    "    fig, ax_env = multiple_densities(experiments, outcomesYear, outcomes_to_show = ooi,\n",
    "                                     points_in_time=points_of_interest,\n",
    "                                     density = Density.KDE, grouping_specifiers=None , titles={ooi}, ylabels={ooi: ooi},\n",
    "                                     legend=True, fill=True, plot_type=PlotType.ENVELOPE)\n",
    "\n",
    "\n",
    "    fig[0].suptitle(\"{}\".format(ooi), fontsize=15)\n",
    "    fig[0].set_size_inches(18.5, 10.5)\n",
    "    ax_env[ooi]['main plot'].set_xticklabels(simulationYears[range(0,len(simulationYears),10)])\n",
    "\n",
    "    plt.savefig('{}/fig{}.png'.format(r'C:\\\\Users\\\\angel\\\\Documents\\\\GitHub\\\\gr4sp\\\\experiments\\\\notebookGr4sp\\\\outputs\\\\figs', '_envelope_density_%s'%(ooi)),\n",
    "                dpi=300, bbox_inches='tight')\n",
    "    fig, ax_env = multiple_densities(experiments, outcomesYear, outcomes_to_show = ooi,\n",
    "                                     points_in_time=points_of_interest,\n",
    "                                     density = Density.HIST, grouping_specifiers=None , titles={ooi}, ylabels={ooi: ooi},\n",
    "                                     legend=True, fill=False, plot_type=PlotType.ENV_LIN)\n",
    "    \n",
    "    \n",
    "    fig[0].suptitle(\"{}\".format(ooi), fontsize=15)\n",
    "    fig[0].set_size_inches(18.5, 10.5)\n",
    "    ax_env[ooi]['main plot'].set_xticklabels(simulationYears[range(0,len(simulationYears),5)])\n",
    "    \n",
    "    plt.savefig('{}/fig{}.png'.format(r'C:\\\\Users\\\\angel\\\\Documents\\\\GitHub\\\\gr4sp\\\\experiments\\\\notebookGr4sp\\\\outputs\\\\figs', '_envelope_line_density_%s'%(ooi)),\n",
    "                dpi=300, bbox_inches='tight')\n",
    "    \n"
   ]
  },
  {
   "cell_type": "code",
   "execution_count": null,
   "metadata": {
    "pycharm": {
     "name": "#%%\n"
    }
   },
   "outputs": [],
   "source": [
    "\n"
   ]
  }
 ],
 "metadata": {
  "kernelspec": {
   "display_name": "Python 3",
   "language": "python",
   "name": "python3"
  },
  "language_info": {
   "codemirror_mode": {
    "name": "ipython",
    "version": 3
   },
   "file_extension": ".py",
   "mimetype": "text/x-python",
   "name": "python",
   "nbconvert_exporter": "python",
   "pygments_lexer": "ipython3",
   "version": "3.7.3"
  },
  "toc": {
   "base_numbering": 1,
   "nav_menu": {},
   "number_sections": true,
   "sideBar": true,
   "skip_h1_title": false,
   "title_cell": "Table of Contents",
   "title_sidebar": "Contents",
   "toc_cell": false,
   "toc_position": {
    "height": "calc(100% - 180px)",
    "left": "10px",
    "top": "150px",
    "width": "279px"
   },
   "toc_section_display": true,
   "toc_window_display": true
  },
  "varInspector": {
   "cols": {
    "lenName": 16,
    "lenType": 16,
    "lenVar": 40
   },
   "kernels_config": {
    "python": {
     "delete_cmd_postfix": "",
     "delete_cmd_prefix": "del ",
     "library": "var_list.py",
     "varRefreshCmd": "print(var_dic_list())"
    },
    "r": {
     "delete_cmd_postfix": ") ",
     "delete_cmd_prefix": "rm(",
     "library": "var_list.r",
     "varRefreshCmd": "cat(var_dic_list()) "
    }
   },
   "position": {
    "height": "534px",
    "left": "1529px",
    "right": "20px",
    "top": "120px",
    "width": "371px"
   },
   "types_to_exclude": [
    "module",
    "function",
    "builtin_function_or_method",
    "instance",
    "_Feature"
   ],
   "window_display": false
  }
 },
 "nbformat": 4,
 "nbformat_minor": 2
}
