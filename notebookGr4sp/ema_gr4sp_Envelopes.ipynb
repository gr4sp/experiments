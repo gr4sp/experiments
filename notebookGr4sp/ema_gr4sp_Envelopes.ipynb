{
 "cells": [
  {
   "cell_type": "markdown",
   "metadata": {},
   "source": [
    "## Initial setup\n",
    "This analysis using ema is based on the work of Enayat A. Moallemi created on 22 May 2018 at the Fraunhofer ISI, Karlsruhe. In that instance, the analysis was done for the MATISSE model."
   ]
  },
  {
   "cell_type": "code",
   "execution_count": 26,
   "metadata": {
    "ExecuteTime": {
     "end_time": "2020-07-20T09:36:23.286714Z",
     "start_time": "2020-07-20T09:36:23.282517Z"
    },
    "pycharm": {
     "name": "#%%\n"
    }
   },
   "outputs": [],
   "source": [
    "\n",
    "'''\n",
    "Based on Enayat A. Moallemi version from May 2018\n",
    "\n",
    "edited by Angela M. Rojas A. <angelara@student.unimelb.edu.au>\n",
    "\n",
    "Created on 18 December 2019\n",
    "\n",
    "'''\n",
    "import sys\n",
    "import os\n",
    "\n",
    "sys.path.append(r'C:\\Users\\angel\\Documents\\GitHub\\gr4sp\\experiments\\EMAworkbench')\n",
    "\n",
    "sys.path.append(r'C:\\Users\\angel\\Documents\\GitHub\\gr4sp\\experiments')\n",
    "\n",
    "#from ema_workbench.analysis.plotting_util import BOXPLOT, KDE, VIOLIN\n",
    "from EMAworkbench.ema_workbench.analysis.plotting import envelopes\n",
    "import matplotlib.pyplot as plt\n",
    "import numpy as np\n",
    "import pandas as pd\n",
    "import matplotlib.cm as cm\n",
    "import seaborn as sns\n",
    "from EMAworkbench.ema_workbench.analysis import prim\n",
    "#import pareto\n",
    "import os\n",
    "import glob\n",
    "import numpy as np\n",
    "import pandas as pd\n",
    "import os\n",
    "import glob\n",
    "\n"
   ]
  },
  {
   "cell_type": "markdown",
   "metadata": {},
   "source": [
    "## Load the results"
   ]
  },
  {
   "cell_type": "code",
   "execution_count": 27,
   "metadata": {
    "ExecuteTime": {
     "end_time": "2020-07-20T09:36:43.134376Z",
     "start_time": "2020-07-20T09:36:23.681979Z"
    },
    "pycharm": {
     "name": "#%%\n"
    }
   },
   "outputs": [],
   "source": [
    "from EMAworkbench.ema_workbench import load_results\n",
    "\n",
    "results = load_results(r'C:\\Users\\angel\\Documents\\GitHub\\gr4sp\\experiments\\simulationData\\gr4sp_2020-Jul-11-SOBOL.tar.gz')\n"
   ]
  },
  {
   "cell_type": "code",
   "execution_count": 28,
   "metadata": {
    "ExecuteTime": {
     "end_time": "2020-07-20T09:36:43.266027Z",
     "start_time": "2020-07-20T09:36:43.262034Z"
    },
    "pycharm": {
     "name": "#%%\n"
    }
   },
   "outputs": [],
   "source": [
    "experiments, outcomes = results\n",
    "\n",
    "# Create a temporary copy of dictionary, with Outcomes Year\n",
    "outcomesYear = dict(outcomes)\n",
    "\n",
    "keysToRemove = [] \n",
    "# Iterate over the temporary dictionary and delete corresponding key from original dictionary\n",
    "for (key, value) in outcomesYear.items() :\n",
    "    if 'Month' in key:\n",
    "        keysToRemove.append(key)\n",
    "        \n",
    "for k in keysToRemove:        \n",
    "    del outcomesYear[k]   \n",
    "    \n",
    "        "
   ]
  },
  {
   "cell_type": "code",
   "execution_count": 29,
   "metadata": {
    "ExecuteTime": {
     "end_time": "2020-07-20T09:36:43.443566Z",
     "start_time": "2020-07-20T09:36:43.403672Z"
    },
    "pycharm": {
     "name": "#%%\n"
    },
    "scrolled": true
   },
   "outputs": [
    {
     "name": "stdout",
     "output_type": "stream",
     "text": [
      "<class 'pandas.core.frame.DataFrame'>\n",
      "RangeIndex: 49152 entries, 0 to 49151\n",
      "Data columns (total 26 columns):\n",
      "annualCpi                         49152 non-null float64\n",
      "annualInflation                   49152 non-null float64\n",
      "capacityFactorChangeBrownCoal     49152 non-null float64\n",
      "capacityFactorChangeWater         49152 non-null float64\n",
      "consumption                       49152 non-null float64\n",
      "energyEfficiency                  49152 non-null float64\n",
      "generationRolloutPeriod           49152 non-null float64\n",
      "generatorRetirement               49152 non-null float64\n",
      "includePublicallyAnnouncedGen     49152 non-null float64\n",
      "learningCurve                     49152 non-null float64\n",
      "nonScheduleGenSpotMarket          49152 non-null float64\n",
      "nonScheduleMinCapMarketGen        49152 non-null float64\n",
      "priceChangePercentageBrownCoal    49152 non-null float64\n",
      "priceChangePercentageOcgt         49152 non-null float64\n",
      "priceChangePercentageWater        49152 non-null float64\n",
      "priceChangePercentageWind         49152 non-null float64\n",
      "rooftopPV                         49152 non-null float64\n",
      "scheduleMinCapMarketGen           49152 non-null float64\n",
      "semiScheduleGenSpotMarket         49152 non-null float64\n",
      "semiScheduleMinCapMarketGen       49152 non-null float64\n",
      "solarUptake                       49152 non-null float64\n",
      "technologicalImprovement          49152 non-null float64\n",
      "wholesaleTariffContribution       49152 non-null float64\n",
      "scenario                          49152 non-null category\n",
      "policy                            49152 non-null category\n",
      "model                             49152 non-null category\n",
      "dtypes: category(3), float64(23)\n",
      "memory usage: 10.5 MB\n"
     ]
    }
   ],
   "source": [
    "experiments.info()"
   ]
  },
  {
   "cell_type": "code",
   "execution_count": 30,
   "metadata": {
    "ExecuteTime": {
     "end_time": "2020-07-20T09:36:43.718828Z",
     "start_time": "2020-07-20T09:36:43.579204Z"
    }
   },
   "outputs": [
    {
     "data": {
      "text/html": [
       "<div>\n",
       "<style scoped>\n",
       "    .dataframe tbody tr th:only-of-type {\n",
       "        vertical-align: middle;\n",
       "    }\n",
       "\n",
       "    .dataframe tbody tr th {\n",
       "        vertical-align: top;\n",
       "    }\n",
       "\n",
       "    .dataframe thead th {\n",
       "        text-align: right;\n",
       "    }\n",
       "</style>\n",
       "<table border=\"1\" class=\"dataframe\">\n",
       "  <thead>\n",
       "    <tr style=\"text-align: right;\">\n",
       "      <th></th>\n",
       "      <th>annualCpi</th>\n",
       "      <th>annualInflation</th>\n",
       "      <th>capacityFactorChangeBrownCoal</th>\n",
       "      <th>capacityFactorChangeWater</th>\n",
       "      <th>consumption</th>\n",
       "      <th>energyEfficiency</th>\n",
       "      <th>generationRolloutPeriod</th>\n",
       "      <th>generatorRetirement</th>\n",
       "      <th>includePublicallyAnnouncedGen</th>\n",
       "      <th>learningCurve</th>\n",
       "      <th>...</th>\n",
       "      <th>priceChangePercentageOcgt</th>\n",
       "      <th>priceChangePercentageWater</th>\n",
       "      <th>priceChangePercentageWind</th>\n",
       "      <th>rooftopPV</th>\n",
       "      <th>scheduleMinCapMarketGen</th>\n",
       "      <th>semiScheduleGenSpotMarket</th>\n",
       "      <th>semiScheduleMinCapMarketGen</th>\n",
       "      <th>solarUptake</th>\n",
       "      <th>technologicalImprovement</th>\n",
       "      <th>wholesaleTariffContribution</th>\n",
       "    </tr>\n",
       "  </thead>\n",
       "  <tbody>\n",
       "    <tr>\n",
       "      <th>count</th>\n",
       "      <td>49152.000000</td>\n",
       "      <td>49152.000000</td>\n",
       "      <td>49152.000000</td>\n",
       "      <td>49152.000000</td>\n",
       "      <td>49152.000000</td>\n",
       "      <td>49152.000000</td>\n",
       "      <td>49152.000000</td>\n",
       "      <td>49152.000000</td>\n",
       "      <td>49152.000000</td>\n",
       "      <td>49152.000000</td>\n",
       "      <td>...</td>\n",
       "      <td>49152.000000</td>\n",
       "      <td>49152.000000</td>\n",
       "      <td>49152.000000</td>\n",
       "      <td>49152.000000</td>\n",
       "      <td>49152.000000</td>\n",
       "      <td>49152.000000</td>\n",
       "      <td>49152.000000</td>\n",
       "      <td>49152.000000</td>\n",
       "      <td>49152.000000</td>\n",
       "      <td>49152.000000</td>\n",
       "    </tr>\n",
       "    <tr>\n",
       "      <th>mean</th>\n",
       "      <td>0.030000</td>\n",
       "      <td>0.030009</td>\n",
       "      <td>-0.012695</td>\n",
       "      <td>-0.003418</td>\n",
       "      <td>2.002930</td>\n",
       "      <td>0.998535</td>\n",
       "      <td>4.997559</td>\n",
       "      <td>0.000000</td>\n",
       "      <td>0.500000</td>\n",
       "      <td>0.050013</td>\n",
       "      <td>...</td>\n",
       "      <td>-0.011719</td>\n",
       "      <td>0.010254</td>\n",
       "      <td>-0.008301</td>\n",
       "      <td>6.000488</td>\n",
       "      <td>19.999512</td>\n",
       "      <td>8.999023</td>\n",
       "      <td>15.063801</td>\n",
       "      <td>2.000000</td>\n",
       "      <td>0.049981</td>\n",
       "      <td>28.030273</td>\n",
       "    </tr>\n",
       "    <tr>\n",
       "      <th>std</th>\n",
       "      <td>0.011547</td>\n",
       "      <td>0.011547</td>\n",
       "      <td>6.058842</td>\n",
       "      <td>6.057041</td>\n",
       "      <td>1.415605</td>\n",
       "      <td>0.816404</td>\n",
       "      <td>3.160687</td>\n",
       "      <td>3.161229</td>\n",
       "      <td>0.500005</td>\n",
       "      <td>0.028866</td>\n",
       "      <td>...</td>\n",
       "      <td>17.607574</td>\n",
       "      <td>17.609114</td>\n",
       "      <td>17.609005</td>\n",
       "      <td>0.816405</td>\n",
       "      <td>6.057687</td>\n",
       "      <td>0.814908</td>\n",
       "      <td>8.631086</td>\n",
       "      <td>1.414918</td>\n",
       "      <td>0.028867</td>\n",
       "      <td>10.101496</td>\n",
       "    </tr>\n",
       "    <tr>\n",
       "      <th>min</th>\n",
       "      <td>0.010020</td>\n",
       "      <td>0.010020</td>\n",
       "      <td>-10.000000</td>\n",
       "      <td>-10.000000</td>\n",
       "      <td>0.000000</td>\n",
       "      <td>0.000000</td>\n",
       "      <td>0.000000</td>\n",
       "      <td>-5.000000</td>\n",
       "      <td>0.000000</td>\n",
       "      <td>0.000049</td>\n",
       "      <td>...</td>\n",
       "      <td>-30.000000</td>\n",
       "      <td>-30.000000</td>\n",
       "      <td>-30.000000</td>\n",
       "      <td>5.000000</td>\n",
       "      <td>10.000000</td>\n",
       "      <td>8.000000</td>\n",
       "      <td>0.114600</td>\n",
       "      <td>0.000000</td>\n",
       "      <td>0.000049</td>\n",
       "      <td>11.000000</td>\n",
       "    </tr>\n",
       "    <tr>\n",
       "      <th>25%</th>\n",
       "      <td>0.020010</td>\n",
       "      <td>0.020010</td>\n",
       "      <td>-5.000000</td>\n",
       "      <td>-5.000000</td>\n",
       "      <td>1.000000</td>\n",
       "      <td>0.000000</td>\n",
       "      <td>2.000000</td>\n",
       "      <td>-3.000000</td>\n",
       "      <td>0.000000</td>\n",
       "      <td>0.025024</td>\n",
       "      <td>...</td>\n",
       "      <td>-15.000000</td>\n",
       "      <td>-15.000000</td>\n",
       "      <td>-15.000000</td>\n",
       "      <td>5.000000</td>\n",
       "      <td>15.000000</td>\n",
       "      <td>8.000000</td>\n",
       "      <td>7.582300</td>\n",
       "      <td>1.000000</td>\n",
       "      <td>0.025024</td>\n",
       "      <td>19.000000</td>\n",
       "    </tr>\n",
       "    <tr>\n",
       "      <th>50%</th>\n",
       "      <td>0.030000</td>\n",
       "      <td>0.030000</td>\n",
       "      <td>0.000000</td>\n",
       "      <td>0.000000</td>\n",
       "      <td>2.000000</td>\n",
       "      <td>1.000000</td>\n",
       "      <td>5.000000</td>\n",
       "      <td>0.000000</td>\n",
       "      <td>0.500000</td>\n",
       "      <td>0.050000</td>\n",
       "      <td>...</td>\n",
       "      <td>0.000000</td>\n",
       "      <td>0.000000</td>\n",
       "      <td>0.000000</td>\n",
       "      <td>6.000000</td>\n",
       "      <td>20.000000</td>\n",
       "      <td>9.000000</td>\n",
       "      <td>15.050000</td>\n",
       "      <td>2.000000</td>\n",
       "      <td>0.050000</td>\n",
       "      <td>28.000000</td>\n",
       "    </tr>\n",
       "    <tr>\n",
       "      <th>75%</th>\n",
       "      <td>0.039990</td>\n",
       "      <td>0.039990</td>\n",
       "      <td>5.000000</td>\n",
       "      <td>5.000000</td>\n",
       "      <td>3.000000</td>\n",
       "      <td>2.000000</td>\n",
       "      <td>8.000000</td>\n",
       "      <td>3.000000</td>\n",
       "      <td>1.000000</td>\n",
       "      <td>0.074976</td>\n",
       "      <td>...</td>\n",
       "      <td>15.000000</td>\n",
       "      <td>15.000000</td>\n",
       "      <td>15.000000</td>\n",
       "      <td>7.000000</td>\n",
       "      <td>25.000000</td>\n",
       "      <td>10.000000</td>\n",
       "      <td>22.517700</td>\n",
       "      <td>3.000000</td>\n",
       "      <td>0.074976</td>\n",
       "      <td>37.000000</td>\n",
       "    </tr>\n",
       "    <tr>\n",
       "      <th>max</th>\n",
       "      <td>0.049980</td>\n",
       "      <td>0.049980</td>\n",
       "      <td>10.000000</td>\n",
       "      <td>10.000000</td>\n",
       "      <td>4.000000</td>\n",
       "      <td>2.000000</td>\n",
       "      <td>10.000000</td>\n",
       "      <td>5.000000</td>\n",
       "      <td>1.000000</td>\n",
       "      <td>0.099951</td>\n",
       "      <td>...</td>\n",
       "      <td>30.000000</td>\n",
       "      <td>30.000000</td>\n",
       "      <td>30.000000</td>\n",
       "      <td>7.000000</td>\n",
       "      <td>30.000000</td>\n",
       "      <td>10.000000</td>\n",
       "      <td>29.985400</td>\n",
       "      <td>4.000000</td>\n",
       "      <td>0.099951</td>\n",
       "      <td>45.000000</td>\n",
       "    </tr>\n",
       "  </tbody>\n",
       "</table>\n",
       "<p>8 rows × 23 columns</p>\n",
       "</div>"
      ],
      "text/plain": [
       "          annualCpi  annualInflation  capacityFactorChangeBrownCoal  \\\n",
       "count  49152.000000     49152.000000                   49152.000000   \n",
       "mean       0.030000         0.030009                      -0.012695   \n",
       "std        0.011547         0.011547                       6.058842   \n",
       "min        0.010020         0.010020                     -10.000000   \n",
       "25%        0.020010         0.020010                      -5.000000   \n",
       "50%        0.030000         0.030000                       0.000000   \n",
       "75%        0.039990         0.039990                       5.000000   \n",
       "max        0.049980         0.049980                      10.000000   \n",
       "\n",
       "       capacityFactorChangeWater   consumption  energyEfficiency  \\\n",
       "count               49152.000000  49152.000000      49152.000000   \n",
       "mean                   -0.003418      2.002930          0.998535   \n",
       "std                     6.057041      1.415605          0.816404   \n",
       "min                   -10.000000      0.000000          0.000000   \n",
       "25%                    -5.000000      1.000000          0.000000   \n",
       "50%                     0.000000      2.000000          1.000000   \n",
       "75%                     5.000000      3.000000          2.000000   \n",
       "max                    10.000000      4.000000          2.000000   \n",
       "\n",
       "       generationRolloutPeriod  generatorRetirement  \\\n",
       "count             49152.000000         49152.000000   \n",
       "mean                  4.997559             0.000000   \n",
       "std                   3.160687             3.161229   \n",
       "min                   0.000000            -5.000000   \n",
       "25%                   2.000000            -3.000000   \n",
       "50%                   5.000000             0.000000   \n",
       "75%                   8.000000             3.000000   \n",
       "max                  10.000000             5.000000   \n",
       "\n",
       "       includePublicallyAnnouncedGen  learningCurve  ...  \\\n",
       "count                   49152.000000   49152.000000  ...   \n",
       "mean                        0.500000       0.050013  ...   \n",
       "std                         0.500005       0.028866  ...   \n",
       "min                         0.000000       0.000049  ...   \n",
       "25%                         0.000000       0.025024  ...   \n",
       "50%                         0.500000       0.050000  ...   \n",
       "75%                         1.000000       0.074976  ...   \n",
       "max                         1.000000       0.099951  ...   \n",
       "\n",
       "       priceChangePercentageOcgt  priceChangePercentageWater  \\\n",
       "count               49152.000000                49152.000000   \n",
       "mean                   -0.011719                    0.010254   \n",
       "std                    17.607574                   17.609114   \n",
       "min                   -30.000000                  -30.000000   \n",
       "25%                   -15.000000                  -15.000000   \n",
       "50%                     0.000000                    0.000000   \n",
       "75%                    15.000000                   15.000000   \n",
       "max                    30.000000                   30.000000   \n",
       "\n",
       "       priceChangePercentageWind     rooftopPV  scheduleMinCapMarketGen  \\\n",
       "count               49152.000000  49152.000000             49152.000000   \n",
       "mean                   -0.008301      6.000488                19.999512   \n",
       "std                    17.609005      0.816405                 6.057687   \n",
       "min                   -30.000000      5.000000                10.000000   \n",
       "25%                   -15.000000      5.000000                15.000000   \n",
       "50%                     0.000000      6.000000                20.000000   \n",
       "75%                    15.000000      7.000000                25.000000   \n",
       "max                    30.000000      7.000000                30.000000   \n",
       "\n",
       "       semiScheduleGenSpotMarket  semiScheduleMinCapMarketGen   solarUptake  \\\n",
       "count               49152.000000                 49152.000000  49152.000000   \n",
       "mean                    8.999023                    15.063801      2.000000   \n",
       "std                     0.814908                     8.631086      1.414918   \n",
       "min                     8.000000                     0.114600      0.000000   \n",
       "25%                     8.000000                     7.582300      1.000000   \n",
       "50%                     9.000000                    15.050000      2.000000   \n",
       "75%                    10.000000                    22.517700      3.000000   \n",
       "max                    10.000000                    29.985400      4.000000   \n",
       "\n",
       "       technologicalImprovement  wholesaleTariffContribution  \n",
       "count              49152.000000                 49152.000000  \n",
       "mean                   0.049981                    28.030273  \n",
       "std                    0.028867                    10.101496  \n",
       "min                    0.000049                    11.000000  \n",
       "25%                    0.025024                    19.000000  \n",
       "50%                    0.050000                    28.000000  \n",
       "75%                    0.074976                    37.000000  \n",
       "max                    0.099951                    45.000000  \n",
       "\n",
       "[8 rows x 23 columns]"
      ]
     },
     "execution_count": 30,
     "metadata": {},
     "output_type": "execute_result"
    }
   ],
   "source": [
    "experiments.describe()"
   ]
  },
  {
   "cell_type": "code",
   "execution_count": 31,
   "metadata": {
    "ExecuteTime": {
     "end_time": "2020-07-20T09:36:43.875922Z",
     "start_time": "2020-07-20T09:36:43.869937Z"
    }
   },
   "outputs": [
    {
     "data": {
      "text/plain": [
       "dict_keys(['TIMEYear', 'consumptionYear', 'tariffsYear', 'wholesalePriceYear', 'GHGYear', 'numConsumersYear', 'primarySpotProductionYear', 'secondarySpotProductionYear', 'offSpotProductionYear', 'renewableContributionYear', 'rooftopPVProductionYear', 'coalProductionYear', 'waterProductionYear', 'windProductionYear', 'gasProductionYear', 'solarProductionYear', 'BatteryProductionYear', 'numActorsYear', 'seedExperimentCsv'])"
      ]
     },
     "execution_count": 31,
     "metadata": {},
     "output_type": "execute_result"
    }
   ],
   "source": [
    "outcomes.keys()"
   ]
  },
  {
   "cell_type": "code",
   "execution_count": 33,
   "metadata": {
    "ExecuteTime": {
     "end_time": "2020-07-20T09:36:52.759225Z",
     "start_time": "2020-07-20T09:36:52.755192Z"
    },
    "pycharm": {
     "name": "#%%\n"
    }
   },
   "outputs": [],
   "source": [
    "outcomes_to_show = ['consumptionYear', 'tariffsYear', 'wholesalePriceYear', 'GHGYear', \n",
    "                    'primarySpotProductionYear', 'secondarySpotProductionYear', \n",
    "                    'offSpotProductionYear', 'renewableContributionYear', 'rooftopPVProductionYear', \n",
    "                    'coalProductionYear', 'waterProductionYear', 'windProductionYear', 'gasProductionYear', \n",
    "                    'solarProductionYear', 'BatteryProductionYear']\n",
    "\n",
    "\n",
    "uncertainties = experiments.columns[:-3]\n",
    "\n",
    "#from startYear\n",
    "\n",
    "\n",
    "simulationYears = outcomes['TIMEYear'][0, :]\n",
    "simulationYears_dateTime = pd.to_datetime(simulationYears, format = '%Y')\n",
    "\n",
    "startYear = simulationYears[0]\n",
    "\n",
    "points_of_interest = [ x - startYear for x in points_of_interest]\n",
    "\n",
    "\n",
    "\n"
   ]
  },
  {
   "cell_type": "markdown",
   "metadata": {},
   "source": [
    "## Envelopes"
   ]
  },
  {
   "cell_type": "code",
   "execution_count": 20,
   "metadata": {
    "ExecuteTime": {
     "end_time": "2020-07-20T09:24:18.921080Z",
     "start_time": "2020-07-20T09:24:14.021535Z"
    },
    "pycharm": {
     "is_executing": true,
     "name": "#%%\n"
    },
    "scrolled": true
   },
   "outputs": [
    {
     "data": {
      "image/png": "[encoded data removed]",
      "text/plain": [
       "<Figure size 1332x756 with 7 Axes>"
      ]
     },
     "metadata": {
      "needs_background": "light"
     },
     "output_type": "display_data"
    }
   ],
   "source": [
    "%matplotlib inline\n",
    "\n",
    "from EMAworkbench.ema_workbench.analysis.plotting import multiple_densities, PlotType\n",
    "from EMAworkbench.ema_workbench.analysis.plotting_util import Density \n",
    "\n",
    "#Create envelope plot\n",
    "\n",
    "#l = 'semiScheduleGenSpotMarket'\n",
    "# group_by='rooftopPV', density = Density.KDE, grouping_specifiers={'residential', 'business', 'both'}\n",
    "# group_by='onsiteGeneration', density = Density.KDE, grouping_specifiers={'Central', 'Slow change', 'Fast change', 'Step change', 'High DER'}\n",
    "#, group_by=l\n",
    "\n",
    "for ooi in outcomes_to_show:\n",
    "    fig, ax_env = multiple_densities(experiments, outcomesYear, outcomes_to_show = ooi,\n",
    "                                     points_in_time=points_of_interest,\n",
    "                                     density = Density.KDE, grouping_specifiers=None , titles={ooi}, ylabels={ooi: ooi},\n",
    "                                     legend=True, fill=True, plot_type=PlotType.ENVELOPE)\n",
    "\n",
    "\n",
    "    fig[0].suptitle(\"{}\".format(ooi), fontsize=15)\n",
    "    fig[0].set_size_inches(18.5, 10.5)\n",
    "    ax_env[ooi]['main plot'].set_xticklabels(simulationYears[range(0,len(simulationYears),10)])\n",
    "\n",
    "    plt.savefig('{}/fig{}.png'.format(r'C:\\\\Users\\\\angel\\\\Documents\\\\GitHub\\\\gr4sp\\\\experiments\\\\notebookGr4sp\\\\outputs\\\\figs', '_envelope_density_%s'%(ooi)),\n",
    "                dpi=300, bbox_inches='tight')\n",
    "    fig, ax_env = multiple_densities(experiments, outcomesYear, outcomes_to_show = ooi,\n",
    "                                     points_in_time=points_of_interest,\n",
    "                                     density = Density.HIST, grouping_specifiers=None , titles={ooi}, ylabels={ooi: ooi},\n",
    "                                     legend=True, fill=False, plot_type=PlotType.ENV_LIN)\n",
    "    \n",
    "    \n",
    "    fig[0].suptitle(\"{}\".format(ooi), fontsize=15)\n",
    "    fig[0].set_size_inches(18.5, 10.5)\n",
    "    ax_env[ooi]['main plot'].set_xticklabels(simulationYears[range(0,len(simulationYears),5)])\n",
    "    \n",
    "    plt.savefig('{}/fig{}.png'.format(r'C:\\\\Users\\\\angel\\\\Documents\\\\GitHub\\\\gr4sp\\\\experiments\\\\notebookGr4sp\\\\outputs\\\\figs', '_envelope_line_density_%s'%(ooi)),\n",
    "                dpi=300, bbox_inches='tight')\n",
    "    \n"
   ]
  },
  {
   "cell_type": "code",
   "execution_count": null,
   "metadata": {
    "pycharm": {
     "name": "#%%\n"
    }
   },
   "outputs": [],
   "source": [
    "\n"
   ]
  }
 ],
 "metadata": {
  "kernelspec": {
   "display_name": "Python 3",
   "language": "python",
   "name": "python3"
  },
  "language_info": {
   "codemirror_mode": {
    "name": "ipython",
    "version": 3
   },
   "file_extension": ".py",
   "mimetype": "text/x-python",
   "name": "python",
   "nbconvert_exporter": "python",
   "pygments_lexer": "ipython3",
   "version": "3.7.3"
  },
  "toc": {
   "base_numbering": 1,
   "nav_menu": {},
   "number_sections": true,
   "sideBar": true,
   "skip_h1_title": false,
   "title_cell": "Table of Contents",
   "title_sidebar": "Contents",
   "toc_cell": false,
   "toc_position": {
    "height": "calc(100% - 180px)",
    "left": "10px",
    "top": "150px",
    "width": "279px"
   },
   "toc_section_display": true,
   "toc_window_display": true
  },
  "varInspector": {
   "cols": {
    "lenName": 16,
    "lenType": 16,
    "lenVar": 40
   },
   "kernels_config": {
    "python": {
     "delete_cmd_postfix": "",
     "delete_cmd_prefix": "del ",
     "library": "var_list.py",
     "varRefreshCmd": "print(var_dic_list())"
    },
    "r": {
     "delete_cmd_postfix": ") ",
     "delete_cmd_prefix": "rm(",
     "library": "var_list.r",
     "varRefreshCmd": "cat(var_dic_list()) "
    }
   },
   "position": {
    "height": "534px",
    "left": "1529px",
    "right": "20px",
    "top": "120px",
    "width": "371px"
   },
   "types_to_exclude": [
    "module",
    "function",
    "builtin_function_or_method",
    "instance",
    "_Feature"
   ],
   "window_display": true
  }
 },
 "nbformat": 4,
 "nbformat_minor": 2
}